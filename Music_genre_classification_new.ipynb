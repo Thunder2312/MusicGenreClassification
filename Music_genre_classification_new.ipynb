{
  "cells": [
    {
      "cell_type": "markdown",
      "metadata": {
        "id": "cNnM2w-HCeb1"
      },
      "source": [
        "# Music genre classification notebook"
      ]
    },
    {
      "cell_type": "markdown",
      "metadata": {
        "id": "2l3sppZMCydR"
      },
      "source": [
        "## Importing Libraries"
      ]
    },
    {
      "cell_type": "code",
      "execution_count": null,
      "metadata": {
        "id": "Gt3fyg6dCNvX"
      },
      "outputs": [],
      "source": [
        "# feature extracting and preprocessing data\n",
        "import librosa\n",
        "import pandas as pd\n",
        "import numpy as np\n",
        "import matplotlib.pyplot as plt\n",
        "%matplotlib inline\n",
        "import os\n",
        "from PIL import Image\n",
        "import pathlib\n",
        "import csv\n",
        "\n",
        "# Preprocessing\n",
        "from sklearn.model_selection import train_test_split\n",
        "from sklearn.preprocessing import LabelEncoder, StandardScaler\n",
        "\n",
        "#Keras\n",
        "import tensorflow\n",
        "import keras\n",
        "import pickle\n",
        "import warnings\n",
        "warnings.filterwarnings('ignore')"
      ]
    },
    {
      "cell_type": "markdown",
      "metadata": {
        "id": "DPe_ebYuDqr5"
      },
      "source": [
        "## Extracting music and features\n",
        "\n",
        "### Dataset\n",
        "\n",
        "We use [GTZAN genre collection](http://marsyasweb.appspot.com/download/data_sets/) and Indian Music Genre dataset for classification. \n",
        "<br>\n",
        "<br>\n",
        "The GTZAN dataset consists of 10 genres i.e\n",
        " * Blues\n",
        " * Classical\n",
        " * Country\n",
        " * Disco\n",
        " * Hiphop\n",
        " * Jazz\n",
        " * Metal\n",
        " * Pop\n",
        " * Reggae\n",
        " * Rock\n",
        "\n",
        "And the Indian Music Genre dataset consists of 5 genres i.e.\n",
        " * Bollypop\n",
        " * Ghazal\n",
        " * Sufi\n",
        " * Semiclassical\n",
        " * Carnatic\n",
        "\n",
        "Each genre contains 100 songs. Total dataset: 1500 songs"
      ]
    },
    {
      "cell_type": "markdown",
      "metadata": {
        "id": "neqMS0VoDpN5"
      },
      "source": []
    },
    {
      "cell_type": "markdown",
      "metadata": {
        "id": "AfBSVfRCD3PE"
      },
      "source": [
        "## Extracting the Spectrogram for every Audio"
      ]
    },
    {
      "cell_type": "code",
      "execution_count": null,
      "metadata": {
        "id": "BHh3pTEVDdrT",
        "outputId": "b2c19a6a-9e3e-4072-ce24-03f487443755"
      },
      "outputs": [
        {
          "name": "stderr",
          "output_type": "stream",
          "text": [
            "\n",
            "KeyboardInterrupt\n",
            "\n"
          ]
        },
        {
          "name": "stdout",
          "output_type": "stream",
          "text": [
            "Error in callback <function flush_figures at 0x0000014B7300E310> (for post_execute):\n"
          ]
        }
      ],
      "source": [
        "cmap = plt.get_cmap('inferno')\n",
        "\n",
        "plt.figure(figsize=(10,10))\n",
        "genres = 'blues bollypop carnatic classical country disco ghazal hiphop jazz metal pop reggae rock semiclassical sufi'.split()\n",
        "for g in genres:\n",
        "    pathlib.Path(f'img_data/{g}').mkdir(parents=True, exist_ok=True)     \n",
        "    for filename in os.listdir(f'./genres/{g}'):\n",
        "        songname = f'./genres/{g}/{filename}'\n",
        "        y, sr = librosa.load(songname, mono=True, duration=5)\n",
        "        plt.specgram(y, NFFT=2048, Fs=2, Fc=0, noverlap=128, cmap=cmap, sides='default', mode='default', scale='dB');\n",
        "        plt.axis('off');\n",
        "        plt.savefig(f'img_data/{g}/{filename[:-3].replace(\".\", \"\")}.png')\n",
        "        plt.clf()\n",
        " "
      ]
    },
    {
      "cell_type": "markdown",
      "metadata": {
        "id": "SszVgjYnFNX9"
      },
      "source": [
        "All the audio files get converted into their respective spectrograms. We can now easily extract features from them."
      ]
    },
    {
      "cell_type": "markdown",
      "metadata": {
        "id": "3Nw9HpSdFRsW"
      },
      "source": []
    },
    {
      "cell_type": "markdown",
      "metadata": {
        "id": "piwUwgP5Eef9"
      },
      "source": [
        "## Extracting features from Spectrogram\n",
        "\n",
        "\n",
        "We will extract\n",
        "\n",
        "* Mel-frequency cepstral coefficients (MFCC)(20 in number)\n",
        "* Spectral Centroid,\n",
        "* Spectral Bandwidth,\n",
        "* Zero Crossing Rate\n",
        "* Chroma Frequencies\n",
        "* Spectral Roll-off."
      ]
    },
    {
      "cell_type": "code",
      "execution_count": null,
      "metadata": {
        "id": "__g8tX8pDeIL"
      },
      "outputs": [],
      "source": [
        "header = 'filename tempo chroma_stft rmse spectral_centroid spectral_bandwidth rolloff zero_crossing_rate'\n",
        "for i in range(1, 21):\n",
        "    header += f' mfcc{i}'\n",
        "header += ' label'\n",
        "header = header.split()"
      ]
    },
    {
      "cell_type": "markdown",
      "metadata": {
        "id": "TBlT448pEqR9"
      },
      "source": [
        "## Writing data to csv file\n",
        "\n",
        "We write the data to a csv file "
      ]
    },
    {
      "cell_type": "code",
      "execution_count": null,
      "metadata": {
        "id": "ZsSQmB0PE3Iu"
      },
      "outputs": [],
      "source": [
        "file = open('data.csv', 'w', newline='')\n",
        "with file:\n",
        "    writer = csv.writer(file)\n",
        "    writer.writerow(header)\n",
        "genres = 'blues bollypop carnatic classical country disco ghazal hiphop jazz metal pop reggae rock semiclassical sufi'.split()\n",
        "for g in genres:\n",
        "    for filename in os.listdir(f'./genres/{g}'):\n",
        "        songname = f'./genres/{g}/{filename}'\n",
        "        y, sr = librosa.load(songname, mono=True, duration=30)\n",
        "        tempo, beat_frames = librosa.beat.beat_track(y=y, sr=sr)\n",
        "        beat_times = librosa.frames_to_time(beat_frames, sr=sr)\n",
        "        chroma_stft = librosa.feature.chroma_stft(y=y, sr=sr)\n",
        "        spec_cent = librosa.feature.spectral_centroid(y=y, sr=sr)\n",
        "        rmse = np.sqrt(librosa.feature.rms(y=y))\n",
        "        spec_bw = librosa.feature.spectral_bandwidth(y=y, sr=sr)\n",
        "        rolloff = librosa.feature.spectral_rolloff(y=y, sr=sr)\n",
        "        zcr = librosa.feature.zero_crossing_rate(y)\n",
        "        mfcc = librosa.feature.mfcc(y=y, sr=sr)\n",
        "        to_append = f'{filename} {np.mean(beat_times)} {np.mean(chroma_stft)} {np.mean(rmse)} {np.mean(spec_cent)} {np.mean(spec_bw)} {np.mean(rolloff)} {np.mean(zcr)}'    \n",
        "        for e in mfcc:\n",
        "            to_append += f' {np.mean(e)}'\n",
        "        to_append += f' {g}'\n",
        "        file = open('data.csv', 'a', newline='')\n",
        "        with file:\n",
        "            writer = csv.writer(file)\n",
        "            writer.writerow(to_append.split())"
      ]
    },
    {
      "cell_type": "markdown",
      "metadata": {
        "id": "0yfdo1cj6V7d"
      },
      "source": [
        "The data has been extracted into a data.csv file."
      ]
    },
    {
      "cell_type": "markdown",
      "metadata": {
        "id": "fgeCZSKQEp1A"
      },
      "source": [
        "# Analysing the Data in Pandas"
      ]
    },
    {
      "cell_type": "code",
      "execution_count": null,
      "metadata": {
        "colab": {
          "base_uri": "https://localhost:8080/",
          "height": 299
        },
        "id": "Kr5_EdpD9dyh",
        "outputId": "fe1276d1-2dad-4c01-bf60-0331e931fa1a"
      },
      "outputs": [
        {
          "output_type": "execute_result",
          "data": {
            "text/plain": [
              "          filename       tempo  chroma_stft      rmse  spectral_centroid  \\\n",
              "0  blues.00000.wav  123.046875     0.349943  0.353032        1784.420446   \n",
              "1  blues.00001.wav   67.999589     0.340983  0.297381        1529.835316   \n",
              "2  blues.00002.wav  161.499023     0.363603  0.414141        1552.481958   \n",
              "3  blues.00003.wav   63.024009     0.404779  0.358998        1070.119953   \n",
              "4  blues.00004.wav  135.999178     0.308590  0.291960        1835.494603   \n",
              "\n",
              "   spectral_bandwidth      rolloff  zero_crossing_rate       mfcc1  \\\n",
              "0         2002.650192  3806.485316            0.083066 -113.596748   \n",
              "1         2038.617579  3548.820207            0.056044 -207.556793   \n",
              "2         1747.165985  3040.514948            0.076301  -90.754387   \n",
              "3         1596.333948  2185.028454            0.033309 -199.431152   \n",
              "4         1748.362448  3580.945013            0.101500 -160.266037   \n",
              "\n",
              "        mfcc2  ...    mfcc12    mfcc13    mfcc14    mfcc15    mfcc16  \\\n",
              "0  121.557297  ...  8.810669 -3.667368  5.751691 -5.162763  0.750948   \n",
              "1  124.006721  ...  5.376803 -2.239120  4.216963 -6.012273  0.936109   \n",
              "2  140.459900  ...  5.789265 -8.905224 -1.083720 -9.218359  2.455806   \n",
              "3  150.099213  ...  6.087676 -2.476421 -1.073890 -2.874778  0.780977   \n",
              "4  126.198807  ... -2.806383 -6.934123 -7.558618 -9.173553 -4.512165   \n",
              "\n",
              "     mfcc17    mfcc18    mfcc19     mfcc20  label  \n",
              "0 -1.691938 -0.409953 -2.300209   1.219929  blues  \n",
              "1 -0.716537  0.293876 -0.287431   0.531573  blues  \n",
              "2 -7.726901 -1.815723 -3.433434  -2.226821  blues  \n",
              "3 -3.316932  0.637982 -0.619690  -3.408233  blues  \n",
              "4 -5.453538 -0.924161 -4.409333 -11.703781  blues  \n",
              "\n",
              "[5 rows x 29 columns]"
            ],
            "text/html": [
              "\n",
              "  <div id=\"df-d4bf5f8f-dbb8-4b88-8d9c-ea4fd10bd04e\">\n",
              "    <div class=\"colab-df-container\">\n",
              "      <div>\n",
              "<style scoped>\n",
              "    .dataframe tbody tr th:only-of-type {\n",
              "        vertical-align: middle;\n",
              "    }\n",
              "\n",
              "    .dataframe tbody tr th {\n",
              "        vertical-align: top;\n",
              "    }\n",
              "\n",
              "    .dataframe thead th {\n",
              "        text-align: right;\n",
              "    }\n",
              "</style>\n",
              "<table border=\"1\" class=\"dataframe\">\n",
              "  <thead>\n",
              "    <tr style=\"text-align: right;\">\n",
              "      <th></th>\n",
              "      <th>filename</th>\n",
              "      <th>tempo</th>\n",
              "      <th>chroma_stft</th>\n",
              "      <th>rmse</th>\n",
              "      <th>spectral_centroid</th>\n",
              "      <th>spectral_bandwidth</th>\n",
              "      <th>rolloff</th>\n",
              "      <th>zero_crossing_rate</th>\n",
              "      <th>mfcc1</th>\n",
              "      <th>mfcc2</th>\n",
              "      <th>...</th>\n",
              "      <th>mfcc12</th>\n",
              "      <th>mfcc13</th>\n",
              "      <th>mfcc14</th>\n",
              "      <th>mfcc15</th>\n",
              "      <th>mfcc16</th>\n",
              "      <th>mfcc17</th>\n",
              "      <th>mfcc18</th>\n",
              "      <th>mfcc19</th>\n",
              "      <th>mfcc20</th>\n",
              "      <th>label</th>\n",
              "    </tr>\n",
              "  </thead>\n",
              "  <tbody>\n",
              "    <tr>\n",
              "      <th>0</th>\n",
              "      <td>blues.00000.wav</td>\n",
              "      <td>123.046875</td>\n",
              "      <td>0.349943</td>\n",
              "      <td>0.353032</td>\n",
              "      <td>1784.420446</td>\n",
              "      <td>2002.650192</td>\n",
              "      <td>3806.485316</td>\n",
              "      <td>0.083066</td>\n",
              "      <td>-113.596748</td>\n",
              "      <td>121.557297</td>\n",
              "      <td>...</td>\n",
              "      <td>8.810669</td>\n",
              "      <td>-3.667368</td>\n",
              "      <td>5.751691</td>\n",
              "      <td>-5.162763</td>\n",
              "      <td>0.750948</td>\n",
              "      <td>-1.691938</td>\n",
              "      <td>-0.409953</td>\n",
              "      <td>-2.300209</td>\n",
              "      <td>1.219929</td>\n",
              "      <td>blues</td>\n",
              "    </tr>\n",
              "    <tr>\n",
              "      <th>1</th>\n",
              "      <td>blues.00001.wav</td>\n",
              "      <td>67.999589</td>\n",
              "      <td>0.340983</td>\n",
              "      <td>0.297381</td>\n",
              "      <td>1529.835316</td>\n",
              "      <td>2038.617579</td>\n",
              "      <td>3548.820207</td>\n",
              "      <td>0.056044</td>\n",
              "      <td>-207.556793</td>\n",
              "      <td>124.006721</td>\n",
              "      <td>...</td>\n",
              "      <td>5.376803</td>\n",
              "      <td>-2.239120</td>\n",
              "      <td>4.216963</td>\n",
              "      <td>-6.012273</td>\n",
              "      <td>0.936109</td>\n",
              "      <td>-0.716537</td>\n",
              "      <td>0.293876</td>\n",
              "      <td>-0.287431</td>\n",
              "      <td>0.531573</td>\n",
              "      <td>blues</td>\n",
              "    </tr>\n",
              "    <tr>\n",
              "      <th>2</th>\n",
              "      <td>blues.00002.wav</td>\n",
              "      <td>161.499023</td>\n",
              "      <td>0.363603</td>\n",
              "      <td>0.414141</td>\n",
              "      <td>1552.481958</td>\n",
              "      <td>1747.165985</td>\n",
              "      <td>3040.514948</td>\n",
              "      <td>0.076301</td>\n",
              "      <td>-90.754387</td>\n",
              "      <td>140.459900</td>\n",
              "      <td>...</td>\n",
              "      <td>5.789265</td>\n",
              "      <td>-8.905224</td>\n",
              "      <td>-1.083720</td>\n",
              "      <td>-9.218359</td>\n",
              "      <td>2.455806</td>\n",
              "      <td>-7.726901</td>\n",
              "      <td>-1.815723</td>\n",
              "      <td>-3.433434</td>\n",
              "      <td>-2.226821</td>\n",
              "      <td>blues</td>\n",
              "    </tr>\n",
              "    <tr>\n",
              "      <th>3</th>\n",
              "      <td>blues.00003.wav</td>\n",
              "      <td>63.024009</td>\n",
              "      <td>0.404779</td>\n",
              "      <td>0.358998</td>\n",
              "      <td>1070.119953</td>\n",
              "      <td>1596.333948</td>\n",
              "      <td>2185.028454</td>\n",
              "      <td>0.033309</td>\n",
              "      <td>-199.431152</td>\n",
              "      <td>150.099213</td>\n",
              "      <td>...</td>\n",
              "      <td>6.087676</td>\n",
              "      <td>-2.476421</td>\n",
              "      <td>-1.073890</td>\n",
              "      <td>-2.874778</td>\n",
              "      <td>0.780977</td>\n",
              "      <td>-3.316932</td>\n",
              "      <td>0.637982</td>\n",
              "      <td>-0.619690</td>\n",
              "      <td>-3.408233</td>\n",
              "      <td>blues</td>\n",
              "    </tr>\n",
              "    <tr>\n",
              "      <th>4</th>\n",
              "      <td>blues.00004.wav</td>\n",
              "      <td>135.999178</td>\n",
              "      <td>0.308590</td>\n",
              "      <td>0.291960</td>\n",
              "      <td>1835.494603</td>\n",
              "      <td>1748.362448</td>\n",
              "      <td>3580.945013</td>\n",
              "      <td>0.101500</td>\n",
              "      <td>-160.266037</td>\n",
              "      <td>126.198807</td>\n",
              "      <td>...</td>\n",
              "      <td>-2.806383</td>\n",
              "      <td>-6.934123</td>\n",
              "      <td>-7.558618</td>\n",
              "      <td>-9.173553</td>\n",
              "      <td>-4.512165</td>\n",
              "      <td>-5.453538</td>\n",
              "      <td>-0.924161</td>\n",
              "      <td>-4.409333</td>\n",
              "      <td>-11.703781</td>\n",
              "      <td>blues</td>\n",
              "    </tr>\n",
              "  </tbody>\n",
              "</table>\n",
              "<p>5 rows × 29 columns</p>\n",
              "</div>\n",
              "      <button class=\"colab-df-convert\" onclick=\"convertToInteractive('df-d4bf5f8f-dbb8-4b88-8d9c-ea4fd10bd04e')\"\n",
              "              title=\"Convert this dataframe to an interactive table.\"\n",
              "              style=\"display:none;\">\n",
              "        \n",
              "  <svg xmlns=\"http://www.w3.org/2000/svg\" height=\"24px\"viewBox=\"0 0 24 24\"\n",
              "       width=\"24px\">\n",
              "    <path d=\"M0 0h24v24H0V0z\" fill=\"none\"/>\n",
              "    <path d=\"M18.56 5.44l.94 2.06.94-2.06 2.06-.94-2.06-.94-.94-2.06-.94 2.06-2.06.94zm-11 1L8.5 8.5l.94-2.06 2.06-.94-2.06-.94L8.5 2.5l-.94 2.06-2.06.94zm10 10l.94 2.06.94-2.06 2.06-.94-2.06-.94-.94-2.06-.94 2.06-2.06.94z\"/><path d=\"M17.41 7.96l-1.37-1.37c-.4-.4-.92-.59-1.43-.59-.52 0-1.04.2-1.43.59L10.3 9.45l-7.72 7.72c-.78.78-.78 2.05 0 2.83L4 21.41c.39.39.9.59 1.41.59.51 0 1.02-.2 1.41-.59l7.78-7.78 2.81-2.81c.8-.78.8-2.07 0-2.86zM5.41 20L4 18.59l7.72-7.72 1.47 1.35L5.41 20z\"/>\n",
              "  </svg>\n",
              "      </button>\n",
              "      \n",
              "  <style>\n",
              "    .colab-df-container {\n",
              "      display:flex;\n",
              "      flex-wrap:wrap;\n",
              "      gap: 12px;\n",
              "    }\n",
              "\n",
              "    .colab-df-convert {\n",
              "      background-color: #E8F0FE;\n",
              "      border: none;\n",
              "      border-radius: 50%;\n",
              "      cursor: pointer;\n",
              "      display: none;\n",
              "      fill: #1967D2;\n",
              "      height: 32px;\n",
              "      padding: 0 0 0 0;\n",
              "      width: 32px;\n",
              "    }\n",
              "\n",
              "    .colab-df-convert:hover {\n",
              "      background-color: #E2EBFA;\n",
              "      box-shadow: 0px 1px 2px rgba(60, 64, 67, 0.3), 0px 1px 3px 1px rgba(60, 64, 67, 0.15);\n",
              "      fill: #174EA6;\n",
              "    }\n",
              "\n",
              "    [theme=dark] .colab-df-convert {\n",
              "      background-color: #3B4455;\n",
              "      fill: #D2E3FC;\n",
              "    }\n",
              "\n",
              "    [theme=dark] .colab-df-convert:hover {\n",
              "      background-color: #434B5C;\n",
              "      box-shadow: 0px 1px 3px 1px rgba(0, 0, 0, 0.15);\n",
              "      filter: drop-shadow(0px 1px 2px rgba(0, 0, 0, 0.3));\n",
              "      fill: #FFFFFF;\n",
              "    }\n",
              "  </style>\n",
              "\n",
              "      <script>\n",
              "        const buttonEl =\n",
              "          document.querySelector('#df-d4bf5f8f-dbb8-4b88-8d9c-ea4fd10bd04e button.colab-df-convert');\n",
              "        buttonEl.style.display =\n",
              "          google.colab.kernel.accessAllowed ? 'block' : 'none';\n",
              "\n",
              "        async function convertToInteractive(key) {\n",
              "          const element = document.querySelector('#df-d4bf5f8f-dbb8-4b88-8d9c-ea4fd10bd04e');\n",
              "          const dataTable =\n",
              "            await google.colab.kernel.invokeFunction('convertToInteractive',\n",
              "                                                     [key], {});\n",
              "          if (!dataTable) return;\n",
              "\n",
              "          const docLinkHtml = 'Like what you see? Visit the ' +\n",
              "            '<a target=\"_blank\" href=https://colab.research.google.com/notebooks/data_table.ipynb>data table notebook</a>'\n",
              "            + ' to learn more about interactive tables.';\n",
              "          element.innerHTML = '';\n",
              "          dataTable['output_type'] = 'display_data';\n",
              "          await google.colab.output.renderOutput(dataTable, element);\n",
              "          const docLink = document.createElement('div');\n",
              "          docLink.innerHTML = docLinkHtml;\n",
              "          element.appendChild(docLink);\n",
              "        }\n",
              "      </script>\n",
              "    </div>\n",
              "  </div>\n",
              "  "
            ]
          },
          "metadata": {},
          "execution_count": 3
        }
      ],
      "source": [
        "data = pd.read_csv('data.csv')\n",
        "data.head()"
      ]
    },
    {
      "cell_type": "code",
      "execution_count": null,
      "metadata": {
        "colab": {
          "base_uri": "https://localhost:8080/"
        },
        "id": "iHrDHCaR9gKR",
        "outputId": "ce1cc230-e627-42a9-9636-449c798bff33"
      },
      "outputs": [
        {
          "output_type": "execute_result",
          "data": {
            "text/plain": [
              "(1499, 29)"
            ]
          },
          "metadata": {},
          "execution_count": 4
        }
      ],
      "source": [
        "data.shape"
      ]
    },
    {
      "cell_type": "code",
      "execution_count": null,
      "metadata": {
        "id": "veD5BgX49hZa"
      },
      "outputs": [],
      "source": [
        "# Dropping unnecessary columns\n",
        "data = data.drop(['filename'],axis=1)"
      ]
    },
    {
      "cell_type": "markdown",
      "metadata": {
        "id": "Nyr0aAAsGXjZ"
      },
      "source": [
        "## Encoding the Labels"
      ]
    },
    {
      "cell_type": "code",
      "execution_count": null,
      "metadata": {
        "id": "frI5HH4q-1HS"
      },
      "outputs": [],
      "source": [
        "genre_list = data.iloc[:, -1]\n",
        "encoder = LabelEncoder()\n",
        "y = encoder.fit_transform(genre_list)"
      ]
    },
    {
      "cell_type": "markdown",
      "metadata": {
        "id": "_2n8a02zGfvP"
      },
      "source": [
        "## Scaling the Feature columns"
      ]
    },
    {
      "cell_type": "code",
      "execution_count": null,
      "metadata": {
        "id": "uqcqn-nyAofk"
      },
      "outputs": [],
      "source": [
        "scaler = StandardScaler()\n",
        "X = scaler.fit_transform(np.array(data.iloc[:, :-1], dtype = float))"
      ]
    },
    {
      "cell_type": "code",
      "execution_count": null,
      "metadata": {
        "id": "I5xgR6XIwYgD",
        "outputId": "c30f4e7c-0115-4b74-a4b1-63ae34cef7bf",
        "colab": {
          "base_uri": "https://localhost:8080/"
        }
      },
      "outputs": [
        {
          "output_type": "execute_result",
          "data": {
            "text/plain": [
              "{0: 'blues',\n",
              " 1: 'bollypop',\n",
              " 2: 'carnatic',\n",
              " 3: 'classical',\n",
              " 4: 'country',\n",
              " 5: 'disco',\n",
              " 6: 'ghazal',\n",
              " 7: 'hiphop',\n",
              " 8: 'jazz',\n",
              " 9: 'metal',\n",
              " 10: 'pop',\n",
              " 11: 'reggae',\n",
              " 12: 'rock',\n",
              " 13: 'semiclassical',\n",
              " 14: 'sufi'}"
            ]
          },
          "metadata": {},
          "execution_count": 8
        }
      ],
      "source": [
        "lookup_genre_name = {0:'blues',1:'bollypop',2:'carnatic',3:'classical',4:'country',\n",
        "                     5:'disco',6:'ghazal',7:'hiphop',8:'jazz',9:'metal', 10:'pop',\n",
        "                     11:'reggae',12:'rock',13:'semiclassical',14:'sufi'}   \n",
        "lookup_genre_name"
      ]
    },
    {
      "cell_type": "markdown",
      "metadata": {
        "id": "e3VZvbwpGo9R"
      },
      "source": [
        "## Dividing data into training and Testing set"
      ]
    },
    {
      "cell_type": "code",
      "execution_count": null,
      "metadata": {
        "id": "F1GW3VvQA7Rj"
      },
      "outputs": [],
      "source": [
        "X_train, X_test, y_train, y_test = train_test_split(X, y, test_size=0.2, random_state=42)"
      ]
    },
    {
      "cell_type": "code",
      "execution_count": null,
      "metadata": {
        "colab": {
          "base_uri": "https://localhost:8080/"
        },
        "id": "upuczQ-KBHJ5",
        "outputId": "4da8af29-3c08-4634-db1a-b1a821451e48"
      },
      "outputs": [
        {
          "output_type": "execute_result",
          "data": {
            "text/plain": [
              "1199"
            ]
          },
          "metadata": {},
          "execution_count": 10
        }
      ],
      "source": [
        "len(y_train)"
      ]
    },
    {
      "cell_type": "code",
      "execution_count": null,
      "metadata": {
        "colab": {
          "base_uri": "https://localhost:8080/"
        },
        "id": "LtoE_FqqBzM8",
        "outputId": "504503c3-e1d4-4c23-bbe7-acb8610e0d92"
      },
      "outputs": [
        {
          "output_type": "execute_result",
          "data": {
            "text/plain": [
              "300"
            ]
          },
          "metadata": {},
          "execution_count": 11
        }
      ],
      "source": [
        "len(y_test)"
      ]
    },
    {
      "cell_type": "code",
      "execution_count": null,
      "metadata": {
        "colab": {
          "base_uri": "https://localhost:8080/"
        },
        "id": "ir9XaWgQB0lq",
        "outputId": "73dcc646-4411-461d-ff2b-e1d53b78a795"
      },
      "outputs": [
        {
          "output_type": "execute_result",
          "data": {
            "text/plain": [
              "array([-1.08134942, -0.53123043, -0.16638579, -1.43135806, -1.38542051,\n",
              "       -1.54129445, -1.14436556, -0.33254268,  1.96278703, -0.41909478,\n",
              "       -0.14020169,  0.78185361, -1.70076751,  0.00802416, -0.788509  ,\n",
              "       -0.09689792, -1.24068266,  1.08945061, -1.23546563, -0.16917704,\n",
              "        0.363867  , -0.16040787, -0.96964014, -0.20422944, -0.78361242,\n",
              "        0.60818569, -0.26177049])"
            ]
          },
          "metadata": {},
          "execution_count": 12
        }
      ],
      "source": [
        "X_train[10]"
      ]
    },
    {
      "cell_type": "markdown",
      "metadata": {
        "id": "Vp2yc5FWG04e"
      },
      "source": [
        "# Classification with Keras\n",
        "\n",
        "## Building our Network"
      ]
    },
    {
      "cell_type": "code",
      "execution_count": null,
      "metadata": {
        "id": "Qj3sc2uFEUMt",
        "outputId": "c19706a5-c6af-45a4-efe1-c8524af664ba",
        "colab": {
          "base_uri": "https://localhost:8080/"
        }
      },
      "outputs": [
        {
          "output_type": "stream",
          "name": "stdout",
          "text": [
            "Model: \"sequential_2\"\n",
            "_________________________________________________________________\n",
            " Layer (type)                Output Shape              Param #   \n",
            "=================================================================\n",
            " dense_9 (Dense)             (None, 256)               7168      \n",
            "                                                                 \n",
            " dropout_4 (Dropout)         (None, 256)               0         \n",
            "                                                                 \n",
            " dense_10 (Dense)            (None, 128)               32896     \n",
            "                                                                 \n",
            " dropout_5 (Dropout)         (None, 128)               0         \n",
            "                                                                 \n",
            " dense_11 (Dense)            (None, 64)                8256      \n",
            "                                                                 \n",
            " dropout_6 (Dropout)         (None, 64)                0         \n",
            "                                                                 \n",
            " dense_12 (Dense)            (None, 15)                975       \n",
            "                                                                 \n",
            "=================================================================\n",
            "Total params: 49,295\n",
            "Trainable params: 49,295\n",
            "Non-trainable params: 0\n",
            "_________________________________________________________________\n"
          ]
        }
      ],
      "source": [
        "from keras import models\n",
        "from keras import layers\n",
        "\n",
        "model = models.Sequential([\n",
        "layers.Dense(256, activation='relu', input_shape=(X_train.shape[1],)),\n",
        "layers.Dropout(0.2),\n",
        "layers.Dense(128, activation='relu'),\n",
        "layers.Dropout(0.2),\n",
        "layers.Dense(64, activation='relu'),\n",
        "layers.Dropout(0.2),\n",
        "layers.Dense(15, activation='softmax'),\n",
        "])\n",
        "model.summary()"
      ]
    },
    {
      "cell_type": "code",
      "execution_count": null,
      "metadata": {
        "id": "7yrsmpI6EjJ2"
      },
      "outputs": [],
      "source": [
        "model.compile(optimizer='adam',\n",
        "              loss='sparse_categorical_crossentropy',\n",
        "              metrics=['accuracy'])"
      ]
    },
    {
      "cell_type": "code",
      "execution_count": null,
      "metadata": {
        "colab": {
          "base_uri": "https://localhost:8080/"
        },
        "id": "bP0hVm4aElS7",
        "outputId": "9c2c9837-b588-4b1e-dadd-54e0e7fd3468"
      },
      "outputs": [
        {
          "output_type": "stream",
          "name": "stdout",
          "text": [
            "Epoch 1/100\n",
            "10/10 [==============================] - 1s 7ms/step - loss: 2.6250 - accuracy: 0.1251\n",
            "Epoch 2/100\n",
            "10/10 [==============================] - 0s 7ms/step - loss: 2.3379 - accuracy: 0.3128\n",
            "Epoch 3/100\n",
            "10/10 [==============================] - 0s 7ms/step - loss: 2.0894 - accuracy: 0.3461\n",
            "Epoch 4/100\n",
            "10/10 [==============================] - 0s 7ms/step - loss: 1.8625 - accuracy: 0.4053\n",
            "Epoch 5/100\n",
            "10/10 [==============================] - 0s 7ms/step - loss: 1.6820 - accuracy: 0.4520\n",
            "Epoch 6/100\n",
            "10/10 [==============================] - 0s 9ms/step - loss: 1.5346 - accuracy: 0.4771\n",
            "Epoch 7/100\n",
            "10/10 [==============================] - 0s 7ms/step - loss: 1.4329 - accuracy: 0.5104\n",
            "Epoch 8/100\n",
            "10/10 [==============================] - 0s 7ms/step - loss: 1.3364 - accuracy: 0.5555\n",
            "Epoch 9/100\n",
            "10/10 [==============================] - 0s 7ms/step - loss: 1.3030 - accuracy: 0.5471\n",
            "Epoch 10/100\n",
            "10/10 [==============================] - 0s 7ms/step - loss: 1.2464 - accuracy: 0.5822\n",
            "Epoch 11/100\n",
            "10/10 [==============================] - 0s 8ms/step - loss: 1.1923 - accuracy: 0.6013\n",
            "Epoch 12/100\n",
            "10/10 [==============================] - 0s 7ms/step - loss: 1.1702 - accuracy: 0.5905\n",
            "Epoch 13/100\n",
            "10/10 [==============================] - 0s 6ms/step - loss: 1.1419 - accuracy: 0.6147\n",
            "Epoch 14/100\n",
            "10/10 [==============================] - 0s 7ms/step - loss: 1.0706 - accuracy: 0.6389\n",
            "Epoch 15/100\n",
            "10/10 [==============================] - 0s 6ms/step - loss: 1.0627 - accuracy: 0.6464\n",
            "Epoch 16/100\n",
            "10/10 [==============================] - 0s 7ms/step - loss: 1.0217 - accuracy: 0.6430\n",
            "Epoch 17/100\n",
            "10/10 [==============================] - 0s 7ms/step - loss: 0.9961 - accuracy: 0.6589\n",
            "Epoch 18/100\n",
            "10/10 [==============================] - 0s 8ms/step - loss: 1.0053 - accuracy: 0.6547\n",
            "Epoch 19/100\n",
            "10/10 [==============================] - 0s 7ms/step - loss: 0.9541 - accuracy: 0.6681\n",
            "Epoch 20/100\n",
            "10/10 [==============================] - 0s 7ms/step - loss: 0.9460 - accuracy: 0.6764\n",
            "Epoch 21/100\n",
            "10/10 [==============================] - 0s 7ms/step - loss: 0.9065 - accuracy: 0.6831\n",
            "Epoch 22/100\n",
            "10/10 [==============================] - 0s 7ms/step - loss: 0.8958 - accuracy: 0.7023\n",
            "Epoch 23/100\n",
            "10/10 [==============================] - 0s 7ms/step - loss: 0.8519 - accuracy: 0.7156\n",
            "Epoch 24/100\n",
            "10/10 [==============================] - 0s 9ms/step - loss: 0.8399 - accuracy: 0.7089\n",
            "Epoch 25/100\n",
            "10/10 [==============================] - 0s 6ms/step - loss: 0.8090 - accuracy: 0.7281\n",
            "Epoch 26/100\n",
            "10/10 [==============================] - 0s 6ms/step - loss: 0.8278 - accuracy: 0.7148\n",
            "Epoch 27/100\n",
            "10/10 [==============================] - 0s 6ms/step - loss: 0.8278 - accuracy: 0.7114\n",
            "Epoch 28/100\n",
            "10/10 [==============================] - 0s 7ms/step - loss: 0.7677 - accuracy: 0.7373\n",
            "Epoch 29/100\n",
            "10/10 [==============================] - 0s 7ms/step - loss: 0.7719 - accuracy: 0.7481\n",
            "Epoch 30/100\n",
            "10/10 [==============================] - 0s 7ms/step - loss: 0.7651 - accuracy: 0.7348\n",
            "Epoch 31/100\n",
            "10/10 [==============================] - 0s 7ms/step - loss: 0.7701 - accuracy: 0.7431\n",
            "Epoch 32/100\n",
            "10/10 [==============================] - 0s 9ms/step - loss: 0.7154 - accuracy: 0.7556\n",
            "Epoch 33/100\n",
            "10/10 [==============================] - 0s 8ms/step - loss: 0.6955 - accuracy: 0.7706\n",
            "Epoch 34/100\n",
            "10/10 [==============================] - 0s 7ms/step - loss: 0.6990 - accuracy: 0.7573\n",
            "Epoch 35/100\n",
            "10/10 [==============================] - 0s 7ms/step - loss: 0.6658 - accuracy: 0.7798\n",
            "Epoch 36/100\n",
            "10/10 [==============================] - 0s 7ms/step - loss: 0.6733 - accuracy: 0.7665\n",
            "Epoch 37/100\n",
            "10/10 [==============================] - 0s 9ms/step - loss: 0.6762 - accuracy: 0.7731\n",
            "Epoch 38/100\n",
            "10/10 [==============================] - 0s 6ms/step - loss: 0.6469 - accuracy: 0.7656\n",
            "Epoch 39/100\n",
            "10/10 [==============================] - 0s 7ms/step - loss: 0.6427 - accuracy: 0.7748\n",
            "Epoch 40/100\n",
            "10/10 [==============================] - 0s 6ms/step - loss: 0.6559 - accuracy: 0.7915\n",
            "Epoch 41/100\n",
            "10/10 [==============================] - 0s 7ms/step - loss: 0.6227 - accuracy: 0.7915\n",
            "Epoch 42/100\n",
            "10/10 [==============================] - 0s 6ms/step - loss: 0.5967 - accuracy: 0.7915\n",
            "Epoch 43/100\n",
            "10/10 [==============================] - 0s 7ms/step - loss: 0.5874 - accuracy: 0.8090\n",
            "Epoch 44/100\n",
            "10/10 [==============================] - 0s 7ms/step - loss: 0.6066 - accuracy: 0.7907\n",
            "Epoch 45/100\n",
            "10/10 [==============================] - 0s 8ms/step - loss: 0.6122 - accuracy: 0.7873\n",
            "Epoch 46/100\n",
            "10/10 [==============================] - 0s 7ms/step - loss: 0.5723 - accuracy: 0.7932\n",
            "Epoch 47/100\n",
            "10/10 [==============================] - 0s 6ms/step - loss: 0.5628 - accuracy: 0.8065\n",
            "Epoch 48/100\n",
            "10/10 [==============================] - 0s 7ms/step - loss: 0.5796 - accuracy: 0.8090\n",
            "Epoch 49/100\n",
            "10/10 [==============================] - 0s 8ms/step - loss: 0.5740 - accuracy: 0.8107\n",
            "Epoch 50/100\n",
            "10/10 [==============================] - 0s 8ms/step - loss: 0.5261 - accuracy: 0.8207\n",
            "Epoch 51/100\n",
            "10/10 [==============================] - 0s 7ms/step - loss: 0.5354 - accuracy: 0.8198\n",
            "Epoch 52/100\n",
            "10/10 [==============================] - 0s 7ms/step - loss: 0.5228 - accuracy: 0.8148\n",
            "Epoch 53/100\n",
            "10/10 [==============================] - 0s 7ms/step - loss: 0.5093 - accuracy: 0.8274\n",
            "Epoch 54/100\n",
            "10/10 [==============================] - 0s 7ms/step - loss: 0.5026 - accuracy: 0.8349\n",
            "Epoch 55/100\n",
            "10/10 [==============================] - 0s 8ms/step - loss: 0.5022 - accuracy: 0.8415\n",
            "Epoch 56/100\n",
            "10/10 [==============================] - 0s 8ms/step - loss: 0.5026 - accuracy: 0.8299\n",
            "Epoch 57/100\n",
            "10/10 [==============================] - 0s 7ms/step - loss: 0.4978 - accuracy: 0.8349\n",
            "Epoch 58/100\n",
            "10/10 [==============================] - 0s 8ms/step - loss: 0.4708 - accuracy: 0.8432\n",
            "Epoch 59/100\n",
            "10/10 [==============================] - 0s 7ms/step - loss: 0.4631 - accuracy: 0.8490\n",
            "Epoch 60/100\n",
            "10/10 [==============================] - 0s 8ms/step - loss: 0.4739 - accuracy: 0.8407\n",
            "Epoch 61/100\n",
            "10/10 [==============================] - 0s 7ms/step - loss: 0.4727 - accuracy: 0.8315\n",
            "Epoch 62/100\n",
            "10/10 [==============================] - 0s 8ms/step - loss: 0.4674 - accuracy: 0.8399\n",
            "Epoch 63/100\n",
            "10/10 [==============================] - 0s 7ms/step - loss: 0.4640 - accuracy: 0.8390\n",
            "Epoch 64/100\n",
            "10/10 [==============================] - 0s 7ms/step - loss: 0.4311 - accuracy: 0.8666\n",
            "Epoch 65/100\n",
            "10/10 [==============================] - 0s 8ms/step - loss: 0.4409 - accuracy: 0.8657\n",
            "Epoch 66/100\n",
            "10/10 [==============================] - 0s 7ms/step - loss: 0.4279 - accuracy: 0.8565\n",
            "Epoch 67/100\n",
            "10/10 [==============================] - 0s 7ms/step - loss: 0.4410 - accuracy: 0.8449\n",
            "Epoch 68/100\n",
            "10/10 [==============================] - 0s 6ms/step - loss: 0.4055 - accuracy: 0.8632\n",
            "Epoch 69/100\n",
            "10/10 [==============================] - 0s 6ms/step - loss: 0.4225 - accuracy: 0.8457\n",
            "Epoch 70/100\n",
            "10/10 [==============================] - 0s 6ms/step - loss: 0.3985 - accuracy: 0.8724\n",
            "Epoch 71/100\n",
            "10/10 [==============================] - 0s 7ms/step - loss: 0.4024 - accuracy: 0.8616\n",
            "Epoch 72/100\n",
            "10/10 [==============================] - 0s 7ms/step - loss: 0.3812 - accuracy: 0.8641\n",
            "Epoch 73/100\n",
            "10/10 [==============================] - 0s 8ms/step - loss: 0.3561 - accuracy: 0.8799\n",
            "Epoch 74/100\n",
            "10/10 [==============================] - 0s 6ms/step - loss: 0.3855 - accuracy: 0.8691\n",
            "Epoch 75/100\n",
            "10/10 [==============================] - 0s 8ms/step - loss: 0.3951 - accuracy: 0.8691\n",
            "Epoch 76/100\n",
            "10/10 [==============================] - 0s 6ms/step - loss: 0.3448 - accuracy: 0.8774\n",
            "Epoch 77/100\n",
            "10/10 [==============================] - 0s 6ms/step - loss: 0.3674 - accuracy: 0.8824\n",
            "Epoch 78/100\n",
            "10/10 [==============================] - 0s 6ms/step - loss: 0.3851 - accuracy: 0.8749\n",
            "Epoch 79/100\n",
            "10/10 [==============================] - 0s 7ms/step - loss: 0.3686 - accuracy: 0.8741\n",
            "Epoch 80/100\n",
            "10/10 [==============================] - 0s 7ms/step - loss: 0.3856 - accuracy: 0.8674\n",
            "Epoch 81/100\n",
            "10/10 [==============================] - 0s 9ms/step - loss: 0.3404 - accuracy: 0.8849\n",
            "Epoch 82/100\n",
            "10/10 [==============================] - 0s 7ms/step - loss: 0.3539 - accuracy: 0.8891\n",
            "Epoch 83/100\n",
            "10/10 [==============================] - 0s 8ms/step - loss: 0.3567 - accuracy: 0.8874\n",
            "Epoch 84/100\n",
            "10/10 [==============================] - 0s 7ms/step - loss: 0.3520 - accuracy: 0.8841\n",
            "Epoch 85/100\n",
            "10/10 [==============================] - 0s 7ms/step - loss: 0.3410 - accuracy: 0.8766\n",
            "Epoch 86/100\n",
            "10/10 [==============================] - 0s 7ms/step - loss: 0.3398 - accuracy: 0.8774\n",
            "Epoch 87/100\n",
            "10/10 [==============================] - 0s 8ms/step - loss: 0.3396 - accuracy: 0.8866\n",
            "Epoch 88/100\n",
            "10/10 [==============================] - 0s 8ms/step - loss: 0.3259 - accuracy: 0.8899\n",
            "Epoch 89/100\n",
            "10/10 [==============================] - 0s 7ms/step - loss: 0.3107 - accuracy: 0.9008\n",
            "Epoch 90/100\n",
            "10/10 [==============================] - 0s 7ms/step - loss: 0.3043 - accuracy: 0.8924\n",
            "Epoch 91/100\n",
            "10/10 [==============================] - 0s 7ms/step - loss: 0.2999 - accuracy: 0.8999\n",
            "Epoch 92/100\n",
            "10/10 [==============================] - 0s 7ms/step - loss: 0.3055 - accuracy: 0.8974\n",
            "Epoch 93/100\n",
            "10/10 [==============================] - 0s 6ms/step - loss: 0.3112 - accuracy: 0.8932\n",
            "Epoch 94/100\n",
            "10/10 [==============================] - 0s 6ms/step - loss: 0.2743 - accuracy: 0.9191\n",
            "Epoch 95/100\n",
            "10/10 [==============================] - 0s 6ms/step - loss: 0.3060 - accuracy: 0.9024\n",
            "Epoch 96/100\n",
            "10/10 [==============================] - 0s 7ms/step - loss: 0.2866 - accuracy: 0.9133\n",
            "Epoch 97/100\n",
            "10/10 [==============================] - 0s 6ms/step - loss: 0.2764 - accuracy: 0.9066\n",
            "Epoch 98/100\n",
            "10/10 [==============================] - 0s 9ms/step - loss: 0.2905 - accuracy: 0.9083\n",
            "Epoch 99/100\n",
            "10/10 [==============================] - 0s 8ms/step - loss: 0.2911 - accuracy: 0.9049\n",
            "Epoch 100/100\n",
            "10/10 [==============================] - 0s 7ms/step - loss: 0.2896 - accuracy: 0.9066\n"
          ]
        }
      ],
      "source": [
        "history = model.fit(X_train,\n",
        "                    y_train,\n",
        "                    epochs=100,\n",
        "                    batch_size=128)\n",
        "                   "
      ]
    },
    {
      "cell_type": "code",
      "execution_count": null,
      "metadata": {
        "colab": {
          "base_uri": "https://localhost:8080/"
        },
        "id": "0m1J0_wUFK4C",
        "outputId": "5b48263f-3158-4a25-e650-1fe3547e3c38",
        "scrolled": true
      },
      "outputs": [
        {
          "output_type": "stream",
          "name": "stdout",
          "text": [
            "10/10 [==============================] - 0s 4ms/step - loss: 1.0606 - accuracy: 0.6733\n"
          ]
        }
      ],
      "source": [
        "test_loss, test_acc = model.evaluate(X_test,y_test)"
      ]
    },
    {
      "cell_type": "code",
      "execution_count": null,
      "metadata": {
        "colab": {
          "base_uri": "https://localhost:8080/"
        },
        "id": "f6HrjXeUF0Ko",
        "outputId": "c24f183c-5014-45d5-d8a2-ccf7e1895b1c"
      },
      "outputs": [
        {
          "output_type": "stream",
          "name": "stdout",
          "text": [
            "Test loss:  1.0605602264404297\n",
            "Test accuracy:  0.6733333468437195\n"
          ]
        }
      ],
      "source": [
        "print('Test loss: ',test_loss)\n",
        "print('Test accuracy: ',test_acc)"
      ]
    },
    {
      "cell_type": "markdown",
      "metadata": {
        "id": "-U2qzRJoHV9O"
      },
      "source": [
        "## Validating our approach\n",
        "Let's set apart 300 samples in our training data to use as a validation set:"
      ]
    },
    {
      "cell_type": "code",
      "execution_count": null,
      "metadata": {
        "id": "xJNbvYZoF7ZT"
      },
      "outputs": [],
      "source": [
        "x_val = X_train[:300]\n",
        "partial_x_train = X_train[300:]\n",
        "\n",
        "y_val = y_train[:300]\n",
        "partial_y_train = y_train[300:]"
      ]
    },
    {
      "cell_type": "markdown",
      "metadata": {
        "id": "L1EkG59EHeEV"
      },
      "source": [
        "Now let's train our network for 80 epochs:"
      ]
    },
    {
      "cell_type": "code",
      "execution_count": null,
      "metadata": {
        "colab": {
          "base_uri": "https://localhost:8080/"
        },
        "id": "Dp3G4P3aP4k2",
        "outputId": "7dc3ce2c-bc6d-4746-89d1-4807c478e011"
      },
      "outputs": [
        {
          "output_type": "stream",
          "name": "stdout",
          "text": [
            "Epoch 1/125\n",
            "8/8 [==============================] - 2s 64ms/step - loss: 2.6502 - accuracy: 0.1135 - val_loss: 2.4339 - val_accuracy: 0.3133\n",
            "Epoch 2/125\n",
            "8/8 [==============================] - 0s 26ms/step - loss: 2.4063 - accuracy: 0.2147 - val_loss: 2.1340 - val_accuracy: 0.3667\n",
            "Epoch 3/125\n",
            "8/8 [==============================] - 0s 26ms/step - loss: 2.1901 - accuracy: 0.3103 - val_loss: 1.8861 - val_accuracy: 0.4167\n",
            "Epoch 4/125\n",
            "8/8 [==============================] - 0s 25ms/step - loss: 1.9734 - accuracy: 0.3248 - val_loss: 1.7403 - val_accuracy: 0.4333\n",
            "Epoch 5/125\n",
            "8/8 [==============================] - 0s 27ms/step - loss: 1.8302 - accuracy: 0.3815 - val_loss: 1.5965 - val_accuracy: 0.4833\n",
            "Epoch 6/125\n",
            "8/8 [==============================] - 0s 26ms/step - loss: 1.7075 - accuracy: 0.4182 - val_loss: 1.5014 - val_accuracy: 0.4900\n",
            "Epoch 7/125\n",
            "8/8 [==============================] - 0s 27ms/step - loss: 1.6544 - accuracy: 0.4093 - val_loss: 1.4670 - val_accuracy: 0.5100\n",
            "Epoch 8/125\n",
            "8/8 [==============================] - 0s 26ms/step - loss: 1.5682 - accuracy: 0.4683 - val_loss: 1.3987 - val_accuracy: 0.5633\n",
            "Epoch 9/125\n",
            "8/8 [==============================] - 0s 24ms/step - loss: 1.5555 - accuracy: 0.4805 - val_loss: 1.3718 - val_accuracy: 0.5267\n",
            "Epoch 10/125\n",
            "8/8 [==============================] - 0s 27ms/step - loss: 1.4069 - accuracy: 0.5172 - val_loss: 1.4194 - val_accuracy: 0.5200\n",
            "Epoch 11/125\n",
            "8/8 [==============================] - 0s 28ms/step - loss: 1.4521 - accuracy: 0.4750 - val_loss: 1.4170 - val_accuracy: 0.4967\n",
            "Epoch 12/125\n",
            "8/8 [==============================] - 0s 26ms/step - loss: 1.3916 - accuracy: 0.5228 - val_loss: 1.3254 - val_accuracy: 0.5400\n",
            "Epoch 13/125\n",
            "8/8 [==============================] - 0s 26ms/step - loss: 1.3299 - accuracy: 0.5306 - val_loss: 1.2668 - val_accuracy: 0.5600\n",
            "Epoch 14/125\n",
            "8/8 [==============================] - 0s 25ms/step - loss: 1.2954 - accuracy: 0.5684 - val_loss: 1.2530 - val_accuracy: 0.5733\n",
            "Epoch 15/125\n",
            "8/8 [==============================] - 0s 27ms/step - loss: 1.2554 - accuracy: 0.5606 - val_loss: 1.2133 - val_accuracy: 0.5667\n",
            "Epoch 16/125\n",
            "8/8 [==============================] - 0s 19ms/step - loss: 1.2024 - accuracy: 0.5717 - val_loss: 1.2014 - val_accuracy: 0.5733\n",
            "Epoch 17/125\n",
            "8/8 [==============================] - 0s 18ms/step - loss: 1.2005 - accuracy: 0.5595 - val_loss: 1.1942 - val_accuracy: 0.5900\n",
            "Epoch 18/125\n",
            "8/8 [==============================] - 0s 20ms/step - loss: 1.1761 - accuracy: 0.5895 - val_loss: 1.1786 - val_accuracy: 0.5800\n",
            "Epoch 19/125\n",
            "8/8 [==============================] - 0s 17ms/step - loss: 1.1112 - accuracy: 0.6151 - val_loss: 1.1573 - val_accuracy: 0.5967\n",
            "Epoch 20/125\n",
            "8/8 [==============================] - 0s 17ms/step - loss: 1.1101 - accuracy: 0.6140 - val_loss: 1.1152 - val_accuracy: 0.6367\n",
            "Epoch 21/125\n",
            "8/8 [==============================] - 0s 19ms/step - loss: 1.0626 - accuracy: 0.6229 - val_loss: 1.1277 - val_accuracy: 0.6167\n",
            "Epoch 22/125\n",
            "8/8 [==============================] - 0s 16ms/step - loss: 1.0081 - accuracy: 0.6440 - val_loss: 1.1848 - val_accuracy: 0.6000\n",
            "Epoch 23/125\n",
            "8/8 [==============================] - 0s 17ms/step - loss: 1.0431 - accuracy: 0.6329 - val_loss: 1.1244 - val_accuracy: 0.6067\n",
            "Epoch 24/125\n",
            "8/8 [==============================] - 0s 18ms/step - loss: 0.9963 - accuracy: 0.6496 - val_loss: 1.1254 - val_accuracy: 0.6300\n",
            "Epoch 25/125\n",
            "8/8 [==============================] - 0s 20ms/step - loss: 0.9956 - accuracy: 0.6630 - val_loss: 1.1122 - val_accuracy: 0.6167\n",
            "Epoch 26/125\n",
            "8/8 [==============================] - 0s 19ms/step - loss: 1.0225 - accuracy: 0.6485 - val_loss: 1.1455 - val_accuracy: 0.6267\n",
            "Epoch 27/125\n",
            "8/8 [==============================] - 0s 18ms/step - loss: 1.0177 - accuracy: 0.6407 - val_loss: 1.2900 - val_accuracy: 0.5567\n",
            "Epoch 28/125\n",
            "8/8 [==============================] - 0s 19ms/step - loss: 1.0193 - accuracy: 0.6685 - val_loss: 1.1592 - val_accuracy: 0.6000\n",
            "Epoch 29/125\n",
            "8/8 [==============================] - 0s 18ms/step - loss: 0.9522 - accuracy: 0.6663 - val_loss: 1.1272 - val_accuracy: 0.6067\n",
            "Epoch 30/125\n",
            "8/8 [==============================] - 0s 17ms/step - loss: 0.9353 - accuracy: 0.6830 - val_loss: 1.0929 - val_accuracy: 0.6233\n",
            "Epoch 31/125\n",
            "8/8 [==============================] - 0s 17ms/step - loss: 0.9051 - accuracy: 0.6930 - val_loss: 1.2426 - val_accuracy: 0.5833\n",
            "Epoch 32/125\n",
            "8/8 [==============================] - 0s 17ms/step - loss: 0.9385 - accuracy: 0.6696 - val_loss: 1.1495 - val_accuracy: 0.6067\n",
            "Epoch 33/125\n",
            "8/8 [==============================] - 0s 17ms/step - loss: 0.8796 - accuracy: 0.6885 - val_loss: 1.1073 - val_accuracy: 0.6233\n",
            "Epoch 34/125\n",
            "8/8 [==============================] - 0s 17ms/step - loss: 0.8687 - accuracy: 0.7030 - val_loss: 1.1413 - val_accuracy: 0.6033\n",
            "Epoch 35/125\n",
            "8/8 [==============================] - 0s 18ms/step - loss: 0.8720 - accuracy: 0.6874 - val_loss: 1.1136 - val_accuracy: 0.6400\n",
            "Epoch 36/125\n",
            "8/8 [==============================] - 0s 17ms/step - loss: 0.8453 - accuracy: 0.7119 - val_loss: 1.1295 - val_accuracy: 0.6367\n",
            "Epoch 37/125\n",
            "8/8 [==============================] - 0s 20ms/step - loss: 0.7823 - accuracy: 0.7253 - val_loss: 1.2077 - val_accuracy: 0.6133\n",
            "Epoch 38/125\n",
            "8/8 [==============================] - 0s 18ms/step - loss: 0.7885 - accuracy: 0.7175 - val_loss: 1.1403 - val_accuracy: 0.6067\n",
            "Epoch 39/125\n",
            "8/8 [==============================] - 0s 17ms/step - loss: 0.7296 - accuracy: 0.7553 - val_loss: 1.1441 - val_accuracy: 0.6100\n",
            "Epoch 40/125\n",
            "8/8 [==============================] - 0s 17ms/step - loss: 0.7542 - accuracy: 0.7397 - val_loss: 1.1282 - val_accuracy: 0.6100\n",
            "Epoch 41/125\n",
            "8/8 [==============================] - 0s 18ms/step - loss: 0.7234 - accuracy: 0.7497 - val_loss: 1.1518 - val_accuracy: 0.6167\n",
            "Epoch 42/125\n",
            "8/8 [==============================] - 0s 16ms/step - loss: 0.8172 - accuracy: 0.7152 - val_loss: 1.1743 - val_accuracy: 0.6067\n",
            "Epoch 43/125\n",
            "8/8 [==============================] - 0s 17ms/step - loss: 0.7725 - accuracy: 0.7319 - val_loss: 1.1102 - val_accuracy: 0.6100\n",
            "Epoch 44/125\n",
            "8/8 [==============================] - 0s 19ms/step - loss: 0.7994 - accuracy: 0.7175 - val_loss: 1.1375 - val_accuracy: 0.6133\n",
            "Epoch 45/125\n",
            "8/8 [==============================] - 0s 18ms/step - loss: 0.7304 - accuracy: 0.7430 - val_loss: 1.0838 - val_accuracy: 0.6200\n",
            "Epoch 46/125\n",
            "8/8 [==============================] - 0s 19ms/step - loss: 0.7096 - accuracy: 0.7419 - val_loss: 1.1036 - val_accuracy: 0.6433\n",
            "Epoch 47/125\n",
            "8/8 [==============================] - 0s 18ms/step - loss: 0.7578 - accuracy: 0.7386 - val_loss: 1.0855 - val_accuracy: 0.6267\n",
            "Epoch 48/125\n",
            "8/8 [==============================] - 0s 17ms/step - loss: 0.7075 - accuracy: 0.7475 - val_loss: 1.0841 - val_accuracy: 0.6367\n",
            "Epoch 49/125\n",
            "8/8 [==============================] - 0s 18ms/step - loss: 0.7084 - accuracy: 0.7508 - val_loss: 1.1468 - val_accuracy: 0.6400\n",
            "Epoch 50/125\n",
            "8/8 [==============================] - 0s 17ms/step - loss: 0.8117 - accuracy: 0.7264 - val_loss: 1.3543 - val_accuracy: 0.5667\n",
            "Epoch 51/125\n",
            "8/8 [==============================] - 0s 19ms/step - loss: 0.7310 - accuracy: 0.7430 - val_loss: 1.1782 - val_accuracy: 0.6233\n",
            "Epoch 52/125\n",
            "8/8 [==============================] - 0s 19ms/step - loss: 0.6887 - accuracy: 0.7764 - val_loss: 1.2444 - val_accuracy: 0.5967\n",
            "Epoch 53/125\n",
            "8/8 [==============================] - 0s 16ms/step - loss: 0.8040 - accuracy: 0.7164 - val_loss: 1.3307 - val_accuracy: 0.5767\n",
            "Epoch 54/125\n",
            "8/8 [==============================] - 0s 17ms/step - loss: 0.7575 - accuracy: 0.7375 - val_loss: 1.1468 - val_accuracy: 0.6200\n",
            "Epoch 55/125\n",
            "8/8 [==============================] - 0s 17ms/step - loss: 0.6175 - accuracy: 0.7976 - val_loss: 1.1358 - val_accuracy: 0.6233\n",
            "Epoch 56/125\n",
            "8/8 [==============================] - 0s 17ms/step - loss: 0.6559 - accuracy: 0.7697 - val_loss: 1.1591 - val_accuracy: 0.6200\n",
            "Epoch 57/125\n",
            "8/8 [==============================] - 0s 16ms/step - loss: 0.6318 - accuracy: 0.7775 - val_loss: 1.1665 - val_accuracy: 0.6133\n",
            "Epoch 58/125\n",
            "8/8 [==============================] - 0s 17ms/step - loss: 0.6192 - accuracy: 0.7864 - val_loss: 1.1734 - val_accuracy: 0.6300\n",
            "Epoch 59/125\n",
            "8/8 [==============================] - 0s 16ms/step - loss: 0.5455 - accuracy: 0.8131 - val_loss: 1.2141 - val_accuracy: 0.6233\n",
            "Epoch 60/125\n",
            "8/8 [==============================] - 0s 17ms/step - loss: 0.6152 - accuracy: 0.7775 - val_loss: 1.1620 - val_accuracy: 0.6233\n",
            "Epoch 61/125\n",
            "8/8 [==============================] - 0s 17ms/step - loss: 0.6076 - accuracy: 0.8020 - val_loss: 1.1816 - val_accuracy: 0.6267\n",
            "Epoch 62/125\n",
            "8/8 [==============================] - 0s 16ms/step - loss: 0.7106 - accuracy: 0.7631 - val_loss: 1.3515 - val_accuracy: 0.5567\n",
            "Epoch 63/125\n",
            "8/8 [==============================] - 0s 18ms/step - loss: 0.6693 - accuracy: 0.7697 - val_loss: 1.1763 - val_accuracy: 0.6233\n",
            "Epoch 64/125\n",
            "8/8 [==============================] - 0s 17ms/step - loss: 0.6806 - accuracy: 0.7664 - val_loss: 1.1621 - val_accuracy: 0.6300\n",
            "Epoch 65/125\n",
            "8/8 [==============================] - 0s 18ms/step - loss: 0.6087 - accuracy: 0.7753 - val_loss: 1.2210 - val_accuracy: 0.6267\n",
            "Epoch 66/125\n",
            "8/8 [==============================] - 0s 17ms/step - loss: 0.6391 - accuracy: 0.7775 - val_loss: 1.2285 - val_accuracy: 0.6033\n",
            "Epoch 67/125\n",
            "8/8 [==============================] - 0s 19ms/step - loss: 0.5889 - accuracy: 0.8065 - val_loss: 1.2165 - val_accuracy: 0.6100\n",
            "Epoch 68/125\n",
            "8/8 [==============================] - 0s 16ms/step - loss: 0.5858 - accuracy: 0.7998 - val_loss: 1.1641 - val_accuracy: 0.6167\n",
            "Epoch 69/125\n",
            "8/8 [==============================] - 0s 17ms/step - loss: 0.5235 - accuracy: 0.8231 - val_loss: 1.1422 - val_accuracy: 0.6500\n",
            "Epoch 70/125\n",
            "8/8 [==============================] - 0s 19ms/step - loss: 0.5222 - accuracy: 0.8220 - val_loss: 1.1507 - val_accuracy: 0.6700\n",
            "Epoch 71/125\n",
            "8/8 [==============================] - 0s 18ms/step - loss: 0.5227 - accuracy: 0.8120 - val_loss: 1.1170 - val_accuracy: 0.6733\n",
            "Epoch 72/125\n",
            "8/8 [==============================] - 0s 17ms/step - loss: 0.4930 - accuracy: 0.8320 - val_loss: 1.1147 - val_accuracy: 0.6533\n",
            "Epoch 73/125\n",
            "8/8 [==============================] - 0s 17ms/step - loss: 0.4780 - accuracy: 0.8398 - val_loss: 1.1651 - val_accuracy: 0.6300\n",
            "Epoch 74/125\n",
            "8/8 [==============================] - 0s 19ms/step - loss: 0.4717 - accuracy: 0.8354 - val_loss: 1.1456 - val_accuracy: 0.6367\n",
            "Epoch 75/125\n",
            "8/8 [==============================] - 0s 18ms/step - loss: 0.4862 - accuracy: 0.8331 - val_loss: 1.1007 - val_accuracy: 0.6967\n",
            "Epoch 76/125\n",
            "8/8 [==============================] - 0s 18ms/step - loss: 0.4877 - accuracy: 0.8231 - val_loss: 1.1737 - val_accuracy: 0.6467\n",
            "Epoch 77/125\n",
            "8/8 [==============================] - 0s 22ms/step - loss: 0.4445 - accuracy: 0.8432 - val_loss: 1.1868 - val_accuracy: 0.6467\n",
            "Epoch 78/125\n",
            "8/8 [==============================] - 0s 17ms/step - loss: 0.4168 - accuracy: 0.8621 - val_loss: 1.1792 - val_accuracy: 0.6467\n",
            "Epoch 79/125\n",
            "8/8 [==============================] - 0s 18ms/step - loss: 0.4480 - accuracy: 0.8398 - val_loss: 1.1779 - val_accuracy: 0.6600\n",
            "Epoch 80/125\n",
            "8/8 [==============================] - 0s 16ms/step - loss: 0.4302 - accuracy: 0.8576 - val_loss: 1.1755 - val_accuracy: 0.6600\n",
            "Epoch 81/125\n",
            "8/8 [==============================] - 0s 18ms/step - loss: 0.4151 - accuracy: 0.8676 - val_loss: 1.1820 - val_accuracy: 0.6600\n",
            "Epoch 82/125\n",
            "8/8 [==============================] - 0s 18ms/step - loss: 0.4093 - accuracy: 0.8654 - val_loss: 1.1545 - val_accuracy: 0.6633\n",
            "Epoch 83/125\n",
            "8/8 [==============================] - 0s 19ms/step - loss: 0.3966 - accuracy: 0.8554 - val_loss: 1.1581 - val_accuracy: 0.6567\n",
            "Epoch 84/125\n",
            "8/8 [==============================] - 0s 26ms/step - loss: 0.3659 - accuracy: 0.8788 - val_loss: 1.1730 - val_accuracy: 0.6767\n",
            "Epoch 85/125\n",
            "8/8 [==============================] - 0s 27ms/step - loss: 0.3941 - accuracy: 0.8587 - val_loss: 1.1931 - val_accuracy: 0.6633\n",
            "Epoch 86/125\n",
            "8/8 [==============================] - 0s 27ms/step - loss: 0.4035 - accuracy: 0.8554 - val_loss: 1.2247 - val_accuracy: 0.6600\n",
            "Epoch 87/125\n",
            "8/8 [==============================] - 0s 26ms/step - loss: 0.3750 - accuracy: 0.8665 - val_loss: 1.1810 - val_accuracy: 0.6600\n",
            "Epoch 88/125\n",
            "8/8 [==============================] - 0s 26ms/step - loss: 0.3431 - accuracy: 0.8843 - val_loss: 1.1761 - val_accuracy: 0.6700\n",
            "Epoch 89/125\n",
            "8/8 [==============================] - 0s 30ms/step - loss: 0.4068 - accuracy: 0.8565 - val_loss: 1.2353 - val_accuracy: 0.6700\n",
            "Epoch 90/125\n",
            "8/8 [==============================] - 0s 27ms/step - loss: 0.3593 - accuracy: 0.8821 - val_loss: 1.1954 - val_accuracy: 0.6600\n",
            "Epoch 91/125\n",
            "8/8 [==============================] - 0s 27ms/step - loss: 0.4585 - accuracy: 0.8476 - val_loss: 1.3239 - val_accuracy: 0.6367\n",
            "Epoch 92/125\n",
            "8/8 [==============================] - 0s 25ms/step - loss: 0.4429 - accuracy: 0.8498 - val_loss: 1.2148 - val_accuracy: 0.6600\n",
            "Epoch 93/125\n",
            "8/8 [==============================] - 0s 25ms/step - loss: 0.3687 - accuracy: 0.8754 - val_loss: 1.2268 - val_accuracy: 0.6600\n",
            "Epoch 94/125\n",
            "8/8 [==============================] - 0s 25ms/step - loss: 0.3744 - accuracy: 0.8710 - val_loss: 1.2671 - val_accuracy: 0.6500\n",
            "Epoch 95/125\n",
            "8/8 [==============================] - 0s 26ms/step - loss: 0.3720 - accuracy: 0.8765 - val_loss: 1.2495 - val_accuracy: 0.6400\n",
            "Epoch 96/125\n",
            "8/8 [==============================] - 0s 27ms/step - loss: 0.3633 - accuracy: 0.8877 - val_loss: 1.2799 - val_accuracy: 0.6600\n",
            "Epoch 97/125\n",
            "8/8 [==============================] - 0s 29ms/step - loss: 0.3399 - accuracy: 0.8854 - val_loss: 1.2669 - val_accuracy: 0.6667\n",
            "Epoch 98/125\n",
            "8/8 [==============================] - 0s 26ms/step - loss: 0.3427 - accuracy: 0.8832 - val_loss: 1.2746 - val_accuracy: 0.6633\n",
            "Epoch 99/125\n",
            "8/8 [==============================] - 0s 25ms/step - loss: 0.3249 - accuracy: 0.8899 - val_loss: 1.2633 - val_accuracy: 0.6767\n",
            "Epoch 100/125\n",
            "8/8 [==============================] - 0s 28ms/step - loss: 0.2823 - accuracy: 0.9088 - val_loss: 1.2635 - val_accuracy: 0.6900\n",
            "Epoch 101/125\n",
            "8/8 [==============================] - 0s 27ms/step - loss: 0.3002 - accuracy: 0.9055 - val_loss: 1.2986 - val_accuracy: 0.6667\n",
            "Epoch 102/125\n",
            "8/8 [==============================] - 0s 28ms/step - loss: 0.2676 - accuracy: 0.9232 - val_loss: 1.3186 - val_accuracy: 0.6900\n",
            "Epoch 103/125\n",
            "8/8 [==============================] - 0s 30ms/step - loss: 0.3472 - accuracy: 0.8932 - val_loss: 1.3362 - val_accuracy: 0.6867\n",
            "Epoch 104/125\n",
            "8/8 [==============================] - 0s 25ms/step - loss: 0.3077 - accuracy: 0.8932 - val_loss: 1.3818 - val_accuracy: 0.6500\n",
            "Epoch 105/125\n",
            "8/8 [==============================] - 0s 25ms/step - loss: 0.2864 - accuracy: 0.9021 - val_loss: 1.3902 - val_accuracy: 0.6467\n",
            "Epoch 106/125\n",
            "8/8 [==============================] - 0s 29ms/step - loss: 0.3925 - accuracy: 0.8776 - val_loss: 1.4430 - val_accuracy: 0.6433\n",
            "Epoch 107/125\n",
            "8/8 [==============================] - 0s 26ms/step - loss: 0.3421 - accuracy: 0.8865 - val_loss: 1.2697 - val_accuracy: 0.6633\n",
            "Epoch 108/125\n",
            "8/8 [==============================] - 0s 25ms/step - loss: 0.3337 - accuracy: 0.8999 - val_loss: 1.3059 - val_accuracy: 0.6633\n",
            "Epoch 109/125\n",
            "8/8 [==============================] - 0s 19ms/step - loss: 0.3081 - accuracy: 0.9021 - val_loss: 1.3674 - val_accuracy: 0.6400\n",
            "Epoch 110/125\n",
            "8/8 [==============================] - 0s 18ms/step - loss: 0.3146 - accuracy: 0.9032 - val_loss: 1.3235 - val_accuracy: 0.6567\n",
            "Epoch 111/125\n",
            "8/8 [==============================] - 0s 19ms/step - loss: 0.2624 - accuracy: 0.9177 - val_loss: 1.4006 - val_accuracy: 0.6700\n",
            "Epoch 112/125\n",
            "8/8 [==============================] - 0s 18ms/step - loss: 0.3254 - accuracy: 0.8821 - val_loss: 1.3982 - val_accuracy: 0.6333\n",
            "Epoch 113/125\n",
            "8/8 [==============================] - 0s 18ms/step - loss: 0.3378 - accuracy: 0.8921 - val_loss: 1.3324 - val_accuracy: 0.6500\n",
            "Epoch 114/125\n",
            "8/8 [==============================] - 0s 19ms/step - loss: 0.3721 - accuracy: 0.8754 - val_loss: 1.3073 - val_accuracy: 0.6600\n",
            "Epoch 115/125\n",
            "8/8 [==============================] - 0s 17ms/step - loss: 0.3283 - accuracy: 0.8832 - val_loss: 1.2439 - val_accuracy: 0.6800\n",
            "Epoch 116/125\n",
            "8/8 [==============================] - 0s 17ms/step - loss: 0.3412 - accuracy: 0.8932 - val_loss: 1.4037 - val_accuracy: 0.6467\n",
            "Epoch 117/125\n",
            "8/8 [==============================] - 0s 17ms/step - loss: 0.3863 - accuracy: 0.8654 - val_loss: 1.3030 - val_accuracy: 0.6533\n",
            "Epoch 118/125\n",
            "8/8 [==============================] - 0s 17ms/step - loss: 0.3530 - accuracy: 0.8877 - val_loss: 1.3477 - val_accuracy: 0.6433\n",
            "Epoch 119/125\n",
            "8/8 [==============================] - 0s 18ms/step - loss: 0.3388 - accuracy: 0.8888 - val_loss: 1.3236 - val_accuracy: 0.6633\n",
            "Epoch 120/125\n",
            "8/8 [==============================] - 0s 17ms/step - loss: 0.3285 - accuracy: 0.8932 - val_loss: 1.2855 - val_accuracy: 0.6633\n",
            "Epoch 121/125\n",
            "8/8 [==============================] - 0s 17ms/step - loss: 0.3073 - accuracy: 0.9032 - val_loss: 1.2484 - val_accuracy: 0.6800\n",
            "Epoch 122/125\n",
            "8/8 [==============================] - 0s 17ms/step - loss: 0.3090 - accuracy: 0.8954 - val_loss: 1.2771 - val_accuracy: 0.6767\n",
            "Epoch 123/125\n",
            "8/8 [==============================] - 0s 18ms/step - loss: 0.3081 - accuracy: 0.8821 - val_loss: 1.3193 - val_accuracy: 0.6433\n",
            "Epoch 124/125\n",
            "8/8 [==============================] - 0s 16ms/step - loss: 0.2658 - accuracy: 0.9099 - val_loss: 1.3319 - val_accuracy: 0.6600\n",
            "Epoch 125/125\n",
            "8/8 [==============================] - 0s 17ms/step - loss: 0.2346 - accuracy: 0.9210 - val_loss: 1.3230 - val_accuracy: 0.6600\n",
            "10/10 [==============================] - 0s 3ms/step - loss: 1.4214 - accuracy: 0.6233\n"
          ]
        }
      ],
      "source": [
        "model = models.Sequential([\n",
        "layers.Dense(512, activation='relu', input_shape=(X_train.shape[1],)),\n",
        "layers.Dropout(0.2),\n",
        "layers.Dense(256, activation='relu'),\n",
        "layers.Dropout(0.2),\n",
        "layers.Dense(128, activation='relu'),\n",
        "layers.Dropout(0.2),\n",
        "layers.Dense(64, activation='relu'),\n",
        "layers.Dropout(0.2),\n",
        "layers.Dense(15, activation='softmax'),\n",
        "])\n",
        "\n",
        "model.compile(optimizer='adam',\n",
        "              loss='sparse_categorical_crossentropy',\n",
        "              metrics=['accuracy'])\n",
        "\n",
        "trains = model.fit(partial_x_train,\n",
        "          partial_y_train,\n",
        "          epochs=125,\n",
        "          batch_size=128,\n",
        "          validation_data=(x_val, y_val),\n",
        "          shuffle = True,\n",
        "         )\n",
        "results = model.evaluate(X_test, y_test)"
      ]
    },
    {
      "cell_type": "code",
      "execution_count": null,
      "metadata": {
        "colab": {
          "base_uri": "https://localhost:8080/"
        },
        "id": "Mvi9it1SI4aR",
        "outputId": "70a54dd2-ad17-4627-cdf8-ab06de3ec89f"
      },
      "outputs": [
        {
          "output_type": "execute_result",
          "data": {
            "text/plain": [
              "[1.4214222431182861, 0.6233333349227905]"
            ]
          },
          "metadata": {},
          "execution_count": 59
        }
      ],
      "source": [
        "#training data loss, accuracy\n",
        "results"
      ]
    },
    {
      "cell_type": "code",
      "execution_count": null,
      "metadata": {
        "id": "Utgt1bXfJVRN",
        "outputId": "8d9ca987-1e50-4202-809f-4a5a27b9cf45",
        "colab": {
          "base_uri": "https://localhost:8080/",
          "height": 927
        }
      },
      "outputs": [
        {
          "output_type": "display_data",
          "data": {
            "text/plain": [
              "<Figure size 640x480 with 1 Axes>"
            ],
            "image/png": "[encoded data removed]"
          },
          "metadata": {}
        },
        {
          "output_type": "display_data",
          "data": {
            "text/plain": [
              "<Figure size 640x480 with 1 Axes>"
            ],
            "image/png": "[encoded data removed]"
          },
          "metadata": {}
        }
      ],
      "source": [
        "plt.figure(0)\n",
        "plt.plot(trains.history['accuracy'],'r')\n",
        "plt.plot(trains.history['val_accuracy'],'g')\n",
        "plt.xlabel(\"Num of Epochs\")\n",
        "plt.ylabel(\"Accuracy\")\n",
        "plt.title(\"Training Accuracy vs Validation Accuracy\")\n",
        "plt.legend(['train','validation'])\n",
        " \n",
        "plt.figure(1)\n",
        "plt.plot(trains.history['loss'],'r')\n",
        "plt.plot(trains.history['val_loss'],'g')\n",
        "plt.xlabel(\"Num of Epochs\")\n",
        "plt.ylabel(\"Loss\")\n",
        "plt.title(\"Training Loss vs Validation Loss\")\n",
        "plt.legend(['train','validation'])\n",
        " \n",
        "plt.show()"
      ]
    },
    {
      "cell_type": "markdown",
      "metadata": {
        "id": "r3hb8s1l4rBA"
      },
      "source": [
        "## Predictions on Test Data"
      ]
    },
    {
      "cell_type": "code",
      "execution_count": null,
      "metadata": {
        "id": "gudBAhIXJIi2",
        "outputId": "b04f0cf8-d6b5-4190-e563-95f4ab68c7de",
        "colab": {
          "base_uri": "https://localhost:8080/"
        }
      },
      "outputs": [
        {
          "output_type": "stream",
          "name": "stdout",
          "text": [
            "10/10 [==============================] - 0s 3ms/step\n"
          ]
        }
      ],
      "source": [
        "predictions = model.predict(X_test)"
      ]
    },
    {
      "cell_type": "code",
      "execution_count": null,
      "metadata": {
        "colab": {
          "base_uri": "https://localhost:8080/"
        },
        "id": "Xb7bVPSwJQF0",
        "outputId": "81e831ac-e8b2-4373-c794-aee65bc72bb6"
      },
      "outputs": [
        {
          "output_type": "execute_result",
          "data": {
            "text/plain": [
              "(15,)"
            ]
          },
          "metadata": {},
          "execution_count": 62
        }
      ],
      "source": [
        "predictions[0].shape"
      ]
    },
    {
      "cell_type": "code",
      "execution_count": null,
      "metadata": {
        "colab": {
          "base_uri": "https://localhost:8080/"
        },
        "id": "llusRQV0JRy9",
        "outputId": "cf2e0d96-46dd-4967-978c-11df5aafa8da"
      },
      "outputs": [
        {
          "output_type": "execute_result",
          "data": {
            "text/plain": [
              "1.0"
            ]
          },
          "metadata": {},
          "execution_count": 63
        }
      ],
      "source": [
        "np.sum(predictions[0])"
      ]
    },
    {
      "cell_type": "code",
      "execution_count": null,
      "metadata": {
        "id": "ax3nJv7SwYgM",
        "outputId": "b2e8a715-1f9e-4032-e8a6-8ae4f8603d8b",
        "colab": {
          "base_uri": "https://localhost:8080/",
          "height": 423
        }
      },
      "outputs": [
        {
          "output_type": "execute_result",
          "data": {
            "text/plain": [
              "     predictions  actual labels\n",
              "0             11             11\n",
              "1             13             13\n",
              "2              4              4\n",
              "3              8              4\n",
              "4              4              4\n",
              "..           ...            ...\n",
              "295            9              9\n",
              "296            9              7\n",
              "297            2             13\n",
              "298           11             11\n",
              "299            8              8\n",
              "\n",
              "[300 rows x 2 columns]"
            ],
            "text/html": [
              "\n",
              "  <div id=\"df-f27d75ad-ae89-4c10-9933-94c2ec2343bc\">\n",
              "    <div class=\"colab-df-container\">\n",
              "      <div>\n",
              "<style scoped>\n",
              "    .dataframe tbody tr th:only-of-type {\n",
              "        vertical-align: middle;\n",
              "    }\n",
              "\n",
              "    .dataframe tbody tr th {\n",
              "        vertical-align: top;\n",
              "    }\n",
              "\n",
              "    .dataframe thead th {\n",
              "        text-align: right;\n",
              "    }\n",
              "</style>\n",
              "<table border=\"1\" class=\"dataframe\">\n",
              "  <thead>\n",
              "    <tr style=\"text-align: right;\">\n",
              "      <th></th>\n",
              "      <th>predictions</th>\n",
              "      <th>actual labels</th>\n",
              "    </tr>\n",
              "  </thead>\n",
              "  <tbody>\n",
              "    <tr>\n",
              "      <th>0</th>\n",
              "      <td>11</td>\n",
              "      <td>11</td>\n",
              "    </tr>\n",
              "    <tr>\n",
              "      <th>1</th>\n",
              "      <td>13</td>\n",
              "      <td>13</td>\n",
              "    </tr>\n",
              "    <tr>\n",
              "      <th>2</th>\n",
              "      <td>4</td>\n",
              "      <td>4</td>\n",
              "    </tr>\n",
              "    <tr>\n",
              "      <th>3</th>\n",
              "      <td>8</td>\n",
              "      <td>4</td>\n",
              "    </tr>\n",
              "    <tr>\n",
              "      <th>4</th>\n",
              "      <td>4</td>\n",
              "      <td>4</td>\n",
              "    </tr>\n",
              "    <tr>\n",
              "      <th>...</th>\n",
              "      <td>...</td>\n",
              "      <td>...</td>\n",
              "    </tr>\n",
              "    <tr>\n",
              "      <th>295</th>\n",
              "      <td>9</td>\n",
              "      <td>9</td>\n",
              "    </tr>\n",
              "    <tr>\n",
              "      <th>296</th>\n",
              "      <td>9</td>\n",
              "      <td>7</td>\n",
              "    </tr>\n",
              "    <tr>\n",
              "      <th>297</th>\n",
              "      <td>2</td>\n",
              "      <td>13</td>\n",
              "    </tr>\n",
              "    <tr>\n",
              "      <th>298</th>\n",
              "      <td>11</td>\n",
              "      <td>11</td>\n",
              "    </tr>\n",
              "    <tr>\n",
              "      <th>299</th>\n",
              "      <td>8</td>\n",
              "      <td>8</td>\n",
              "    </tr>\n",
              "  </tbody>\n",
              "</table>\n",
              "<p>300 rows × 2 columns</p>\n",
              "</div>\n",
              "      <button class=\"colab-df-convert\" onclick=\"convertToInteractive('df-f27d75ad-ae89-4c10-9933-94c2ec2343bc')\"\n",
              "              title=\"Convert this dataframe to an interactive table.\"\n",
              "              style=\"display:none;\">\n",
              "        \n",
              "  <svg xmlns=\"http://www.w3.org/2000/svg\" height=\"24px\"viewBox=\"0 0 24 24\"\n",
              "       width=\"24px\">\n",
              "    <path d=\"M0 0h24v24H0V0z\" fill=\"none\"/>\n",
              "    <path d=\"M18.56 5.44l.94 2.06.94-2.06 2.06-.94-2.06-.94-.94-2.06-.94 2.06-2.06.94zm-11 1L8.5 8.5l.94-2.06 2.06-.94-2.06-.94L8.5 2.5l-.94 2.06-2.06.94zm10 10l.94 2.06.94-2.06 2.06-.94-2.06-.94-.94-2.06-.94 2.06-2.06.94z\"/><path d=\"M17.41 7.96l-1.37-1.37c-.4-.4-.92-.59-1.43-.59-.52 0-1.04.2-1.43.59L10.3 9.45l-7.72 7.72c-.78.78-.78 2.05 0 2.83L4 21.41c.39.39.9.59 1.41.59.51 0 1.02-.2 1.41-.59l7.78-7.78 2.81-2.81c.8-.78.8-2.07 0-2.86zM5.41 20L4 18.59l7.72-7.72 1.47 1.35L5.41 20z\"/>\n",
              "  </svg>\n",
              "      </button>\n",
              "      \n",
              "  <style>\n",
              "    .colab-df-container {\n",
              "      display:flex;\n",
              "      flex-wrap:wrap;\n",
              "      gap: 12px;\n",
              "    }\n",
              "\n",
              "    .colab-df-convert {\n",
              "      background-color: #E8F0FE;\n",
              "      border: none;\n",
              "      border-radius: 50%;\n",
              "      cursor: pointer;\n",
              "      display: none;\n",
              "      fill: #1967D2;\n",
              "      height: 32px;\n",
              "      padding: 0 0 0 0;\n",
              "      width: 32px;\n",
              "    }\n",
              "\n",
              "    .colab-df-convert:hover {\n",
              "      background-color: #E2EBFA;\n",
              "      box-shadow: 0px 1px 2px rgba(60, 64, 67, 0.3), 0px 1px 3px 1px rgba(60, 64, 67, 0.15);\n",
              "      fill: #174EA6;\n",
              "    }\n",
              "\n",
              "    [theme=dark] .colab-df-convert {\n",
              "      background-color: #3B4455;\n",
              "      fill: #D2E3FC;\n",
              "    }\n",
              "\n",
              "    [theme=dark] .colab-df-convert:hover {\n",
              "      background-color: #434B5C;\n",
              "      box-shadow: 0px 1px 3px 1px rgba(0, 0, 0, 0.15);\n",
              "      filter: drop-shadow(0px 1px 2px rgba(0, 0, 0, 0.3));\n",
              "      fill: #FFFFFF;\n",
              "    }\n",
              "  </style>\n",
              "\n",
              "      <script>\n",
              "        const buttonEl =\n",
              "          document.querySelector('#df-f27d75ad-ae89-4c10-9933-94c2ec2343bc button.colab-df-convert');\n",
              "        buttonEl.style.display =\n",
              "          google.colab.kernel.accessAllowed ? 'block' : 'none';\n",
              "\n",
              "        async function convertToInteractive(key) {\n",
              "          const element = document.querySelector('#df-f27d75ad-ae89-4c10-9933-94c2ec2343bc');\n",
              "          const dataTable =\n",
              "            await google.colab.kernel.invokeFunction('convertToInteractive',\n",
              "                                                     [key], {});\n",
              "          if (!dataTable) return;\n",
              "\n",
              "          const docLinkHtml = 'Like what you see? Visit the ' +\n",
              "            '<a target=\"_blank\" href=https://colab.research.google.com/notebooks/data_table.ipynb>data table notebook</a>'\n",
              "            + ' to learn more about interactive tables.';\n",
              "          element.innerHTML = '';\n",
              "          dataTable['output_type'] = 'display_data';\n",
              "          await google.colab.output.renderOutput(dataTable, element);\n",
              "          const docLink = document.createElement('div');\n",
              "          docLink.innerHTML = docLinkHtml;\n",
              "          element.appendChild(docLink);\n",
              "        }\n",
              "      </script>\n",
              "    </div>\n",
              "  </div>\n",
              "  "
            ]
          },
          "metadata": {},
          "execution_count": 64
        }
      ],
      "source": [
        "df = pd.DataFrame()\n",
        "df[\"predictions\"] = np.argmax(predictions,axis=1)\n",
        "df[\"actual labels\"] = y_test\n",
        "\n",
        "df"
      ]
    },
    {
      "cell_type": "code",
      "source": [
        "model.save('genremodel.h5')"
      ],
      "metadata": {
        "id": "qSpieolnChxY"
      },
      "execution_count": null,
      "outputs": []
    },
    {
      "cell_type": "code",
      "execution_count": null,
      "metadata": {
        "id": "7CogLvgFwYgN"
      },
      "outputs": [],
      "source": [
        "pick1 = {\n",
        "    'norma':scaler,\n",
        "    'model':model,\n",
        "    'lgn':lookup_genre_name\n",
        "}\n",
        "pickle.dump(pick1, open('model1.p', 'wb'))"
      ]
    },
    {
      "cell_type": "code",
      "source": [
        "pickled_model = pickle.load(open('model1.p', 'rb'))\n",
        "print(pickled_model)"
      ],
      "metadata": {
        "colab": {
          "base_uri": "https://localhost:8080/"
        },
        "id": "gfYr5Cuo35r2",
        "outputId": "bead13f7-86f2-4894-b568-2521a1503db8"
      },
      "execution_count": null,
      "outputs": [
        {
          "output_type": "stream",
          "name": "stdout",
          "text": [
            "Keras model archive loading:\n",
            "File Name                                             Modified             Size\n",
            "metadata.json                                  2023-03-23 19:23:28           64\n",
            "variables.h5                                   2023-03-23 19:23:30      2285416\n",
            "config.json                                    2023-03-23 19:23:28         2700\n",
            "Keras weights file (<HDF5 file \"variables.h5\" (mode r)>) loading:\n",
            "...layers\n",
            "......dense\n",
            ".........vars\n",
            "............0\n",
            "............1\n",
            "......dense_1\n",
            ".........vars\n",
            "............0\n",
            "............1\n",
            "......dense_2\n",
            ".........vars\n",
            "............0\n",
            "............1\n",
            "......dense_3\n",
            ".........vars\n",
            "............0\n",
            "............1\n",
            "......dense_4\n",
            ".........vars\n",
            "............0\n",
            "............1\n",
            "...metrics\n",
            "......mean\n",
            ".........vars\n",
            "............0\n",
            "............1\n",
            "......mean_metric_wrapper\n",
            ".........vars\n",
            "............0\n",
            "............1\n",
            "...optimizer\n",
            "......vars\n",
            ".........0\n",
            ".........1\n",
            ".........10\n",
            ".........11\n",
            ".........12\n",
            ".........13\n",
            ".........14\n",
            ".........15\n",
            ".........16\n",
            ".........17\n",
            ".........18\n",
            ".........19\n",
            ".........2\n",
            ".........20\n",
            ".........3\n",
            ".........4\n",
            ".........5\n",
            ".........6\n",
            ".........7\n",
            ".........8\n",
            ".........9\n",
            "...vars\n",
            "{'norma': StandardScaler(), 'svmp': <keras.engine.sequential.Sequential object at 0x7f6076e17eb0>, 'lgn': {0: 'blues', 1: 'bollypop', 2: 'carnatic', 3: 'classical', 4: 'country', 5: 'disco', 6: 'ghazal', 7: 'hiphop', 8: 'jazz', 9: 'metal', 10: 'pop', 11: 'reggae', 12: 'rock', 13: 'semiclassical', 14: 'sufi'}}\n"
          ]
        }
      ]
    }
  ],
  "metadata": {
    "accelerator": "TPU",
    "colab": {
      "provenance": []
    },
    "kernelspec": {
      "display_name": "Python 3 (ipykernel)",
      "language": "python",
      "name": "python3"
    },
    "language_info": {
      "codemirror_mode": {
        "name": "ipython",
        "version": 3
      },
      "file_extension": ".py",
      "mimetype": "text/x-python",
      "name": "python",
      "nbconvert_exporter": "python",
      "pygments_lexer": "ipython3",
      "version": "3.8.2"
    },
    "gpuClass": "standard"
  },
  "nbformat": 4,
  "nbformat_minor": 0
}