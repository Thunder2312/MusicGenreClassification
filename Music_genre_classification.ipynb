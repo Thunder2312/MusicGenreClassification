{
 "cells": [
  {
   "cell_type": "markdown",
   "metadata": {
    "id": "cNnM2w-HCeb1"
   },
   "source": [
    "# Music genre classification notebook"
   ]
  },
  {
   "cell_type": "markdown",
   "metadata": {
    "id": "2l3sppZMCydR"
   },
   "source": [
    "## Importing Libraries"
   ]
  },
  {
   "cell_type": "code",
   "execution_count": 1,
   "metadata": {
    "id": "Gt3fyg6dCNvX"
   },
   "outputs": [],
   "source": [
    "# feature extracting and preprocessing data\n",
    "import librosa\n",
    "import pandas as pd\n",
    "import numpy as np\n",
    "import matplotlib.pyplot as plt\n",
    "%matplotlib inline\n",
    "import os\n",
    "from PIL import Image\n",
    "import pathlib\n",
    "import csv\n",
    "\n",
    "# Preprocessing\n",
    "from sklearn.model_selection import train_test_split\n",
    "from sklearn.preprocessing import LabelEncoder, StandardScaler\n",
    "\n",
    "#Keras\n",
    "# import tensorflow\n",
    "# import keras\n",
    "import pickle\n",
    "import warnings\n",
    "warnings.filterwarnings('ignore')"
   ]
  },
  {
   "cell_type": "markdown",
   "metadata": {
    "id": "DPe_ebYuDqr5"
   },
   "source": [
    "## Extracting music and features\n",
    "\n",
    "### Dataset\n",
    "\n",
    "We use [GTZAN genre collection](http://marsyasweb.appspot.com/download/data_sets/) and Indian Music Genre dataset for classification. \n",
    "<br>\n",
    "<br>\n",
    "The GTZAN dataset consists of 10 genres i.e\n",
    " * Blues\n",
    " * Classical\n",
    " * Country\n",
    " * Disco\n",
    " * Hiphop\n",
    " * Jazz\n",
    " * Metal\n",
    " * Pop\n",
    " * Reggae\n",
    " * Rock\n",
    "\n",
    "And the Indian Music Genre dataset consists of 5 genres i.e.\n",
    " * Bollypop\n",
    " * Ghazal\n",
    " * Sufi\n",
    " * Semiclassical\n",
    " * Carnatic\n",
    "\n",
    "Each genre contains 100 songs. Total dataset: 1500 songs"
   ]
  },
  {
   "cell_type": "markdown",
   "metadata": {
    "id": "neqMS0VoDpN5"
   },
   "source": []
  },
  {
   "cell_type": "markdown",
   "metadata": {
    "id": "AfBSVfRCD3PE"
   },
   "source": [
    "## Extracting the Spectrogram for every Audio"
   ]
  },
  {
   "cell_type": "code",
   "execution_count": null,
   "metadata": {
    "id": "BHh3pTEVDdrT",
    "outputId": "b2c19a6a-9e3e-4072-ce24-03f487443755"
   },
   "outputs": [
    {
     "name": "stderr",
     "output_type": "stream",
     "text": [
      "\n",
      "KeyboardInterrupt\n",
      "\n"
     ]
    },
    {
     "name": "stdout",
     "output_type": "stream",
     "text": [
      "Error in callback <function flush_figures at 0x0000014B7300E310> (for post_execute):\n"
     ]
    }
   ],
   "source": [
    "cmap = plt.get_cmap('inferno')\n",
    "\n",
    "plt.figure(figsize=(10,10))\n",
    "genres = 'blues bollypop carnatic classical country disco ghazal hiphop jazz metal pop reggae rock semiclassical sufi'.split()\n",
    "for g in genres:\n",
    "    pathlib.Path(f'img_data/{g}').mkdir(parents=True, exist_ok=True)     \n",
    "    for filename in os.listdir(f'./genres/{g}'):\n",
    "        songname = f'./genres/{g}/{filename}'\n",
    "        y, sr = librosa.load(songname, mono=True, duration=5)\n",
    "        plt.specgram(y, NFFT=2048, Fs=2, Fc=0, noverlap=128, cmap=cmap, sides='default', mode='default', scale='dB');\n",
    "        plt.axis('off');\n",
    "        plt.savefig(f'img_data/{g}/{filename[:-3].replace(\".\", \"\")}.png')\n",
    "        plt.clf()\n",
    " "
   ]
  },
  {
   "cell_type": "markdown",
   "metadata": {
    "id": "SszVgjYnFNX9"
   },
   "source": [
    "All the audio files get converted into their respective spectrograms. We can now easily extract features from them."
   ]
  },
  {
   "cell_type": "markdown",
   "metadata": {
    "id": "3Nw9HpSdFRsW"
   },
   "source": []
  },
  {
   "cell_type": "markdown",
   "metadata": {
    "id": "piwUwgP5Eef9"
   },
   "source": [
    "## Extracting features from Spectrogram\n",
    "\n",
    "\n",
    "We will extract\n",
    "\n",
    "* Mel-frequency cepstral coefficients (MFCC)(20 in number)\n",
    "* Spectral Centroid,\n",
    "* Zero Crossing Rate\n",
    "* Chroma Frequencies\n",
    "* Spectral Roll-off."
   ]
  },
  {
   "cell_type": "code",
   "execution_count": null,
   "metadata": {
    "id": "__g8tX8pDeIL"
   },
   "outputs": [],
   "source": [
    "header = 'filename chroma_stft rmse spectral_centroid spectral_bandwidth rolloff zero_crossing_rate'\n",
    "for i in range(1, 21):\n",
    "    header += f' mfcc{i}'\n",
    "header += ' label'\n",
    "header = header.split()"
   ]
  },
  {
   "cell_type": "markdown",
   "metadata": {
    "id": "TBlT448pEqR9"
   },
   "source": [
    "## Writing data to csv file\n",
    "\n",
    "We write the data to a csv file "
   ]
  },
  {
   "cell_type": "code",
   "execution_count": null,
   "metadata": {
    "id": "ZsSQmB0PE3Iu"
   },
   "outputs": [],
   "source": [
    "file = open('data.csv', 'w', newline='')\n",
    "with file:\n",
    "    writer = csv.writer(file)\n",
    "    writer.writerow(header)\n",
    "genres = 'blues bollypop carnatic classical country disco ghazal hiphop jazz metal pop reggae rock semiclassical sufi'.split()\n",
    "for g in genres:\n",
    "    for filename in os.listdir(f'./genres/{g}'):\n",
    "        songname = f'./genres/{g}/{filename}'\n",
    "        y, sr = librosa.load(songname, mono=True, duration=30)\n",
    "        chroma_stft = librosa.feature.chroma_stft(y=y, sr=sr)\n",
    "        spec_cent = librosa.feature.spectral_centroid(y=y, sr=sr)\n",
    "        rmse = np.sqrt(librosa.feature.rms(y=y))\n",
    "        spec_bw = librosa.feature.spectral_bandwidth(y=y, sr=sr)\n",
    "        rolloff = librosa.feature.spectral_rolloff(y=y, sr=sr)\n",
    "        zcr = librosa.feature.zero_crossing_rate(y)\n",
    "        mfcc = librosa.feature.mfcc(y=y, sr=sr)\n",
    "        to_append = f'{filename}  {np.mean(chroma_stft)} {np.mean(rmse)} {np.mean(spec_cent)} {np.mean(spec_bw)} {np.mean(rolloff)} {np.mean(zcr)}'    \n",
    "        for e in mfcc:\n",
    "            to_append += f' {np.mean(e)}'\n",
    "        to_append += f' {g}'\n",
    "        file = open('data.csv', 'a', newline='')\n",
    "        with file:\n",
    "            writer = csv.writer(file)\n",
    "            writer.writerow(to_append.split())"
   ]
  },
  {
   "cell_type": "markdown",
   "metadata": {
    "id": "0yfdo1cj6V7d"
   },
   "source": [
    "The data has been extracted into a data.csv file."
   ]
  },
  {
   "cell_type": "markdown",
   "metadata": {
    "id": "fgeCZSKQEp1A"
   },
   "source": [
    "# Analysing the Data in Pandas"
   ]
  },
  {
   "cell_type": "code",
   "execution_count": 5,
   "metadata": {
    "colab": {
     "base_uri": "https://localhost:8080/",
     "height": 299
    },
    "id": "Kr5_EdpD9dyh",
    "outputId": "fe1276d1-2dad-4c01-bf60-0331e931fa1a"
   },
   "outputs": [
    {
     "data": {
      "text/html": [
       "<div>\n",
       "<style scoped>\n",
       "    .dataframe tbody tr th:only-of-type {\n",
       "        vertical-align: middle;\n",
       "    }\n",
       "\n",
       "    .dataframe tbody tr th {\n",
       "        vertical-align: top;\n",
       "    }\n",
       "\n",
       "    .dataframe thead th {\n",
       "        text-align: right;\n",
       "    }\n",
       "</style>\n",
       "<table border=\"1\" class=\"dataframe\">\n",
       "  <thead>\n",
       "    <tr style=\"text-align: right;\">\n",
       "      <th></th>\n",
       "      <th>filename</th>\n",
       "      <th>tempo</th>\n",
       "      <th>chroma_stft</th>\n",
       "      <th>rmse</th>\n",
       "      <th>spectral_centroid</th>\n",
       "      <th>spectral_bandwidth</th>\n",
       "      <th>rolloff</th>\n",
       "      <th>zero_crossing_rate</th>\n",
       "      <th>mfcc1</th>\n",
       "      <th>mfcc2</th>\n",
       "      <th>...</th>\n",
       "      <th>mfcc12</th>\n",
       "      <th>mfcc13</th>\n",
       "      <th>mfcc14</th>\n",
       "      <th>mfcc15</th>\n",
       "      <th>mfcc16</th>\n",
       "      <th>mfcc17</th>\n",
       "      <th>mfcc18</th>\n",
       "      <th>mfcc19</th>\n",
       "      <th>mfcc20</th>\n",
       "      <th>label</th>\n",
       "    </tr>\n",
       "  </thead>\n",
       "  <tbody>\n",
       "    <tr>\n",
       "      <th>0</th>\n",
       "      <td>blues.00000.wav</td>\n",
       "      <td>123.046875</td>\n",
       "      <td>0.349943</td>\n",
       "      <td>0.353032</td>\n",
       "      <td>1784.420446</td>\n",
       "      <td>2002.650192</td>\n",
       "      <td>3806.485316</td>\n",
       "      <td>0.083066</td>\n",
       "      <td>-113.596748</td>\n",
       "      <td>121.557297</td>\n",
       "      <td>...</td>\n",
       "      <td>8.810669</td>\n",
       "      <td>-3.667368</td>\n",
       "      <td>5.751691</td>\n",
       "      <td>-5.162763</td>\n",
       "      <td>0.750948</td>\n",
       "      <td>-1.691938</td>\n",
       "      <td>-0.409953</td>\n",
       "      <td>-2.300209</td>\n",
       "      <td>1.219929</td>\n",
       "      <td>blues</td>\n",
       "    </tr>\n",
       "    <tr>\n",
       "      <th>1</th>\n",
       "      <td>blues.00001.wav</td>\n",
       "      <td>67.999589</td>\n",
       "      <td>0.340983</td>\n",
       "      <td>0.297381</td>\n",
       "      <td>1529.835316</td>\n",
       "      <td>2038.617579</td>\n",
       "      <td>3548.820207</td>\n",
       "      <td>0.056044</td>\n",
       "      <td>-207.556793</td>\n",
       "      <td>124.006721</td>\n",
       "      <td>...</td>\n",
       "      <td>5.376803</td>\n",
       "      <td>-2.239120</td>\n",
       "      <td>4.216963</td>\n",
       "      <td>-6.012273</td>\n",
       "      <td>0.936109</td>\n",
       "      <td>-0.716537</td>\n",
       "      <td>0.293876</td>\n",
       "      <td>-0.287431</td>\n",
       "      <td>0.531573</td>\n",
       "      <td>blues</td>\n",
       "    </tr>\n",
       "    <tr>\n",
       "      <th>2</th>\n",
       "      <td>blues.00002.wav</td>\n",
       "      <td>161.499023</td>\n",
       "      <td>0.363603</td>\n",
       "      <td>0.414141</td>\n",
       "      <td>1552.481958</td>\n",
       "      <td>1747.165985</td>\n",
       "      <td>3040.514948</td>\n",
       "      <td>0.076301</td>\n",
       "      <td>-90.754387</td>\n",
       "      <td>140.459900</td>\n",
       "      <td>...</td>\n",
       "      <td>5.789265</td>\n",
       "      <td>-8.905224</td>\n",
       "      <td>-1.083720</td>\n",
       "      <td>-9.218359</td>\n",
       "      <td>2.455806</td>\n",
       "      <td>-7.726901</td>\n",
       "      <td>-1.815723</td>\n",
       "      <td>-3.433434</td>\n",
       "      <td>-2.226821</td>\n",
       "      <td>blues</td>\n",
       "    </tr>\n",
       "    <tr>\n",
       "      <th>3</th>\n",
       "      <td>blues.00003.wav</td>\n",
       "      <td>63.024009</td>\n",
       "      <td>0.404779</td>\n",
       "      <td>0.358998</td>\n",
       "      <td>1070.119953</td>\n",
       "      <td>1596.333948</td>\n",
       "      <td>2185.028454</td>\n",
       "      <td>0.033309</td>\n",
       "      <td>-199.431152</td>\n",
       "      <td>150.099213</td>\n",
       "      <td>...</td>\n",
       "      <td>6.087676</td>\n",
       "      <td>-2.476421</td>\n",
       "      <td>-1.073890</td>\n",
       "      <td>-2.874778</td>\n",
       "      <td>0.780977</td>\n",
       "      <td>-3.316932</td>\n",
       "      <td>0.637982</td>\n",
       "      <td>-0.619690</td>\n",
       "      <td>-3.408233</td>\n",
       "      <td>blues</td>\n",
       "    </tr>\n",
       "    <tr>\n",
       "      <th>4</th>\n",
       "      <td>blues.00004.wav</td>\n",
       "      <td>135.999178</td>\n",
       "      <td>0.308590</td>\n",
       "      <td>0.291960</td>\n",
       "      <td>1835.494603</td>\n",
       "      <td>1748.362448</td>\n",
       "      <td>3580.945013</td>\n",
       "      <td>0.101500</td>\n",
       "      <td>-160.266037</td>\n",
       "      <td>126.198807</td>\n",
       "      <td>...</td>\n",
       "      <td>-2.806383</td>\n",
       "      <td>-6.934123</td>\n",
       "      <td>-7.558618</td>\n",
       "      <td>-9.173553</td>\n",
       "      <td>-4.512165</td>\n",
       "      <td>-5.453538</td>\n",
       "      <td>-0.924161</td>\n",
       "      <td>-4.409333</td>\n",
       "      <td>-11.703781</td>\n",
       "      <td>blues</td>\n",
       "    </tr>\n",
       "  </tbody>\n",
       "</table>\n",
       "<p>5 rows × 29 columns</p>\n",
       "</div>"
      ],
      "text/plain": [
       "          filename       tempo  chroma_stft      rmse  spectral_centroid  \\\n",
       "0  blues.00000.wav  123.046875     0.349943  0.353032        1784.420446   \n",
       "1  blues.00001.wav   67.999589     0.340983  0.297381        1529.835316   \n",
       "2  blues.00002.wav  161.499023     0.363603  0.414141        1552.481958   \n",
       "3  blues.00003.wav   63.024009     0.404779  0.358998        1070.119953   \n",
       "4  blues.00004.wav  135.999178     0.308590  0.291960        1835.494603   \n",
       "\n",
       "   spectral_bandwidth      rolloff  zero_crossing_rate       mfcc1  \\\n",
       "0         2002.650192  3806.485316            0.083066 -113.596748   \n",
       "1         2038.617579  3548.820207            0.056044 -207.556793   \n",
       "2         1747.165985  3040.514948            0.076301  -90.754387   \n",
       "3         1596.333948  2185.028454            0.033309 -199.431152   \n",
       "4         1748.362448  3580.945013            0.101500 -160.266037   \n",
       "\n",
       "        mfcc2  ...    mfcc12    mfcc13    mfcc14    mfcc15    mfcc16  \\\n",
       "0  121.557297  ...  8.810669 -3.667368  5.751691 -5.162763  0.750948   \n",
       "1  124.006721  ...  5.376803 -2.239120  4.216963 -6.012273  0.936109   \n",
       "2  140.459900  ...  5.789265 -8.905224 -1.083720 -9.218359  2.455806   \n",
       "3  150.099213  ...  6.087676 -2.476421 -1.073890 -2.874778  0.780977   \n",
       "4  126.198807  ... -2.806383 -6.934123 -7.558618 -9.173553 -4.512165   \n",
       "\n",
       "     mfcc17    mfcc18    mfcc19     mfcc20  label  \n",
       "0 -1.691938 -0.409953 -2.300209   1.219929  blues  \n",
       "1 -0.716537  0.293876 -0.287431   0.531573  blues  \n",
       "2 -7.726901 -1.815723 -3.433434  -2.226821  blues  \n",
       "3 -3.316932  0.637982 -0.619690  -3.408233  blues  \n",
       "4 -5.453538 -0.924161 -4.409333 -11.703781  blues  \n",
       "\n",
       "[5 rows x 29 columns]"
      ]
     },
     "execution_count": 5,
     "metadata": {},
     "output_type": "execute_result"
    }
   ],
   "source": [
    "data = pd.read_csv('C:\\\\Users\\\\Franklin David\\\\Downloads\\\\data.csv')\n",
    "data.head()"
   ]
  },
  {
   "cell_type": "code",
   "execution_count": 3,
   "metadata": {
    "colab": {
     "base_uri": "https://localhost:8080/"
    },
    "id": "iHrDHCaR9gKR",
    "outputId": "ce1cc230-e627-42a9-9636-449c798bff33"
   },
   "outputs": [
    {
     "data": {
      "text/plain": [
       "(1499, 29)"
      ]
     },
     "execution_count": 3,
     "metadata": {},
     "output_type": "execute_result"
    }
   ],
   "source": [
    "data.shape"
   ]
  },
  {
   "cell_type": "code",
   "execution_count": 7,
   "metadata": {},
   "outputs": [],
   "source": [
    "%matplotlib notebook\n",
    "from sklearn.model_selection import train_test_split\n",
    "import matplotlib.pyplot as plt\n",
    "data['label'] = data['label'].astype('category')\n",
    "data['class_label'] = data['label'].cat.codes\n",
    "X = data.iloc[:,1:28]\n",
    "y = data['class_label']\n",
    "X_train, X_test, y_train, y_test = train_test_split(X, y,test_size=0.2, random_state=3)"
   ]
  },
  {
   "cell_type": "code",
   "execution_count": 8,
   "metadata": {},
   "outputs": [],
   "source": [
    "from sklearn.preprocessing import MinMaxScaler\n",
    "scaler = MinMaxScaler()\n",
    "X_train_scaled = scaler.fit_transform(X_train)\n",
    "# we must apply the scaling to the test set that we computed for the training set\n",
    "X_test_scaled = scaler.transform(X_test)"
   ]
  },
  {
   "cell_type": "code",
   "execution_count": 4,
   "metadata": {
    "id": "veD5BgX49hZa"
   },
   "outputs": [],
   "source": [
    "# Dropping unnecessary columns\n",
    "data = data.drop(['filename'],axis=1)"
   ]
  },
  {
   "cell_type": "markdown",
   "metadata": {
    "id": "Nyr0aAAsGXjZ"
   },
   "source": [
    "## Encoding the Labels"
   ]
  },
  {
   "cell_type": "code",
   "execution_count": 8,
   "metadata": {
    "id": "frI5HH4q-1HS"
   },
   "outputs": [],
   "source": [
    "genre_list = data.iloc[:, -1]\n",
    "encoder = LabelEncoder()\n",
    "y = encoder.fit_transform(genre_list)"
   ]
  },
  {
   "cell_type": "markdown",
   "metadata": {
    "id": "_2n8a02zGfvP"
   },
   "source": [
    "## Scaling the Feature columns"
   ]
  },
  {
   "cell_type": "code",
   "execution_count": 9,
   "metadata": {
    "id": "uqcqn-nyAofk"
   },
   "outputs": [],
   "source": [
    "scaler = StandardScaler()\n",
    "X = scaler.fit_transform(np.array(data.iloc[:, :-1], dtype = float))"
   ]
  },
  {
   "cell_type": "code",
   "execution_count": 9,
   "metadata": {
    "colab": {
     "base_uri": "https://localhost:8080/"
    },
    "id": "I5xgR6XIwYgD",
    "outputId": "c30f4e7c-0115-4b74-a4b1-63ae34cef7bf"
   },
   "outputs": [
    {
     "data": {
      "text/plain": [
       "{0: 'blues',\n",
       " 1: 'bollypop',\n",
       " 2: 'carnatic',\n",
       " 3: 'classical',\n",
       " 4: 'country',\n",
       " 5: 'disco',\n",
       " 6: 'ghazal',\n",
       " 7: 'hiphop',\n",
       " 8: 'jazz',\n",
       " 9: 'metal',\n",
       " 10: 'pop',\n",
       " 11: 'reggae',\n",
       " 12: 'rock',\n",
       " 13: 'semiclassical',\n",
       " 14: 'sufi'}"
      ]
     },
     "execution_count": 9,
     "metadata": {},
     "output_type": "execute_result"
    }
   ],
   "source": [
    "lookup_genre_name = {0:'blues',1:'bollypop',2:'carnatic',3:'classical',4:'country',\n",
    "                     5:'disco',6:'ghazal',7:'hiphop',8:'jazz',9:'metal', 10:'pop',\n",
    "                     11:'reggae',12:'rock',13:'semiclassical',14:'sufi'}   \n",
    "lookup_genre_name"
   ]
  },
  {
   "cell_type": "markdown",
   "metadata": {
    "id": "e3VZvbwpGo9R"
   },
   "source": [
    "## Dividing data into training and Testing set"
   ]
  },
  {
   "cell_type": "code",
   "execution_count": 11,
   "metadata": {
    "id": "F1GW3VvQA7Rj"
   },
   "outputs": [],
   "source": [
    "X_train, X_test, y_train, y_test = train_test_split(X, y, test_size=0.2, random_state=42)"
   ]
  },
  {
   "cell_type": "code",
   "execution_count": 12,
   "metadata": {
    "colab": {
     "base_uri": "https://localhost:8080/"
    },
    "id": "upuczQ-KBHJ5",
    "outputId": "4da8af29-3c08-4634-db1a-b1a821451e48"
   },
   "outputs": [
    {
     "data": {
      "text/plain": [
       "1199"
      ]
     },
     "execution_count": 12,
     "metadata": {},
     "output_type": "execute_result"
    }
   ],
   "source": [
    "len(y_train)"
   ]
  },
  {
   "cell_type": "code",
   "execution_count": 13,
   "metadata": {
    "colab": {
     "base_uri": "https://localhost:8080/"
    },
    "id": "LtoE_FqqBzM8",
    "outputId": "504503c3-e1d4-4c23-bbe7-acb8610e0d92"
   },
   "outputs": [
    {
     "data": {
      "text/plain": [
       "300"
      ]
     },
     "execution_count": 13,
     "metadata": {},
     "output_type": "execute_result"
    }
   ],
   "source": [
    "len(y_test)"
   ]
  },
  {
   "cell_type": "code",
   "execution_count": 14,
   "metadata": {
    "colab": {
     "base_uri": "https://localhost:8080/"
    },
    "id": "ir9XaWgQB0lq",
    "outputId": "73dcc646-4411-461d-ff2b-e1d53b78a795"
   },
   "outputs": [
    {
     "data": {
      "text/plain": [
       "array([-1.08134942, -0.53123043, -0.16638579, -1.43135806, -1.38542051,\n",
       "       -1.54129445, -1.14436556, -0.33254268,  1.96278703, -0.41909478,\n",
       "       -0.14020169,  0.78185361, -1.70076751,  0.00802416, -0.788509  ,\n",
       "       -0.09689792, -1.24068266,  1.08945061, -1.23546563, -0.16917704,\n",
       "        0.363867  , -0.16040787, -0.96964014, -0.20422944, -0.78361242,\n",
       "        0.60818569, -0.26177049])"
      ]
     },
     "execution_count": 14,
     "metadata": {},
     "output_type": "execute_result"
    }
   ],
   "source": [
    "X_train[10]"
   ]
  },
  {
   "cell_type": "markdown",
   "metadata": {
    "id": "Vp2yc5FWG04e"
   },
   "source": [
    "# Classification with Keras\n",
    "\n",
    "## Building our Network"
   ]
  },
  {
   "cell_type": "code",
   "execution_count": 35,
   "metadata": {
    "colab": {
     "base_uri": "https://localhost:8080/"
    },
    "id": "Qj3sc2uFEUMt",
    "outputId": "c19706a5-c6af-45a4-efe1-c8524af664ba"
   },
   "outputs": [
    {
     "name": "stdout",
     "output_type": "stream",
     "text": [
      "Model: \"sequential_3\"\n",
      "_________________________________________________________________\n",
      " Layer (type)                Output Shape              Param #   \n",
      "=================================================================\n",
      " dense_12 (Dense)            (None, 256)               7168      \n",
      "                                                                 \n",
      " dropout_9 (Dropout)         (None, 256)               0         \n",
      "                                                                 \n",
      " dense_13 (Dense)            (None, 128)               32896     \n",
      "                                                                 \n",
      " dropout_10 (Dropout)        (None, 128)               0         \n",
      "                                                                 \n",
      " dense_14 (Dense)            (None, 64)                8256      \n",
      "                                                                 \n",
      " dropout_11 (Dropout)        (None, 64)                0         \n",
      "                                                                 \n",
      " dense_15 (Dense)            (None, 15)                975       \n",
      "                                                                 \n",
      "=================================================================\n",
      "Total params: 49,295\n",
      "Trainable params: 49,295\n",
      "Non-trainable params: 0\n",
      "_________________________________________________________________\n"
     ]
    }
   ],
   "source": [
    "from keras import models\n",
    "from keras import layers\n",
    "\n",
    "model = models.Sequential([\n",
    "layers.Dense(256, activation='relu', input_shape=(X_train.shape[1],)),\n",
    "layers.Dropout(0.2),\n",
    "layers.Dense(128, activation='relu'),\n",
    "layers.Dropout(0.2),\n",
    "layers.Dense(64, activation='relu'),\n",
    "layers.Dropout(0.2),\n",
    "layers.Dense(15, activation='softmax'),\n",
    "])\n",
    "model.summary()"
   ]
  },
  {
   "cell_type": "code",
   "execution_count": 36,
   "metadata": {
    "id": "7yrsmpI6EjJ2"
   },
   "outputs": [],
   "source": [
    "model.compile(optimizer='adam',\n",
    "              loss='sparse_categorical_crossentropy',\n",
    "              metrics=['accuracy'])"
   ]
  },
  {
   "cell_type": "code",
   "execution_count": 37,
   "metadata": {
    "colab": {
     "base_uri": "https://localhost:8080/"
    },
    "id": "bP0hVm4aElS7",
    "outputId": "9c2c9837-b588-4b1e-dadd-54e0e7fd3468"
   },
   "outputs": [
    {
     "name": "stdout",
     "output_type": "stream",
     "text": [
      "Epoch 1/300\n",
      "10/10 [==============================] - 1s 7ms/step - loss: 2.6148 - accuracy: 0.1326\n",
      "Epoch 2/300\n",
      "10/10 [==============================] - 0s 8ms/step - loss: 2.3412 - accuracy: 0.2560\n",
      "Epoch 3/300\n",
      "10/10 [==============================] - 0s 7ms/step - loss: 2.1190 - accuracy: 0.3369\n",
      "Epoch 4/300\n",
      "10/10 [==============================] - 0s 7ms/step - loss: 1.9094 - accuracy: 0.3903\n",
      "Epoch 5/300\n",
      "10/10 [==============================] - 0s 8ms/step - loss: 1.7333 - accuracy: 0.4362\n",
      "Epoch 6/300\n",
      "10/10 [==============================] - 0s 9ms/step - loss: 1.6363 - accuracy: 0.4537\n",
      "Epoch 7/300\n",
      "10/10 [==============================] - 0s 10ms/step - loss: 1.5072 - accuracy: 0.5054\n",
      "Epoch 8/300\n",
      "10/10 [==============================] - 0s 9ms/step - loss: 1.4598 - accuracy: 0.5113\n",
      "Epoch 9/300\n",
      "10/10 [==============================] - 0s 9ms/step - loss: 1.3830 - accuracy: 0.5379\n",
      "Epoch 10/300\n",
      "10/10 [==============================] - 0s 10ms/step - loss: 1.2943 - accuracy: 0.5488\n",
      "Epoch 11/300\n",
      "10/10 [==============================] - 0s 9ms/step - loss: 1.2254 - accuracy: 0.5847\n",
      "Epoch 12/300\n",
      "10/10 [==============================] - 0s 7ms/step - loss: 1.2154 - accuracy: 0.5938\n",
      "Epoch 13/300\n",
      "10/10 [==============================] - 0s 8ms/step - loss: 1.1679 - accuracy: 0.6155\n",
      "Epoch 14/300\n",
      "10/10 [==============================] - 0s 8ms/step - loss: 1.1064 - accuracy: 0.6322\n",
      "Epoch 15/300\n",
      "10/10 [==============================] - 0s 7ms/step - loss: 1.0755 - accuracy: 0.6347\n",
      "Epoch 16/300\n",
      "10/10 [==============================] - 0s 7ms/step - loss: 1.0533 - accuracy: 0.6455\n",
      "Epoch 17/300\n",
      "10/10 [==============================] - 0s 7ms/step - loss: 1.0033 - accuracy: 0.6555\n",
      "Epoch 18/300\n",
      "10/10 [==============================] - 0s 7ms/step - loss: 1.0032 - accuracy: 0.6564\n",
      "Epoch 19/300\n",
      "10/10 [==============================] - 0s 6ms/step - loss: 0.9940 - accuracy: 0.6806\n",
      "Epoch 20/300\n",
      "10/10 [==============================] - 0s 7ms/step - loss: 0.9705 - accuracy: 0.6631\n",
      "Epoch 21/300\n",
      "10/10 [==============================] - 0s 6ms/step - loss: 0.9188 - accuracy: 0.6964\n",
      "Epoch 22/300\n",
      "10/10 [==============================] - 0s 10ms/step - loss: 0.9225 - accuracy: 0.6781\n",
      "Epoch 23/300\n",
      "10/10 [==============================] - 0s 9ms/step - loss: 0.9080 - accuracy: 0.6989\n",
      "Epoch 24/300\n",
      "10/10 [==============================] - 0s 8ms/step - loss: 0.8987 - accuracy: 0.6989\n",
      "Epoch 25/300\n",
      "10/10 [==============================] - 0s 8ms/step - loss: 0.8338 - accuracy: 0.7056\n",
      "Epoch 26/300\n",
      "10/10 [==============================] - 0s 8ms/step - loss: 0.8205 - accuracy: 0.7164\n",
      "Epoch 27/300\n",
      "10/10 [==============================] - 0s 10ms/step - loss: 0.8060 - accuracy: 0.7248\n",
      "Epoch 28/300\n",
      "10/10 [==============================] - 0s 10ms/step - loss: 0.8024 - accuracy: 0.7173\n",
      "Epoch 29/300\n",
      "10/10 [==============================] - 0s 10ms/step - loss: 0.7920 - accuracy: 0.7239\n",
      "Epoch 30/300\n",
      "10/10 [==============================] - 0s 11ms/step - loss: 0.7780 - accuracy: 0.7331\n",
      "Epoch 31/300\n",
      "10/10 [==============================] - 0s 11ms/step - loss: 0.7568 - accuracy: 0.7481\n",
      "Epoch 32/300\n",
      "10/10 [==============================] - 0s 10ms/step - loss: 0.7323 - accuracy: 0.7473\n",
      "Epoch 33/300\n",
      "10/10 [==============================] - 0s 7ms/step - loss: 0.7156 - accuracy: 0.7606\n",
      "Epoch 34/300\n",
      "10/10 [==============================] - 0s 8ms/step - loss: 0.7332 - accuracy: 0.7506\n",
      "Epoch 35/300\n",
      "10/10 [==============================] - 0s 7ms/step - loss: 0.6974 - accuracy: 0.7556\n",
      "Epoch 36/300\n",
      "10/10 [==============================] - 0s 8ms/step - loss: 0.7008 - accuracy: 0.7640\n",
      "Epoch 37/300\n",
      "10/10 [==============================] - 0s 9ms/step - loss: 0.6824 - accuracy: 0.7832\n",
      "Epoch 38/300\n",
      "10/10 [==============================] - 0s 8ms/step - loss: 0.6466 - accuracy: 0.7832\n",
      "Epoch 39/300\n",
      "10/10 [==============================] - 0s 8ms/step - loss: 0.6754 - accuracy: 0.7756\n",
      "Epoch 40/300\n",
      "10/10 [==============================] - 0s 8ms/step - loss: 0.6539 - accuracy: 0.7723\n",
      "Epoch 41/300\n",
      "10/10 [==============================] - 0s 7ms/step - loss: 0.6347 - accuracy: 0.7865\n",
      "Epoch 42/300\n",
      "10/10 [==============================] - 0s 8ms/step - loss: 0.6452 - accuracy: 0.7723\n",
      "Epoch 43/300\n",
      "10/10 [==============================] - 0s 7ms/step - loss: 0.5906 - accuracy: 0.7915\n",
      "Epoch 44/300\n",
      "10/10 [==============================] - 0s 7ms/step - loss: 0.5912 - accuracy: 0.8015\n",
      "Epoch 45/300\n",
      "10/10 [==============================] - 0s 8ms/step - loss: 0.5846 - accuracy: 0.7940\n",
      "Epoch 46/300\n",
      "10/10 [==============================] - 0s 7ms/step - loss: 0.5671 - accuracy: 0.8082\n",
      "Epoch 47/300\n",
      "10/10 [==============================] - 0s 7ms/step - loss: 0.5815 - accuracy: 0.7982\n",
      "Epoch 48/300\n",
      "10/10 [==============================] - 0s 10ms/step - loss: 0.5670 - accuracy: 0.8015\n",
      "Epoch 49/300\n",
      "10/10 [==============================] - 0s 11ms/step - loss: 0.5189 - accuracy: 0.8232\n",
      "Epoch 50/300\n",
      "10/10 [==============================] - 0s 10ms/step - loss: 0.5424 - accuracy: 0.8048\n",
      "Epoch 51/300\n",
      "10/10 [==============================] - 0s 10ms/step - loss: 0.5364 - accuracy: 0.8207\n",
      "Epoch 52/300\n",
      "10/10 [==============================] - 0s 10ms/step - loss: 0.5286 - accuracy: 0.8207\n",
      "Epoch 53/300\n",
      "10/10 [==============================] - 0s 12ms/step - loss: 0.5386 - accuracy: 0.8073\n",
      "Epoch 54/300\n",
      "10/10 [==============================] - 0s 11ms/step - loss: 0.5170 - accuracy: 0.8215\n",
      "Epoch 55/300\n",
      "10/10 [==============================] - 0s 10ms/step - loss: 0.5329 - accuracy: 0.8157\n",
      "Epoch 56/300\n",
      "10/10 [==============================] - 0s 11ms/step - loss: 0.4964 - accuracy: 0.8357\n",
      "Epoch 57/300\n",
      "10/10 [==============================] - 0s 9ms/step - loss: 0.5011 - accuracy: 0.8307\n",
      "Epoch 58/300\n",
      "10/10 [==============================] - 0s 9ms/step - loss: 0.4886 - accuracy: 0.8257\n",
      "Epoch 59/300\n",
      "10/10 [==============================] - 0s 11ms/step - loss: 0.4656 - accuracy: 0.8407\n",
      "Epoch 60/300\n",
      "10/10 [==============================] - 0s 11ms/step - loss: 0.4667 - accuracy: 0.8449\n",
      "Epoch 61/300\n",
      "10/10 [==============================] - 0s 10ms/step - loss: 0.4763 - accuracy: 0.8290\n",
      "Epoch 62/300\n",
      "10/10 [==============================] - 0s 10ms/step - loss: 0.4383 - accuracy: 0.8657\n",
      "Epoch 63/300\n",
      "10/10 [==============================] - 0s 10ms/step - loss: 0.4626 - accuracy: 0.8382\n",
      "Epoch 64/300\n",
      "10/10 [==============================] - 0s 13ms/step - loss: 0.4409 - accuracy: 0.8457\n",
      "Epoch 65/300\n",
      "10/10 [==============================] - 0s 10ms/step - loss: 0.4241 - accuracy: 0.8449\n",
      "Epoch 66/300\n",
      "10/10 [==============================] - 0s 10ms/step - loss: 0.4386 - accuracy: 0.8440\n",
      "Epoch 67/300\n",
      "10/10 [==============================] - 0s 11ms/step - loss: 0.4129 - accuracy: 0.8716\n",
      "Epoch 68/300\n",
      "10/10 [==============================] - 0s 11ms/step - loss: 0.4436 - accuracy: 0.8440\n",
      "Epoch 69/300\n",
      "10/10 [==============================] - 0s 12ms/step - loss: 0.3975 - accuracy: 0.8774\n",
      "Epoch 70/300\n",
      "10/10 [==============================] - 0s 9ms/step - loss: 0.3987 - accuracy: 0.8649\n",
      "Epoch 71/300\n",
      "10/10 [==============================] - 0s 11ms/step - loss: 0.4129 - accuracy: 0.8666\n",
      "Epoch 72/300\n",
      "10/10 [==============================] - 0s 11ms/step - loss: 0.3958 - accuracy: 0.8757\n",
      "Epoch 73/300\n",
      "10/10 [==============================] - 0s 10ms/step - loss: 0.3875 - accuracy: 0.8641\n",
      "Epoch 74/300\n",
      "10/10 [==============================] - 0s 10ms/step - loss: 0.3653 - accuracy: 0.8774\n",
      "Epoch 75/300\n",
      "10/10 [==============================] - 0s 11ms/step - loss: 0.3889 - accuracy: 0.8549\n",
      "Epoch 76/300\n",
      "10/10 [==============================] - 0s 11ms/step - loss: 0.3893 - accuracy: 0.8691\n",
      "Epoch 77/300\n",
      "10/10 [==============================] - 0s 10ms/step - loss: 0.3673 - accuracy: 0.8691\n",
      "Epoch 78/300\n",
      "10/10 [==============================] - 0s 10ms/step - loss: 0.3641 - accuracy: 0.8699\n",
      "Epoch 79/300\n",
      "10/10 [==============================] - 0s 10ms/step - loss: 0.3508 - accuracy: 0.8799\n",
      "Epoch 80/300\n",
      "10/10 [==============================] - 0s 10ms/step - loss: 0.3424 - accuracy: 0.8841\n",
      "Epoch 81/300\n",
      "10/10 [==============================] - 0s 10ms/step - loss: 0.3571 - accuracy: 0.8824\n",
      "Epoch 82/300\n",
      "10/10 [==============================] - 0s 10ms/step - loss: 0.3536 - accuracy: 0.8832\n",
      "Epoch 83/300\n",
      "10/10 [==============================] - 0s 10ms/step - loss: 0.3347 - accuracy: 0.8757\n",
      "Epoch 84/300\n",
      "10/10 [==============================] - 0s 8ms/step - loss: 0.3261 - accuracy: 0.8891\n",
      "Epoch 85/300\n",
      "10/10 [==============================] - 0s 7ms/step - loss: 0.3287 - accuracy: 0.8899\n",
      "Epoch 86/300\n",
      "10/10 [==============================] - 0s 7ms/step - loss: 0.3028 - accuracy: 0.8966\n",
      "Epoch 87/300\n",
      "10/10 [==============================] - 0s 6ms/step - loss: 0.3257 - accuracy: 0.8966\n",
      "Epoch 88/300\n",
      "10/10 [==============================] - 0s 8ms/step - loss: 0.3103 - accuracy: 0.8899\n",
      "Epoch 89/300\n",
      "10/10 [==============================] - 0s 8ms/step - loss: 0.3119 - accuracy: 0.8974\n",
      "Epoch 90/300\n",
      "10/10 [==============================] - 0s 8ms/step - loss: 0.3220 - accuracy: 0.8924\n",
      "Epoch 91/300\n",
      "10/10 [==============================] - 0s 7ms/step - loss: 0.3076 - accuracy: 0.9024\n",
      "Epoch 92/300\n",
      "10/10 [==============================] - 0s 9ms/step - loss: 0.2828 - accuracy: 0.9049\n",
      "Epoch 93/300\n",
      "10/10 [==============================] - 0s 8ms/step - loss: 0.3027 - accuracy: 0.9049\n",
      "Epoch 94/300\n",
      "10/10 [==============================] - 0s 8ms/step - loss: 0.2949 - accuracy: 0.9058\n",
      "Epoch 95/300\n",
      "10/10 [==============================] - 0s 9ms/step - loss: 0.3089 - accuracy: 0.8957\n",
      "Epoch 96/300\n",
      "10/10 [==============================] - 0s 8ms/step - loss: 0.2892 - accuracy: 0.8982\n",
      "Epoch 97/300\n",
      "10/10 [==============================] - 0s 8ms/step - loss: 0.2734 - accuracy: 0.9091\n",
      "Epoch 98/300\n",
      "10/10 [==============================] - 0s 8ms/step - loss: 0.2685 - accuracy: 0.9074\n",
      "Epoch 99/300\n",
      "10/10 [==============================] - 0s 8ms/step - loss: 0.2490 - accuracy: 0.9266\n",
      "Epoch 100/300\n",
      "10/10 [==============================] - 0s 7ms/step - loss: 0.2766 - accuracy: 0.9133\n",
      "Epoch 101/300\n",
      "10/10 [==============================] - 0s 8ms/step - loss: 0.2552 - accuracy: 0.9091\n",
      "Epoch 102/300\n",
      "10/10 [==============================] - 0s 9ms/step - loss: 0.2578 - accuracy: 0.9191\n",
      "Epoch 103/300\n",
      "10/10 [==============================] - 0s 11ms/step - loss: 0.2852 - accuracy: 0.9008\n",
      "Epoch 104/300\n",
      "10/10 [==============================] - 0s 11ms/step - loss: 0.2722 - accuracy: 0.9099\n",
      "Epoch 105/300\n",
      "10/10 [==============================] - 0s 11ms/step - loss: 0.2612 - accuracy: 0.9033\n",
      "Epoch 106/300\n",
      "10/10 [==============================] - 0s 11ms/step - loss: 0.2446 - accuracy: 0.9174\n",
      "Epoch 107/300\n",
      "10/10 [==============================] - 0s 10ms/step - loss: 0.2613 - accuracy: 0.9091\n",
      "Epoch 108/300\n",
      "10/10 [==============================] - 0s 10ms/step - loss: 0.2327 - accuracy: 0.9258\n",
      "Epoch 109/300\n",
      "10/10 [==============================] - 0s 10ms/step - loss: 0.2473 - accuracy: 0.9083\n",
      "Epoch 110/300\n",
      "10/10 [==============================] - 0s 10ms/step - loss: 0.2463 - accuracy: 0.9258\n",
      "Epoch 111/300\n",
      "10/10 [==============================] - 0s 11ms/step - loss: 0.2527 - accuracy: 0.9183\n",
      "Epoch 112/300\n",
      "10/10 [==============================] - 0s 11ms/step - loss: 0.2483 - accuracy: 0.9191\n",
      "Epoch 113/300\n",
      "10/10 [==============================] - 0s 11ms/step - loss: 0.2427 - accuracy: 0.9324\n",
      "Epoch 114/300\n",
      "10/10 [==============================] - 0s 11ms/step - loss: 0.2351 - accuracy: 0.9241\n",
      "Epoch 115/300\n",
      "10/10 [==============================] - 0s 9ms/step - loss: 0.2181 - accuracy: 0.9291\n",
      "Epoch 116/300\n",
      "10/10 [==============================] - 0s 10ms/step - loss: 0.2235 - accuracy: 0.9216\n",
      "Epoch 117/300\n",
      "10/10 [==============================] - 0s 12ms/step - loss: 0.2003 - accuracy: 0.9316\n",
      "Epoch 118/300\n",
      "10/10 [==============================] - 0s 10ms/step - loss: 0.2296 - accuracy: 0.9216\n",
      "Epoch 119/300\n",
      "10/10 [==============================] - 0s 9ms/step - loss: 0.2106 - accuracy: 0.9274\n",
      "Epoch 120/300\n",
      "10/10 [==============================] - 0s 10ms/step - loss: 0.2033 - accuracy: 0.9258\n",
      "Epoch 121/300\n",
      "10/10 [==============================] - 0s 11ms/step - loss: 0.2062 - accuracy: 0.9191\n",
      "Epoch 122/300\n",
      "10/10 [==============================] - 0s 10ms/step - loss: 0.2248 - accuracy: 0.9191\n",
      "Epoch 123/300\n",
      "10/10 [==============================] - 0s 11ms/step - loss: 0.1996 - accuracy: 0.9341\n",
      "Epoch 124/300\n",
      "10/10 [==============================] - 0s 9ms/step - loss: 0.2209 - accuracy: 0.9233\n",
      "Epoch 125/300\n",
      "10/10 [==============================] - 0s 10ms/step - loss: 0.2313 - accuracy: 0.9183\n",
      "Epoch 126/300\n",
      "10/10 [==============================] - 0s 10ms/step - loss: 0.1909 - accuracy: 0.9366\n",
      "Epoch 127/300\n",
      "10/10 [==============================] - 0s 12ms/step - loss: 0.1958 - accuracy: 0.9425\n",
      "Epoch 128/300\n",
      "10/10 [==============================] - 0s 11ms/step - loss: 0.1959 - accuracy: 0.9366\n",
      "Epoch 129/300\n",
      "10/10 [==============================] - 0s 10ms/step - loss: 0.1987 - accuracy: 0.9324\n",
      "Epoch 130/300\n",
      "10/10 [==============================] - 0s 11ms/step - loss: 0.2161 - accuracy: 0.9266\n",
      "Epoch 131/300\n",
      "10/10 [==============================] - 0s 11ms/step - loss: 0.1906 - accuracy: 0.9341\n",
      "Epoch 132/300\n",
      "10/10 [==============================] - 0s 9ms/step - loss: 0.1896 - accuracy: 0.9341\n",
      "Epoch 133/300\n",
      "10/10 [==============================] - 0s 8ms/step - loss: 0.1976 - accuracy: 0.9374\n",
      "Epoch 134/300\n",
      "10/10 [==============================] - 0s 10ms/step - loss: 0.1794 - accuracy: 0.9366\n",
      "Epoch 135/300\n",
      "10/10 [==============================] - 0s 9ms/step - loss: 0.1924 - accuracy: 0.9324\n",
      "Epoch 136/300\n",
      "10/10 [==============================] - 0s 10ms/step - loss: 0.1818 - accuracy: 0.9383\n",
      "Epoch 137/300\n",
      "10/10 [==============================] - 0s 11ms/step - loss: 0.1978 - accuracy: 0.9324\n",
      "Epoch 138/300\n",
      "10/10 [==============================] - 0s 11ms/step - loss: 0.1767 - accuracy: 0.9416\n",
      "Epoch 139/300\n",
      "10/10 [==============================] - 0s 10ms/step - loss: 0.1567 - accuracy: 0.9475\n",
      "Epoch 140/300\n",
      "10/10 [==============================] - 0s 10ms/step - loss: 0.1657 - accuracy: 0.9508\n",
      "Epoch 141/300\n",
      "10/10 [==============================] - 0s 10ms/step - loss: 0.1722 - accuracy: 0.9450\n",
      "Epoch 142/300\n",
      "10/10 [==============================] - 0s 9ms/step - loss: 0.1718 - accuracy: 0.9341\n",
      "Epoch 143/300\n",
      "10/10 [==============================] - 0s 11ms/step - loss: 0.1620 - accuracy: 0.9458\n",
      "Epoch 144/300\n",
      "10/10 [==============================] - 0s 10ms/step - loss: 0.1565 - accuracy: 0.9425\n",
      "Epoch 145/300\n",
      "10/10 [==============================] - 0s 11ms/step - loss: 0.1786 - accuracy: 0.9408\n",
      "Epoch 146/300\n",
      "10/10 [==============================] - 0s 9ms/step - loss: 0.1576 - accuracy: 0.9458\n",
      "Epoch 147/300\n",
      "10/10 [==============================] - 0s 9ms/step - loss: 0.1634 - accuracy: 0.9450\n",
      "Epoch 148/300\n",
      "10/10 [==============================] - 0s 9ms/step - loss: 0.1637 - accuracy: 0.9483\n",
      "Epoch 149/300\n",
      "10/10 [==============================] - 0s 10ms/step - loss: 0.1538 - accuracy: 0.9508\n",
      "Epoch 150/300\n",
      "10/10 [==============================] - 0s 10ms/step - loss: 0.1690 - accuracy: 0.9358\n",
      "Epoch 151/300\n",
      "10/10 [==============================] - 0s 10ms/step - loss: 0.1402 - accuracy: 0.9491\n",
      "Epoch 152/300\n",
      "10/10 [==============================] - 0s 10ms/step - loss: 0.1583 - accuracy: 0.9450\n",
      "Epoch 153/300\n",
      "10/10 [==============================] - 0s 9ms/step - loss: 0.1544 - accuracy: 0.9525\n",
      "Epoch 154/300\n",
      "10/10 [==============================] - 0s 10ms/step - loss: 0.1636 - accuracy: 0.9458\n",
      "Epoch 155/300\n",
      "10/10 [==============================] - 0s 10ms/step - loss: 0.1645 - accuracy: 0.9425\n",
      "Epoch 156/300\n",
      "10/10 [==============================] - 0s 11ms/step - loss: 0.1775 - accuracy: 0.9425\n",
      "Epoch 157/300\n",
      "10/10 [==============================] - 0s 9ms/step - loss: 0.1425 - accuracy: 0.9525\n",
      "Epoch 158/300\n",
      "10/10 [==============================] - 0s 9ms/step - loss: 0.1609 - accuracy: 0.9433\n",
      "Epoch 159/300\n",
      "10/10 [==============================] - 0s 10ms/step - loss: 0.1652 - accuracy: 0.9441\n",
      "Epoch 160/300\n",
      "10/10 [==============================] - 0s 9ms/step - loss: 0.1499 - accuracy: 0.9475\n",
      "Epoch 161/300\n",
      "10/10 [==============================] - 0s 9ms/step - loss: 0.1371 - accuracy: 0.9591\n",
      "Epoch 162/300\n",
      "10/10 [==============================] - 0s 10ms/step - loss: 0.1366 - accuracy: 0.9583\n"
     ]
    },
    {
     "name": "stdout",
     "output_type": "stream",
     "text": [
      "Epoch 163/300\n",
      "10/10 [==============================] - 0s 9ms/step - loss: 0.1296 - accuracy: 0.9641\n",
      "Epoch 164/300\n",
      "10/10 [==============================] - 0s 9ms/step - loss: 0.1328 - accuracy: 0.9625\n",
      "Epoch 165/300\n",
      "10/10 [==============================] - 0s 8ms/step - loss: 0.1463 - accuracy: 0.9525\n",
      "Epoch 166/300\n",
      "10/10 [==============================] - 0s 8ms/step - loss: 0.1583 - accuracy: 0.9475\n",
      "Epoch 167/300\n",
      "10/10 [==============================] - 0s 7ms/step - loss: 0.1431 - accuracy: 0.9491\n",
      "Epoch 168/300\n",
      "10/10 [==============================] - 0s 8ms/step - loss: 0.1237 - accuracy: 0.9566\n",
      "Epoch 169/300\n",
      "10/10 [==============================] - 0s 7ms/step - loss: 0.1306 - accuracy: 0.9533\n",
      "Epoch 170/300\n",
      "10/10 [==============================] - 0s 7ms/step - loss: 0.1479 - accuracy: 0.9550\n",
      "Epoch 171/300\n",
      "10/10 [==============================] - 0s 7ms/step - loss: 0.1375 - accuracy: 0.9516\n",
      "Epoch 172/300\n",
      "10/10 [==============================] - 0s 7ms/step - loss: 0.1188 - accuracy: 0.9600\n",
      "Epoch 173/300\n",
      "10/10 [==============================] - 0s 10ms/step - loss: 0.1066 - accuracy: 0.9683\n",
      "Epoch 174/300\n",
      "10/10 [==============================] - 0s 7ms/step - loss: 0.1127 - accuracy: 0.9625\n",
      "Epoch 175/300\n",
      "10/10 [==============================] - 0s 7ms/step - loss: 0.1305 - accuracy: 0.9625\n",
      "Epoch 176/300\n",
      "10/10 [==============================] - 0s 6ms/step - loss: 0.1195 - accuracy: 0.9616\n",
      "Epoch 177/300\n",
      "10/10 [==============================] - 0s 8ms/step - loss: 0.0997 - accuracy: 0.9675\n",
      "Epoch 178/300\n",
      "10/10 [==============================] - 0s 8ms/step - loss: 0.1275 - accuracy: 0.9558\n",
      "Epoch 179/300\n",
      "10/10 [==============================] - 0s 7ms/step - loss: 0.1223 - accuracy: 0.9575\n",
      "Epoch 180/300\n",
      "10/10 [==============================] - 0s 7ms/step - loss: 0.1200 - accuracy: 0.9600\n",
      "Epoch 181/300\n",
      "10/10 [==============================] - 0s 7ms/step - loss: 0.1195 - accuracy: 0.9583\n",
      "Epoch 182/300\n",
      "10/10 [==============================] - 0s 7ms/step - loss: 0.1099 - accuracy: 0.9658\n",
      "Epoch 183/300\n",
      "10/10 [==============================] - 0s 7ms/step - loss: 0.1156 - accuracy: 0.9641\n",
      "Epoch 184/300\n",
      "10/10 [==============================] - 0s 7ms/step - loss: 0.1364 - accuracy: 0.9591\n",
      "Epoch 185/300\n",
      "10/10 [==============================] - 0s 7ms/step - loss: 0.1421 - accuracy: 0.9508\n",
      "Epoch 186/300\n",
      "10/10 [==============================] - 0s 6ms/step - loss: 0.1159 - accuracy: 0.9608\n",
      "Epoch 187/300\n",
      "10/10 [==============================] - 0s 6ms/step - loss: 0.1107 - accuracy: 0.9616\n",
      "Epoch 188/300\n",
      "10/10 [==============================] - 0s 7ms/step - loss: 0.1194 - accuracy: 0.9616\n",
      "Epoch 189/300\n",
      "10/10 [==============================] - 0s 7ms/step - loss: 0.1193 - accuracy: 0.9641\n",
      "Epoch 190/300\n",
      "10/10 [==============================] - 0s 8ms/step - loss: 0.1061 - accuracy: 0.9683\n",
      "Epoch 191/300\n",
      "10/10 [==============================] - 0s 8ms/step - loss: 0.1263 - accuracy: 0.9566\n",
      "Epoch 192/300\n",
      "10/10 [==============================] - 0s 8ms/step - loss: 0.1071 - accuracy: 0.9650\n",
      "Epoch 193/300\n",
      "10/10 [==============================] - 0s 7ms/step - loss: 0.1103 - accuracy: 0.9625\n",
      "Epoch 194/300\n",
      "10/10 [==============================] - 0s 7ms/step - loss: 0.1143 - accuracy: 0.9616\n",
      "Epoch 195/300\n",
      "10/10 [==============================] - 0s 7ms/step - loss: 0.1078 - accuracy: 0.9683\n",
      "Epoch 196/300\n",
      "10/10 [==============================] - 0s 7ms/step - loss: 0.1288 - accuracy: 0.9600\n",
      "Epoch 197/300\n",
      "10/10 [==============================] - 0s 7ms/step - loss: 0.1227 - accuracy: 0.9633\n",
      "Epoch 198/300\n",
      "10/10 [==============================] - 0s 7ms/step - loss: 0.1136 - accuracy: 0.9708\n",
      "Epoch 199/300\n",
      "10/10 [==============================] - 0s 7ms/step - loss: 0.1259 - accuracy: 0.9541\n",
      "Epoch 200/300\n",
      "10/10 [==============================] - 0s 7ms/step - loss: 0.1148 - accuracy: 0.9650\n",
      "Epoch 201/300\n",
      "10/10 [==============================] - 0s 7ms/step - loss: 0.0968 - accuracy: 0.9691\n",
      "Epoch 202/300\n",
      "10/10 [==============================] - 0s 7ms/step - loss: 0.0991 - accuracy: 0.9708\n",
      "Epoch 203/300\n",
      "10/10 [==============================] - 0s 6ms/step - loss: 0.1136 - accuracy: 0.9625\n",
      "Epoch 204/300\n",
      "10/10 [==============================] - 0s 7ms/step - loss: 0.1157 - accuracy: 0.9566\n",
      "Epoch 205/300\n",
      "10/10 [==============================] - 0s 7ms/step - loss: 0.0986 - accuracy: 0.9683\n",
      "Epoch 206/300\n",
      "10/10 [==============================] - 0s 8ms/step - loss: 0.1180 - accuracy: 0.9658\n",
      "Epoch 207/300\n",
      "10/10 [==============================] - 0s 7ms/step - loss: 0.0936 - accuracy: 0.9725\n",
      "Epoch 208/300\n",
      "10/10 [==============================] - 0s 7ms/step - loss: 0.1143 - accuracy: 0.9641\n",
      "Epoch 209/300\n",
      "10/10 [==============================] - 0s 7ms/step - loss: 0.1038 - accuracy: 0.9633\n",
      "Epoch 210/300\n",
      "10/10 [==============================] - 0s 6ms/step - loss: 0.0975 - accuracy: 0.9658\n",
      "Epoch 211/300\n",
      "10/10 [==============================] - 0s 6ms/step - loss: 0.1102 - accuracy: 0.9666\n",
      "Epoch 212/300\n",
      "10/10 [==============================] - 0s 7ms/step - loss: 0.0931 - accuracy: 0.9716\n",
      "Epoch 213/300\n",
      "10/10 [==============================] - 0s 8ms/step - loss: 0.0817 - accuracy: 0.9716\n",
      "Epoch 214/300\n",
      "10/10 [==============================] - 0s 8ms/step - loss: 0.0941 - accuracy: 0.9641\n",
      "Epoch 215/300\n",
      "10/10 [==============================] - 0s 7ms/step - loss: 0.0977 - accuracy: 0.9658\n",
      "Epoch 216/300\n",
      "10/10 [==============================] - 0s 7ms/step - loss: 0.1103 - accuracy: 0.9683\n",
      "Epoch 217/300\n",
      "10/10 [==============================] - 0s 8ms/step - loss: 0.0834 - accuracy: 0.9716\n",
      "Epoch 218/300\n",
      "10/10 [==============================] - 0s 7ms/step - loss: 0.0854 - accuracy: 0.9733\n",
      "Epoch 219/300\n",
      "10/10 [==============================] - 0s 7ms/step - loss: 0.1057 - accuracy: 0.9675\n",
      "Epoch 220/300\n",
      "10/10 [==============================] - 0s 7ms/step - loss: 0.1054 - accuracy: 0.9600\n",
      "Epoch 221/300\n",
      "10/10 [==============================] - 0s 8ms/step - loss: 0.1109 - accuracy: 0.9633\n",
      "Epoch 222/300\n",
      "10/10 [==============================] - 0s 7ms/step - loss: 0.0907 - accuracy: 0.9725\n",
      "Epoch 223/300\n",
      "10/10 [==============================] - 0s 7ms/step - loss: 0.0961 - accuracy: 0.9683\n",
      "Epoch 224/300\n",
      "10/10 [==============================] - 0s 7ms/step - loss: 0.0996 - accuracy: 0.9666\n",
      "Epoch 225/300\n",
      "10/10 [==============================] - 0s 7ms/step - loss: 0.0809 - accuracy: 0.9741\n",
      "Epoch 226/300\n",
      "10/10 [==============================] - 0s 7ms/step - loss: 0.0692 - accuracy: 0.9817\n",
      "Epoch 227/300\n",
      "10/10 [==============================] - 0s 6ms/step - loss: 0.0843 - accuracy: 0.9750\n",
      "Epoch 228/300\n",
      "10/10 [==============================] - 0s 8ms/step - loss: 0.0776 - accuracy: 0.9758\n",
      "Epoch 229/300\n",
      "10/10 [==============================] - 0s 8ms/step - loss: 0.0831 - accuracy: 0.9741\n",
      "Epoch 230/300\n",
      "10/10 [==============================] - 0s 7ms/step - loss: 0.0884 - accuracy: 0.9691\n",
      "Epoch 231/300\n",
      "10/10 [==============================] - 0s 8ms/step - loss: 0.0742 - accuracy: 0.9758\n",
      "Epoch 232/300\n",
      "10/10 [==============================] - 0s 8ms/step - loss: 0.0931 - accuracy: 0.9733\n",
      "Epoch 233/300\n",
      "10/10 [==============================] - 0s 7ms/step - loss: 0.0790 - accuracy: 0.9733\n",
      "Epoch 234/300\n",
      "10/10 [==============================] - 0s 7ms/step - loss: 0.0684 - accuracy: 0.9766\n",
      "Epoch 235/300\n",
      "10/10 [==============================] - 0s 7ms/step - loss: 0.0824 - accuracy: 0.9708\n",
      "Epoch 236/300\n",
      "10/10 [==============================] - 0s 7ms/step - loss: 0.0736 - accuracy: 0.9783\n",
      "Epoch 237/300\n",
      "10/10 [==============================] - 0s 6ms/step - loss: 0.0864 - accuracy: 0.9691\n",
      "Epoch 238/300\n",
      "10/10 [==============================] - 0s 7ms/step - loss: 0.0793 - accuracy: 0.9716\n",
      "Epoch 239/300\n",
      "10/10 [==============================] - 0s 6ms/step - loss: 0.0699 - accuracy: 0.9791\n",
      "Epoch 240/300\n",
      "10/10 [==============================] - 0s 7ms/step - loss: 0.0795 - accuracy: 0.9741\n",
      "Epoch 241/300\n",
      "10/10 [==============================] - 0s 7ms/step - loss: 0.1067 - accuracy: 0.9608\n",
      "Epoch 242/300\n",
      "10/10 [==============================] - 0s 7ms/step - loss: 0.0777 - accuracy: 0.9817\n",
      "Epoch 243/300\n",
      "10/10 [==============================] - 0s 8ms/step - loss: 0.0989 - accuracy: 0.9716\n",
      "Epoch 244/300\n"
     ]
    },
    {
     "name": "stdout",
     "output_type": "stream",
     "text": [
      "10/10 [==============================] - 0s 7ms/step - loss: 0.0988 - accuracy: 0.9675\n",
      "Epoch 245/300\n",
      "10/10 [==============================] - 0s 8ms/step - loss: 0.0749 - accuracy: 0.9791\n",
      "Epoch 246/300\n",
      "10/10 [==============================] - 0s 6ms/step - loss: 0.0844 - accuracy: 0.9675\n",
      "Epoch 247/300\n",
      "10/10 [==============================] - 0s 7ms/step - loss: 0.0781 - accuracy: 0.9750\n",
      "Epoch 248/300\n",
      "10/10 [==============================] - 0s 7ms/step - loss: 0.0669 - accuracy: 0.9817\n",
      "Epoch 249/300\n",
      "10/10 [==============================] - 0s 7ms/step - loss: 0.0955 - accuracy: 0.9725\n",
      "Epoch 250/300\n",
      "10/10 [==============================] - 0s 7ms/step - loss: 0.0940 - accuracy: 0.9666\n",
      "Epoch 251/300\n",
      "10/10 [==============================] - 0s 7ms/step - loss: 0.0840 - accuracy: 0.9741\n",
      "Epoch 252/300\n",
      "10/10 [==============================] - 0s 8ms/step - loss: 0.0825 - accuracy: 0.9683\n",
      "Epoch 253/300\n",
      "10/10 [==============================] - 0s 8ms/step - loss: 0.0737 - accuracy: 0.9783\n",
      "Epoch 254/300\n",
      "10/10 [==============================] - 0s 7ms/step - loss: 0.0723 - accuracy: 0.9766\n",
      "Epoch 255/300\n",
      "10/10 [==============================] - 0s 7ms/step - loss: 0.0891 - accuracy: 0.9716\n",
      "Epoch 256/300\n",
      "10/10 [==============================] - 0s 7ms/step - loss: 0.0625 - accuracy: 0.9808\n",
      "Epoch 257/300\n",
      "10/10 [==============================] - 0s 8ms/step - loss: 0.0722 - accuracy: 0.9766\n",
      "Epoch 258/300\n",
      "10/10 [==============================] - 0s 7ms/step - loss: 0.0632 - accuracy: 0.9758\n",
      "Epoch 259/300\n",
      "10/10 [==============================] - 0s 8ms/step - loss: 0.0650 - accuracy: 0.9775\n",
      "Epoch 260/300\n",
      "10/10 [==============================] - 0s 7ms/step - loss: 0.0806 - accuracy: 0.9750\n",
      "Epoch 261/300\n",
      "10/10 [==============================] - 0s 7ms/step - loss: 0.0700 - accuracy: 0.9775\n",
      "Epoch 262/300\n",
      "10/10 [==============================] - 0s 6ms/step - loss: 0.0656 - accuracy: 0.9791\n",
      "Epoch 263/300\n",
      "10/10 [==============================] - 0s 7ms/step - loss: 0.0899 - accuracy: 0.9700\n",
      "Epoch 264/300\n",
      "10/10 [==============================] - 0s 7ms/step - loss: 0.0773 - accuracy: 0.9741\n",
      "Epoch 265/300\n",
      "10/10 [==============================] - 0s 7ms/step - loss: 0.0730 - accuracy: 0.9741\n",
      "Epoch 266/300\n",
      "10/10 [==============================] - 0s 8ms/step - loss: 0.0640 - accuracy: 0.9741\n",
      "Epoch 267/300\n",
      "10/10 [==============================] - 0s 7ms/step - loss: 0.0582 - accuracy: 0.9800\n",
      "Epoch 268/300\n",
      "10/10 [==============================] - 0s 6ms/step - loss: 0.0708 - accuracy: 0.9800\n",
      "Epoch 269/300\n",
      "10/10 [==============================] - 0s 8ms/step - loss: 0.0664 - accuracy: 0.9766\n",
      "Epoch 270/300\n",
      "10/10 [==============================] - 0s 7ms/step - loss: 0.0725 - accuracy: 0.9758\n",
      "Epoch 271/300\n",
      "10/10 [==============================] - 0s 8ms/step - loss: 0.0811 - accuracy: 0.9741\n",
      "Epoch 272/300\n",
      "10/10 [==============================] - 0s 7ms/step - loss: 0.0620 - accuracy: 0.9825\n",
      "Epoch 273/300\n",
      "10/10 [==============================] - 0s 7ms/step - loss: 0.0591 - accuracy: 0.9808\n",
      "Epoch 274/300\n",
      "10/10 [==============================] - 0s 6ms/step - loss: 0.0694 - accuracy: 0.9825\n",
      "Epoch 275/300\n",
      "10/10 [==============================] - 0s 8ms/step - loss: 0.0582 - accuracy: 0.9850\n",
      "Epoch 276/300\n",
      "10/10 [==============================] - 0s 6ms/step - loss: 0.0685 - accuracy: 0.9800\n",
      "Epoch 277/300\n",
      "10/10 [==============================] - 0s 7ms/step - loss: 0.0709 - accuracy: 0.9775\n",
      "Epoch 278/300\n",
      "10/10 [==============================] - 0s 7ms/step - loss: 0.0695 - accuracy: 0.9783\n",
      "Epoch 279/300\n",
      "10/10 [==============================] - 0s 7ms/step - loss: 0.0479 - accuracy: 0.9850\n",
      "Epoch 280/300\n",
      "10/10 [==============================] - 0s 7ms/step - loss: 0.0664 - accuracy: 0.9833\n",
      "Epoch 281/300\n",
      "10/10 [==============================] - 0s 7ms/step - loss: 0.0571 - accuracy: 0.9842\n",
      "Epoch 282/300\n",
      "10/10 [==============================] - 0s 8ms/step - loss: 0.0614 - accuracy: 0.9817\n",
      "Epoch 283/300\n",
      "10/10 [==============================] - 0s 7ms/step - loss: 0.0653 - accuracy: 0.9775\n",
      "Epoch 284/300\n",
      "10/10 [==============================] - 0s 7ms/step - loss: 0.0631 - accuracy: 0.9791\n",
      "Epoch 285/300\n",
      "10/10 [==============================] - 0s 7ms/step - loss: 0.0688 - accuracy: 0.9775\n",
      "Epoch 286/300\n",
      "10/10 [==============================] - 0s 7ms/step - loss: 0.0816 - accuracy: 0.9700\n",
      "Epoch 287/300\n",
      "10/10 [==============================] - 0s 7ms/step - loss: 0.0576 - accuracy: 0.9817\n",
      "Epoch 288/300\n",
      "10/10 [==============================] - 0s 7ms/step - loss: 0.0765 - accuracy: 0.9725\n",
      "Epoch 289/300\n",
      "10/10 [==============================] - 0s 7ms/step - loss: 0.0830 - accuracy: 0.9800\n",
      "Epoch 290/300\n",
      "10/10 [==============================] - 0s 6ms/step - loss: 0.0770 - accuracy: 0.9775\n",
      "Epoch 291/300\n",
      "10/10 [==============================] - 0s 7ms/step - loss: 0.0674 - accuracy: 0.9850\n",
      "Epoch 292/300\n",
      "10/10 [==============================] - 0s 8ms/step - loss: 0.0628 - accuracy: 0.9825\n",
      "Epoch 293/300\n",
      "10/10 [==============================] - 0s 7ms/step - loss: 0.0627 - accuracy: 0.9783\n",
      "Epoch 294/300\n",
      "10/10 [==============================] - 0s 7ms/step - loss: 0.0694 - accuracy: 0.9783\n",
      "Epoch 295/300\n",
      "10/10 [==============================] - 0s 7ms/step - loss: 0.0644 - accuracy: 0.9775\n",
      "Epoch 296/300\n",
      "10/10 [==============================] - 0s 6ms/step - loss: 0.0768 - accuracy: 0.9758\n",
      "Epoch 297/300\n",
      "10/10 [==============================] - 0s 7ms/step - loss: 0.0570 - accuracy: 0.9783\n",
      "Epoch 298/300\n",
      "10/10 [==============================] - 0s 7ms/step - loss: 0.0604 - accuracy: 0.9800\n",
      "Epoch 299/300\n",
      "10/10 [==============================] - 0s 7ms/step - loss: 0.0664 - accuracy: 0.9800\n",
      "Epoch 300/300\n",
      "10/10 [==============================] - 0s 7ms/step - loss: 0.0498 - accuracy: 0.9883\n"
     ]
    }
   ],
   "source": [
    "history = model.fit(X_train,\n",
    "                    y_train,\n",
    "                    epochs=300,\n",
    "                    batch_size=128)\n",
    "                   "
   ]
  },
  {
   "cell_type": "code",
   "execution_count": 38,
   "metadata": {
    "colab": {
     "base_uri": "https://localhost:8080/"
    },
    "id": "0m1J0_wUFK4C",
    "outputId": "5b48263f-3158-4a25-e650-1fe3547e3c38",
    "scrolled": true
   },
   "outputs": [
    {
     "name": "stdout",
     "output_type": "stream",
     "text": [
      "10/10 [==============================] - 0s 3ms/step - loss: 1.4508 - accuracy: 0.6800\n"
     ]
    }
   ],
   "source": [
    "test_loss, test_acc = model.evaluate(X_test,y_test)"
   ]
  },
  {
   "cell_type": "code",
   "execution_count": 39,
   "metadata": {
    "colab": {
     "base_uri": "https://localhost:8080/"
    },
    "id": "f6HrjXeUF0Ko",
    "outputId": "c24f183c-5014-45d5-d8a2-ccf7e1895b1c"
   },
   "outputs": [
    {
     "name": "stdout",
     "output_type": "stream",
     "text": [
      "Test loss:  1.4507851600646973\n",
      "Test accuracy:  0.6800000071525574\n"
     ]
    }
   ],
   "source": [
    "print('Test loss: ',test_loss)\n",
    "print('Test accuracy: ',test_acc)"
   ]
  },
  {
   "cell_type": "markdown",
   "metadata": {
    "id": "-U2qzRJoHV9O"
   },
   "source": [
    "## Validating our approach\n",
    "Let's set apart 300 samples in our training data to use as a validation set:"
   ]
  },
  {
   "cell_type": "code",
   "execution_count": 40,
   "metadata": {
    "id": "xJNbvYZoF7ZT"
   },
   "outputs": [],
   "source": [
    "x_val = X_train[:300]\n",
    "partial_x_train = X_train[300:]\n",
    "\n",
    "y_val = y_train[:300]\n",
    "partial_y_train = y_train[300:]"
   ]
  },
  {
   "cell_type": "markdown",
   "metadata": {
    "id": "L1EkG59EHeEV"
   },
   "source": [
    "Now let's train our network for 80 epochs:"
   ]
  },
  {
   "cell_type": "code",
   "execution_count": 50,
   "metadata": {
    "colab": {
     "base_uri": "https://localhost:8080/"
    },
    "id": "Dp3G4P3aP4k2",
    "outputId": "7dc3ce2c-bc6d-4746-89d1-4807c478e011"
   },
   "outputs": [
    {
     "name": "stdout",
     "output_type": "stream",
     "text": [
      "Epoch 1/200\n",
      "8/8 [==============================] - 2s 53ms/step - loss: 2.6261 - accuracy: 0.1491 - val_loss: 2.3901 - val_accuracy: 0.3567\n",
      "Epoch 2/200\n",
      "8/8 [==============================] - 0s 17ms/step - loss: 2.3551 - accuracy: 0.2636 - val_loss: 2.0967 - val_accuracy: 0.3833\n",
      "Epoch 3/200\n",
      "8/8 [==============================] - 0s 19ms/step - loss: 2.1148 - accuracy: 0.3348 - val_loss: 1.8192 - val_accuracy: 0.4433\n",
      "Epoch 4/200\n",
      "8/8 [==============================] - 0s 18ms/step - loss: 1.9044 - accuracy: 0.3737 - val_loss: 1.6209 - val_accuracy: 0.4900\n",
      "Epoch 5/200\n",
      "8/8 [==============================] - 0s 19ms/step - loss: 1.7964 - accuracy: 0.3626 - val_loss: 1.5177 - val_accuracy: 0.4833\n",
      "Epoch 6/200\n",
      "8/8 [==============================] - 0s 19ms/step - loss: 1.6822 - accuracy: 0.4216 - val_loss: 1.4429 - val_accuracy: 0.4900\n",
      "Epoch 7/200\n",
      "8/8 [==============================] - 0s 19ms/step - loss: 1.6084 - accuracy: 0.4549 - val_loss: 1.3831 - val_accuracy: 0.5333\n",
      "Epoch 8/200\n",
      "8/8 [==============================] - 0s 18ms/step - loss: 1.4791 - accuracy: 0.4828 - val_loss: 1.3629 - val_accuracy: 0.5267\n",
      "Epoch 9/200\n",
      "8/8 [==============================] - 0s 19ms/step - loss: 1.4869 - accuracy: 0.4572 - val_loss: 1.3614 - val_accuracy: 0.5533\n",
      "Epoch 10/200\n",
      "8/8 [==============================] - 0s 20ms/step - loss: 1.4336 - accuracy: 0.5039 - val_loss: 1.3202 - val_accuracy: 0.5600\n",
      "Epoch 11/200\n",
      "8/8 [==============================] - 0s 20ms/step - loss: 1.3935 - accuracy: 0.5139 - val_loss: 1.2770 - val_accuracy: 0.5800\n",
      "Epoch 12/200\n",
      "8/8 [==============================] - 0s 18ms/step - loss: 1.3792 - accuracy: 0.5362 - val_loss: 1.2769 - val_accuracy: 0.5900\n",
      "Epoch 13/200\n",
      "8/8 [==============================] - 0s 19ms/step - loss: 1.2688 - accuracy: 0.5751 - val_loss: 1.2451 - val_accuracy: 0.5867\n",
      "Epoch 14/200\n",
      "8/8 [==============================] - 0s 18ms/step - loss: 1.2783 - accuracy: 0.5506 - val_loss: 1.3079 - val_accuracy: 0.5367\n",
      "Epoch 15/200\n",
      "8/8 [==============================] - 0s 18ms/step - loss: 1.2811 - accuracy: 0.5539 - val_loss: 1.2589 - val_accuracy: 0.5467\n",
      "Epoch 16/200\n",
      "8/8 [==============================] - 0s 18ms/step - loss: 1.2442 - accuracy: 0.5851 - val_loss: 1.2326 - val_accuracy: 0.5933\n",
      "Epoch 17/200\n",
      "8/8 [==============================] - 0s 18ms/step - loss: 1.1622 - accuracy: 0.5984 - val_loss: 1.2261 - val_accuracy: 0.5833\n",
      "Epoch 18/200\n",
      "8/8 [==============================] - 0s 19ms/step - loss: 1.1076 - accuracy: 0.6073 - val_loss: 1.2467 - val_accuracy: 0.5567\n",
      "Epoch 19/200\n",
      "8/8 [==============================] - 0s 21ms/step - loss: 1.1626 - accuracy: 0.5862 - val_loss: 1.1581 - val_accuracy: 0.5933\n",
      "Epoch 20/200\n",
      "8/8 [==============================] - 0s 19ms/step - loss: 1.0841 - accuracy: 0.6374 - val_loss: 1.1698 - val_accuracy: 0.5867\n",
      "Epoch 21/200\n",
      "8/8 [==============================] - 0s 20ms/step - loss: 1.1060 - accuracy: 0.6229 - val_loss: 1.1928 - val_accuracy: 0.5733\n",
      "Epoch 22/200\n",
      "8/8 [==============================] - 0s 20ms/step - loss: 1.0573 - accuracy: 0.6396 - val_loss: 1.1711 - val_accuracy: 0.5667\n",
      "Epoch 23/200\n",
      "8/8 [==============================] - 0s 21ms/step - loss: 1.0879 - accuracy: 0.6318 - val_loss: 1.2167 - val_accuracy: 0.5533\n",
      "Epoch 24/200\n",
      "8/8 [==============================] - 0s 22ms/step - loss: 1.0067 - accuracy: 0.6585 - val_loss: 1.1398 - val_accuracy: 0.6067\n",
      "Epoch 25/200\n",
      "8/8 [==============================] - 0s 22ms/step - loss: 0.9813 - accuracy: 0.6541 - val_loss: 1.1503 - val_accuracy: 0.5900\n",
      "Epoch 26/200\n",
      "8/8 [==============================] - 0s 21ms/step - loss: 0.9610 - accuracy: 0.6730 - val_loss: 1.1522 - val_accuracy: 0.5967\n",
      "Epoch 27/200\n",
      "8/8 [==============================] - 0s 27ms/step - loss: 0.9909 - accuracy: 0.6552 - val_loss: 1.1277 - val_accuracy: 0.6033\n",
      "Epoch 28/200\n",
      "8/8 [==============================] - 0s 21ms/step - loss: 0.9321 - accuracy: 0.6563 - val_loss: 1.1680 - val_accuracy: 0.5867\n",
      "Epoch 29/200\n",
      "8/8 [==============================] - 0s 23ms/step - loss: 1.0031 - accuracy: 0.6352 - val_loss: 1.2002 - val_accuracy: 0.5767\n",
      "Epoch 30/200\n",
      "8/8 [==============================] - 0s 22ms/step - loss: 0.9572 - accuracy: 0.6741 - val_loss: 1.1215 - val_accuracy: 0.6100\n",
      "Epoch 31/200\n",
      "8/8 [==============================] - 0s 22ms/step - loss: 0.9193 - accuracy: 0.6808 - val_loss: 1.1201 - val_accuracy: 0.6267\n",
      "Epoch 32/200\n",
      "8/8 [==============================] - 0s 22ms/step - loss: 0.8552 - accuracy: 0.7241 - val_loss: 1.1019 - val_accuracy: 0.6000\n",
      "Epoch 33/200\n",
      "8/8 [==============================] - 0s 23ms/step - loss: 0.8521 - accuracy: 0.6874 - val_loss: 1.0900 - val_accuracy: 0.6267\n",
      "Epoch 34/200\n",
      "8/8 [==============================] - 0s 24ms/step - loss: 0.7902 - accuracy: 0.7319 - val_loss: 1.0787 - val_accuracy: 0.6067\n",
      "Epoch 35/200\n",
      "8/8 [==============================] - 0s 18ms/step - loss: 0.8029 - accuracy: 0.7219 - val_loss: 1.0749 - val_accuracy: 0.6333\n",
      "Epoch 36/200\n",
      "8/8 [==============================] - 0s 20ms/step - loss: 0.8556 - accuracy: 0.7030 - val_loss: 1.1190 - val_accuracy: 0.6133\n",
      "Epoch 37/200\n",
      "8/8 [==============================] - 0s 20ms/step - loss: 0.7983 - accuracy: 0.7230 - val_loss: 1.0865 - val_accuracy: 0.6000\n",
      "Epoch 38/200\n",
      "8/8 [==============================] - 0s 23ms/step - loss: 0.7804 - accuracy: 0.7275 - val_loss: 1.0566 - val_accuracy: 0.6333\n",
      "Epoch 39/200\n",
      "8/8 [==============================] - 0s 26ms/step - loss: 0.8034 - accuracy: 0.7230 - val_loss: 1.0626 - val_accuracy: 0.6433\n",
      "Epoch 40/200\n",
      "8/8 [==============================] - 0s 24ms/step - loss: 0.8145 - accuracy: 0.7097 - val_loss: 1.2315 - val_accuracy: 0.5967\n",
      "Epoch 41/200\n",
      "8/8 [==============================] - 0s 26ms/step - loss: 0.8207 - accuracy: 0.7264 - val_loss: 1.0793 - val_accuracy: 0.6267\n",
      "Epoch 42/200\n",
      "8/8 [==============================] - 0s 28ms/step - loss: 0.7200 - accuracy: 0.7709 - val_loss: 1.0572 - val_accuracy: 0.6533\n",
      "Epoch 43/200\n",
      "8/8 [==============================] - 0s 25ms/step - loss: 0.7548 - accuracy: 0.7475 - val_loss: 1.1907 - val_accuracy: 0.6167\n",
      "Epoch 44/200\n",
      "8/8 [==============================] - 0s 26ms/step - loss: 0.7598 - accuracy: 0.7330 - val_loss: 1.2025 - val_accuracy: 0.6133\n",
      "Epoch 45/200\n",
      "8/8 [==============================] - 0s 28ms/step - loss: 0.7761 - accuracy: 0.7364 - val_loss: 1.0898 - val_accuracy: 0.6167\n",
      "Epoch 46/200\n",
      "8/8 [==============================] - 0s 25ms/step - loss: 0.7033 - accuracy: 0.7653 - val_loss: 1.0651 - val_accuracy: 0.6333\n",
      "Epoch 47/200\n",
      "8/8 [==============================] - 0s 23ms/step - loss: 0.7584 - accuracy: 0.7442 - val_loss: 1.0774 - val_accuracy: 0.6267\n",
      "Epoch 48/200\n",
      "8/8 [==============================] - 0s 22ms/step - loss: 0.6863 - accuracy: 0.7519 - val_loss: 1.1079 - val_accuracy: 0.6333\n",
      "Epoch 49/200\n",
      "8/8 [==============================] - 0s 20ms/step - loss: 0.6593 - accuracy: 0.7820 - val_loss: 1.1355 - val_accuracy: 0.6267\n",
      "Epoch 50/200\n",
      "8/8 [==============================] - 0s 23ms/step - loss: 0.6746 - accuracy: 0.7653 - val_loss: 1.1355 - val_accuracy: 0.6267\n",
      "Epoch 51/200\n",
      "8/8 [==============================] - 0s 20ms/step - loss: 0.6179 - accuracy: 0.7887 - val_loss: 1.0650 - val_accuracy: 0.6700\n",
      "Epoch 52/200\n",
      "8/8 [==============================] - 0s 19ms/step - loss: 0.5735 - accuracy: 0.8031 - val_loss: 1.0826 - val_accuracy: 0.6533\n",
      "Epoch 53/200\n",
      "8/8 [==============================] - 0s 17ms/step - loss: 0.6064 - accuracy: 0.7953 - val_loss: 1.1120 - val_accuracy: 0.6533\n",
      "Epoch 54/200\n",
      "8/8 [==============================] - 0s 21ms/step - loss: 0.5841 - accuracy: 0.7931 - val_loss: 1.1253 - val_accuracy: 0.6467\n",
      "Epoch 55/200\n",
      "8/8 [==============================] - 0s 18ms/step - loss: 0.5638 - accuracy: 0.7987 - val_loss: 1.1022 - val_accuracy: 0.6400\n",
      "Epoch 56/200\n",
      "8/8 [==============================] - 0s 18ms/step - loss: 0.6220 - accuracy: 0.7842 - val_loss: 1.1166 - val_accuracy: 0.6467\n",
      "Epoch 57/200\n",
      "8/8 [==============================] - 0s 18ms/step - loss: 0.5863 - accuracy: 0.8076 - val_loss: 1.1280 - val_accuracy: 0.6233\n",
      "Epoch 58/200\n",
      "8/8 [==============================] - 0s 20ms/step - loss: 0.5984 - accuracy: 0.7909 - val_loss: 1.0840 - val_accuracy: 0.6433\n",
      "Epoch 59/200\n",
      "8/8 [==============================] - 0s 22ms/step - loss: 0.6531 - accuracy: 0.7864 - val_loss: 1.3304 - val_accuracy: 0.6267\n",
      "Epoch 60/200\n",
      "8/8 [==============================] - 0s 25ms/step - loss: 0.7320 - accuracy: 0.7686 - val_loss: 1.2543 - val_accuracy: 0.5900\n",
      "Epoch 61/200\n",
      "8/8 [==============================] - 0s 24ms/step - loss: 0.6384 - accuracy: 0.7675 - val_loss: 1.2537 - val_accuracy: 0.6000\n",
      "Epoch 62/200\n",
      "8/8 [==============================] - 0s 26ms/step - loss: 0.6511 - accuracy: 0.7697 - val_loss: 1.2218 - val_accuracy: 0.6067\n",
      "Epoch 63/200\n",
      "8/8 [==============================] - 0s 26ms/step - loss: 0.5350 - accuracy: 0.8265 - val_loss: 1.1445 - val_accuracy: 0.6400\n",
      "Epoch 64/200\n",
      "8/8 [==============================] - 0s 26ms/step - loss: 0.5321 - accuracy: 0.8120 - val_loss: 1.1254 - val_accuracy: 0.6233\n",
      "Epoch 65/200\n",
      "8/8 [==============================] - 0s 24ms/step - loss: 0.5102 - accuracy: 0.8187 - val_loss: 1.1496 - val_accuracy: 0.6400\n",
      "Epoch 66/200\n",
      "8/8 [==============================] - 0s 23ms/step - loss: 0.5174 - accuracy: 0.8220 - val_loss: 1.1764 - val_accuracy: 0.6567\n",
      "Epoch 67/200\n",
      "8/8 [==============================] - 0s 20ms/step - loss: 0.5077 - accuracy: 0.8298 - val_loss: 1.1466 - val_accuracy: 0.6500\n",
      "Epoch 68/200\n",
      "8/8 [==============================] - 0s 17ms/step - loss: 0.5109 - accuracy: 0.8276 - val_loss: 1.1348 - val_accuracy: 0.6733\n",
      "Epoch 69/200\n",
      "8/8 [==============================] - 0s 18ms/step - loss: 0.5459 - accuracy: 0.7987 - val_loss: 1.1784 - val_accuracy: 0.6800\n",
      "Epoch 70/200\n",
      "8/8 [==============================] - 0s 19ms/step - loss: 0.5359 - accuracy: 0.8109 - val_loss: 1.1086 - val_accuracy: 0.6800\n",
      "Epoch 71/200\n",
      "8/8 [==============================] - 0s 19ms/step - loss: 0.4844 - accuracy: 0.8343 - val_loss: 1.1523 - val_accuracy: 0.6600\n",
      "Epoch 72/200\n",
      "8/8 [==============================] - 0s 19ms/step - loss: 0.5350 - accuracy: 0.8120 - val_loss: 1.1811 - val_accuracy: 0.6467\n",
      "Epoch 73/200\n",
      "8/8 [==============================] - 0s 20ms/step - loss: 0.4920 - accuracy: 0.8387 - val_loss: 1.2091 - val_accuracy: 0.6400\n",
      "Epoch 74/200\n",
      "8/8 [==============================] - 0s 20ms/step - loss: 0.5156 - accuracy: 0.8376 - val_loss: 1.1606 - val_accuracy: 0.6533\n",
      "Epoch 75/200\n",
      "8/8 [==============================] - 0s 21ms/step - loss: 0.4723 - accuracy: 0.8387 - val_loss: 1.1566 - val_accuracy: 0.6533\n",
      "Epoch 76/200\n",
      "8/8 [==============================] - 0s 24ms/step - loss: 0.4510 - accuracy: 0.8365 - val_loss: 1.1600 - val_accuracy: 0.6633\n",
      "Epoch 77/200\n",
      "8/8 [==============================] - 0s 27ms/step - loss: 0.4429 - accuracy: 0.8476 - val_loss: 1.1461 - val_accuracy: 0.6433\n",
      "Epoch 78/200\n",
      "8/8 [==============================] - 0s 21ms/step - loss: 0.4129 - accuracy: 0.8598 - val_loss: 1.1544 - val_accuracy: 0.6367\n",
      "Epoch 79/200\n",
      "8/8 [==============================] - 0s 24ms/step - loss: 0.4326 - accuracy: 0.8432 - val_loss: 1.1669 - val_accuracy: 0.6700\n",
      "Epoch 80/200\n",
      "8/8 [==============================] - 0s 23ms/step - loss: 0.4415 - accuracy: 0.8498 - val_loss: 1.2246 - val_accuracy: 0.6567\n",
      "Epoch 81/200\n",
      "8/8 [==============================] - 0s 21ms/step - loss: 0.4004 - accuracy: 0.8776 - val_loss: 1.1317 - val_accuracy: 0.6767\n",
      "Epoch 82/200\n",
      "8/8 [==============================] - 0s 21ms/step - loss: 0.3746 - accuracy: 0.8654 - val_loss: 1.1351 - val_accuracy: 0.6600\n",
      "Epoch 83/200\n",
      "8/8 [==============================] - 0s 21ms/step - loss: 0.3848 - accuracy: 0.8598 - val_loss: 1.2382 - val_accuracy: 0.6533\n",
      "Epoch 84/200\n",
      "8/8 [==============================] - 0s 23ms/step - loss: 0.4199 - accuracy: 0.8654 - val_loss: 1.2144 - val_accuracy: 0.6600\n",
      "Epoch 85/200\n",
      "8/8 [==============================] - 0s 21ms/step - loss: 0.4169 - accuracy: 0.8598 - val_loss: 1.2495 - val_accuracy: 0.6400\n",
      "Epoch 86/200\n",
      "8/8 [==============================] - 0s 20ms/step - loss: 0.3951 - accuracy: 0.8676 - val_loss: 1.2166 - val_accuracy: 0.6667\n",
      "Epoch 87/200\n",
      "8/8 [==============================] - 0s 20ms/step - loss: 0.3625 - accuracy: 0.8699 - val_loss: 1.2024 - val_accuracy: 0.6700\n",
      "Epoch 88/200\n",
      "8/8 [==============================] - 0s 22ms/step - loss: 0.3979 - accuracy: 0.8732 - val_loss: 1.2023 - val_accuracy: 0.6733\n",
      "Epoch 89/200\n",
      "8/8 [==============================] - 0s 27ms/step - loss: 0.3441 - accuracy: 0.8821 - val_loss: 1.2029 - val_accuracy: 0.6667\n",
      "Epoch 90/200\n",
      "8/8 [==============================] - 0s 24ms/step - loss: 0.4111 - accuracy: 0.8509 - val_loss: 1.2573 - val_accuracy: 0.6233\n",
      "Epoch 91/200\n",
      "8/8 [==============================] - 0s 23ms/step - loss: 0.4282 - accuracy: 0.8554 - val_loss: 1.1503 - val_accuracy: 0.6600\n",
      "Epoch 92/200\n",
      "8/8 [==============================] - 0s 23ms/step - loss: 0.3871 - accuracy: 0.8621 - val_loss: 1.1775 - val_accuracy: 0.6533\n",
      "Epoch 93/200\n",
      "8/8 [==============================] - 0s 25ms/step - loss: 0.3589 - accuracy: 0.8865 - val_loss: 1.1968 - val_accuracy: 0.6633\n",
      "Epoch 94/200\n",
      "8/8 [==============================] - 0s 22ms/step - loss: 0.3231 - accuracy: 0.8910 - val_loss: 1.2186 - val_accuracy: 0.6700\n",
      "Epoch 95/200\n",
      "8/8 [==============================] - 0s 23ms/step - loss: 0.3045 - accuracy: 0.9032 - val_loss: 1.2328 - val_accuracy: 0.6633\n",
      "Epoch 96/200\n",
      "8/8 [==============================] - 0s 25ms/step - loss: 0.2956 - accuracy: 0.8943 - val_loss: 1.2685 - val_accuracy: 0.6700\n",
      "Epoch 97/200\n",
      "8/8 [==============================] - 0s 25ms/step - loss: 0.2740 - accuracy: 0.9077 - val_loss: 1.2785 - val_accuracy: 0.6600\n",
      "Epoch 98/200\n",
      "8/8 [==============================] - 0s 26ms/step - loss: 0.2902 - accuracy: 0.9043 - val_loss: 1.3093 - val_accuracy: 0.6767\n",
      "Epoch 99/200\n",
      "8/8 [==============================] - 0s 25ms/step - loss: 0.3522 - accuracy: 0.8754 - val_loss: 1.2967 - val_accuracy: 0.6567\n",
      "Epoch 100/200\n",
      "8/8 [==============================] - 0s 23ms/step - loss: 0.3444 - accuracy: 0.8854 - val_loss: 1.2991 - val_accuracy: 0.6567\n",
      "Epoch 101/200\n",
      "8/8 [==============================] - 0s 27ms/step - loss: 0.3293 - accuracy: 0.8854 - val_loss: 1.3564 - val_accuracy: 0.6233\n",
      "Epoch 102/200\n",
      "8/8 [==============================] - 0s 23ms/step - loss: 0.3205 - accuracy: 0.8899 - val_loss: 1.3264 - val_accuracy: 0.6533\n",
      "Epoch 103/200\n",
      "8/8 [==============================] - 0s 24ms/step - loss: 0.3078 - accuracy: 0.9088 - val_loss: 1.3580 - val_accuracy: 0.6500\n",
      "Epoch 104/200\n",
      "8/8 [==============================] - 0s 22ms/step - loss: 0.3435 - accuracy: 0.8676 - val_loss: 1.3222 - val_accuracy: 0.6667\n",
      "Epoch 105/200\n",
      "8/8 [==============================] - 0s 22ms/step - loss: 0.2870 - accuracy: 0.9032 - val_loss: 1.2965 - val_accuracy: 0.6700\n",
      "Epoch 106/200\n",
      "8/8 [==============================] - 0s 25ms/step - loss: 0.2711 - accuracy: 0.9210 - val_loss: 1.3523 - val_accuracy: 0.6567\n",
      "Epoch 107/200\n",
      "8/8 [==============================] - 0s 25ms/step - loss: 0.2939 - accuracy: 0.9043 - val_loss: 1.3814 - val_accuracy: 0.6567\n",
      "Epoch 108/200\n",
      "8/8 [==============================] - 0s 18ms/step - loss: 0.2575 - accuracy: 0.9177 - val_loss: 1.2765 - val_accuracy: 0.6867\n",
      "Epoch 109/200\n",
      "8/8 [==============================] - 0s 20ms/step - loss: 0.2660 - accuracy: 0.9132 - val_loss: 1.2596 - val_accuracy: 0.6833\n",
      "Epoch 110/200\n",
      "8/8 [==============================] - 0s 26ms/step - loss: 0.2256 - accuracy: 0.9288 - val_loss: 1.2822 - val_accuracy: 0.6767\n",
      "Epoch 111/200\n",
      "8/8 [==============================] - 0s 23ms/step - loss: 0.2761 - accuracy: 0.9110 - val_loss: 1.3737 - val_accuracy: 0.6633\n",
      "Epoch 112/200\n",
      "8/8 [==============================] - 0s 26ms/step - loss: 0.2826 - accuracy: 0.9166 - val_loss: 1.3240 - val_accuracy: 0.6500\n",
      "Epoch 113/200\n",
      "8/8 [==============================] - 0s 25ms/step - loss: 0.2789 - accuracy: 0.9121 - val_loss: 1.2654 - val_accuracy: 0.6767\n",
      "Epoch 114/200\n",
      "8/8 [==============================] - 0s 22ms/step - loss: 0.2378 - accuracy: 0.9344 - val_loss: 1.3455 - val_accuracy: 0.6533\n",
      "Epoch 115/200\n",
      "8/8 [==============================] - 0s 25ms/step - loss: 0.2648 - accuracy: 0.9143 - val_loss: 1.2877 - val_accuracy: 0.6733\n",
      "Epoch 116/200\n",
      "8/8 [==============================] - 0s 25ms/step - loss: 0.2304 - accuracy: 0.9221 - val_loss: 1.5168 - val_accuracy: 0.6500\n",
      "Epoch 117/200\n"
     ]
    },
    {
     "name": "stdout",
     "output_type": "stream",
     "text": [
      "8/8 [==============================] - 0s 23ms/step - loss: 0.2575 - accuracy: 0.9155 - val_loss: 1.4132 - val_accuracy: 0.6733\n",
      "Epoch 118/200\n",
      "8/8 [==============================] - 0s 21ms/step - loss: 0.2478 - accuracy: 0.9110 - val_loss: 1.5440 - val_accuracy: 0.6533\n",
      "Epoch 119/200\n",
      "8/8 [==============================] - 0s 18ms/step - loss: 0.2656 - accuracy: 0.9199 - val_loss: 1.3492 - val_accuracy: 0.6800\n",
      "Epoch 120/200\n",
      "8/8 [==============================] - 0s 19ms/step - loss: 0.2277 - accuracy: 0.9310 - val_loss: 1.4437 - val_accuracy: 0.6500\n",
      "Epoch 121/200\n",
      "8/8 [==============================] - 0s 20ms/step - loss: 0.2134 - accuracy: 0.9310 - val_loss: 1.3158 - val_accuracy: 0.6633\n",
      "Epoch 122/200\n",
      "8/8 [==============================] - 0s 20ms/step - loss: 0.2106 - accuracy: 0.9344 - val_loss: 1.3531 - val_accuracy: 0.6700\n",
      "Epoch 123/200\n",
      "8/8 [==============================] - 0s 20ms/step - loss: 0.2186 - accuracy: 0.9321 - val_loss: 1.4093 - val_accuracy: 0.6700\n",
      "Epoch 124/200\n",
      "8/8 [==============================] - 0s 21ms/step - loss: 0.3032 - accuracy: 0.8999 - val_loss: 1.4501 - val_accuracy: 0.6667\n",
      "Epoch 125/200\n",
      "8/8 [==============================] - 0s 23ms/step - loss: 0.2263 - accuracy: 0.9266 - val_loss: 1.3814 - val_accuracy: 0.6633\n",
      "Epoch 126/200\n",
      "8/8 [==============================] - 0s 19ms/step - loss: 0.2033 - accuracy: 0.9321 - val_loss: 1.3129 - val_accuracy: 0.6733\n",
      "Epoch 127/200\n",
      "8/8 [==============================] - 0s 20ms/step - loss: 0.1683 - accuracy: 0.9511 - val_loss: 1.3208 - val_accuracy: 0.6800\n",
      "Epoch 128/200\n",
      "8/8 [==============================] - 0s 19ms/step - loss: 0.1976 - accuracy: 0.9388 - val_loss: 1.3345 - val_accuracy: 0.6867\n",
      "Epoch 129/200\n",
      "8/8 [==============================] - 0s 19ms/step - loss: 0.1864 - accuracy: 0.9466 - val_loss: 1.3677 - val_accuracy: 0.6767\n",
      "Epoch 130/200\n",
      "8/8 [==============================] - 0s 19ms/step - loss: 0.1456 - accuracy: 0.9555 - val_loss: 1.3740 - val_accuracy: 0.6667\n",
      "Epoch 131/200\n",
      "8/8 [==============================] - 0s 19ms/step - loss: 0.1563 - accuracy: 0.9444 - val_loss: 1.3997 - val_accuracy: 0.6600\n",
      "Epoch 132/200\n",
      "8/8 [==============================] - 0s 23ms/step - loss: 0.2146 - accuracy: 0.9366 - val_loss: 1.4133 - val_accuracy: 0.6567\n",
      "Epoch 133/200\n",
      "8/8 [==============================] - 0s 17ms/step - loss: 0.2886 - accuracy: 0.9043 - val_loss: 1.5526 - val_accuracy: 0.6233\n",
      "Epoch 134/200\n",
      "8/8 [==============================] - 0s 19ms/step - loss: 0.3604 - accuracy: 0.9066 - val_loss: 1.5526 - val_accuracy: 0.6300\n",
      "Epoch 135/200\n",
      "8/8 [==============================] - 0s 20ms/step - loss: 0.2931 - accuracy: 0.9077 - val_loss: 1.5488 - val_accuracy: 0.6400\n",
      "Epoch 136/200\n",
      "8/8 [==============================] - 0s 22ms/step - loss: 0.2581 - accuracy: 0.9210 - val_loss: 1.3706 - val_accuracy: 0.6467\n",
      "Epoch 137/200\n",
      "8/8 [==============================] - 0s 23ms/step - loss: 0.2227 - accuracy: 0.9321 - val_loss: 1.3006 - val_accuracy: 0.6600\n",
      "Epoch 138/200\n",
      "8/8 [==============================] - 0s 22ms/step - loss: 0.1834 - accuracy: 0.9455 - val_loss: 1.3129 - val_accuracy: 0.6700\n",
      "Epoch 139/200\n",
      "8/8 [==============================] - 0s 25ms/step - loss: 0.1667 - accuracy: 0.9499 - val_loss: 1.3644 - val_accuracy: 0.6733\n",
      "Epoch 140/200\n",
      "8/8 [==============================] - 0s 22ms/step - loss: 0.1620 - accuracy: 0.9410 - val_loss: 1.3713 - val_accuracy: 0.6467\n",
      "Epoch 141/200\n",
      "8/8 [==============================] - 0s 25ms/step - loss: 0.1667 - accuracy: 0.9488 - val_loss: 1.4032 - val_accuracy: 0.6533\n",
      "Epoch 142/200\n",
      "8/8 [==============================] - 0s 25ms/step - loss: 0.1777 - accuracy: 0.9455 - val_loss: 1.3571 - val_accuracy: 0.6533\n",
      "Epoch 143/200\n",
      "8/8 [==============================] - 0s 26ms/step - loss: 0.1495 - accuracy: 0.9522 - val_loss: 1.3444 - val_accuracy: 0.6500\n",
      "Epoch 144/200\n",
      "8/8 [==============================] - 0s 25ms/step - loss: 0.1166 - accuracy: 0.9722 - val_loss: 1.3823 - val_accuracy: 0.6667\n",
      "Epoch 145/200\n",
      "8/8 [==============================] - 0s 24ms/step - loss: 0.1632 - accuracy: 0.9466 - val_loss: 1.4451 - val_accuracy: 0.6633\n",
      "Epoch 146/200\n",
      "8/8 [==============================] - 0s 23ms/step - loss: 0.1915 - accuracy: 0.9377 - val_loss: 1.3531 - val_accuracy: 0.6867\n",
      "Epoch 147/200\n",
      "8/8 [==============================] - 0s 23ms/step - loss: 0.3313 - accuracy: 0.9088 - val_loss: 1.4974 - val_accuracy: 0.6633\n",
      "Epoch 148/200\n",
      "8/8 [==============================] - 0s 25ms/step - loss: 0.3550 - accuracy: 0.9110 - val_loss: 1.4306 - val_accuracy: 0.6733\n",
      "Epoch 149/200\n",
      "8/8 [==============================] - 0s 22ms/step - loss: 0.2394 - accuracy: 0.9155 - val_loss: 1.3448 - val_accuracy: 0.6700\n",
      "Epoch 150/200\n",
      "8/8 [==============================] - 0s 21ms/step - loss: 0.2132 - accuracy: 0.9288 - val_loss: 1.3112 - val_accuracy: 0.6800\n",
      "Epoch 151/200\n",
      "8/8 [==============================] - 0s 19ms/step - loss: 0.1829 - accuracy: 0.9444 - val_loss: 1.2913 - val_accuracy: 0.6900\n",
      "Epoch 152/200\n",
      "8/8 [==============================] - 0s 22ms/step - loss: 0.1898 - accuracy: 0.9355 - val_loss: 1.3337 - val_accuracy: 0.6900\n",
      "Epoch 153/200\n",
      "8/8 [==============================] - 0s 21ms/step - loss: 0.2012 - accuracy: 0.9344 - val_loss: 1.3115 - val_accuracy: 0.7067\n",
      "Epoch 154/200\n",
      "8/8 [==============================] - 0s 26ms/step - loss: 0.1870 - accuracy: 0.9366 - val_loss: 1.4100 - val_accuracy: 0.6900\n",
      "Epoch 155/200\n",
      "8/8 [==============================] - 0s 24ms/step - loss: 0.1863 - accuracy: 0.9422 - val_loss: 1.4657 - val_accuracy: 0.6733\n",
      "Epoch 156/200\n",
      "8/8 [==============================] - 0s 19ms/step - loss: 0.1515 - accuracy: 0.9522 - val_loss: 1.5295 - val_accuracy: 0.6800\n",
      "Epoch 157/200\n",
      "8/8 [==============================] - 0s 22ms/step - loss: 0.1298 - accuracy: 0.9577 - val_loss: 1.5014 - val_accuracy: 0.6800\n",
      "Epoch 158/200\n",
      "8/8 [==============================] - 0s 19ms/step - loss: 0.1523 - accuracy: 0.9611 - val_loss: 1.4497 - val_accuracy: 0.6833\n",
      "Epoch 159/200\n",
      "8/8 [==============================] - 0s 18ms/step - loss: 0.1335 - accuracy: 0.9566 - val_loss: 1.3983 - val_accuracy: 0.7067\n",
      "Epoch 160/200\n",
      "8/8 [==============================] - 0s 21ms/step - loss: 0.1255 - accuracy: 0.9611 - val_loss: 1.4137 - val_accuracy: 0.6967\n",
      "Epoch 161/200\n",
      "8/8 [==============================] - 0s 25ms/step - loss: 0.1102 - accuracy: 0.9755 - val_loss: 1.4759 - val_accuracy: 0.6800\n",
      "Epoch 162/200\n",
      "8/8 [==============================] - 0s 22ms/step - loss: 0.1104 - accuracy: 0.9677 - val_loss: 1.5046 - val_accuracy: 0.6767\n",
      "Epoch 163/200\n",
      "8/8 [==============================] - 0s 18ms/step - loss: 0.0884 - accuracy: 0.9744 - val_loss: 1.5233 - val_accuracy: 0.6900\n",
      "Epoch 164/200\n",
      "8/8 [==============================] - 0s 19ms/step - loss: 0.1151 - accuracy: 0.9689 - val_loss: 1.5324 - val_accuracy: 0.6967\n",
      "Epoch 165/200\n",
      "8/8 [==============================] - 0s 18ms/step - loss: 0.1028 - accuracy: 0.9689 - val_loss: 1.5390 - val_accuracy: 0.6833\n",
      "Epoch 166/200\n",
      "8/8 [==============================] - 0s 17ms/step - loss: 0.1134 - accuracy: 0.9566 - val_loss: 1.5429 - val_accuracy: 0.7000\n",
      "Epoch 167/200\n",
      "8/8 [==============================] - 0s 18ms/step - loss: 0.1094 - accuracy: 0.9689 - val_loss: 1.5245 - val_accuracy: 0.6900\n",
      "Epoch 168/200\n",
      "8/8 [==============================] - 0s 19ms/step - loss: 0.1195 - accuracy: 0.9611 - val_loss: 1.7367 - val_accuracy: 0.6700\n",
      "Epoch 169/200\n",
      "8/8 [==============================] - 0s 19ms/step - loss: 0.1565 - accuracy: 0.9488 - val_loss: 1.5215 - val_accuracy: 0.6900\n",
      "Epoch 170/200\n",
      "8/8 [==============================] - 0s 19ms/step - loss: 0.1165 - accuracy: 0.9577 - val_loss: 1.5410 - val_accuracy: 0.6867\n",
      "Epoch 171/200\n",
      "8/8 [==============================] - 0s 19ms/step - loss: 0.1476 - accuracy: 0.9522 - val_loss: 1.6823 - val_accuracy: 0.6567\n",
      "Epoch 172/200\n",
      "8/8 [==============================] - 0s 24ms/step - loss: 0.3808 - accuracy: 0.9055 - val_loss: 1.7172 - val_accuracy: 0.6700\n",
      "Epoch 173/200\n",
      "8/8 [==============================] - 0s 20ms/step - loss: 0.3432 - accuracy: 0.9032 - val_loss: 1.5149 - val_accuracy: 0.6900\n",
      "Epoch 174/200\n",
      "8/8 [==============================] - 0s 21ms/step - loss: 0.1834 - accuracy: 0.9466 - val_loss: 1.4897 - val_accuracy: 0.6733\n"
     ]
    },
    {
     "name": "stdout",
     "output_type": "stream",
     "text": [
      "Epoch 175/200\n",
      "8/8 [==============================] - 0s 21ms/step - loss: 0.1843 - accuracy: 0.9422 - val_loss: 1.4797 - val_accuracy: 0.6700\n",
      "Epoch 176/200\n",
      "8/8 [==============================] - 0s 26ms/step - loss: 0.1556 - accuracy: 0.9499 - val_loss: 1.4495 - val_accuracy: 0.6800\n",
      "Epoch 177/200\n",
      "8/8 [==============================] - 0s 25ms/step - loss: 0.1506 - accuracy: 0.9466 - val_loss: 1.4284 - val_accuracy: 0.6967\n",
      "Epoch 178/200\n",
      "8/8 [==============================] - 0s 21ms/step - loss: 0.1348 - accuracy: 0.9600 - val_loss: 1.4179 - val_accuracy: 0.6933\n",
      "Epoch 179/200\n",
      "8/8 [==============================] - 0s 19ms/step - loss: 0.1257 - accuracy: 0.9555 - val_loss: 1.4539 - val_accuracy: 0.6767\n",
      "Epoch 180/200\n",
      "8/8 [==============================] - 0s 19ms/step - loss: 0.1472 - accuracy: 0.9544 - val_loss: 1.5596 - val_accuracy: 0.6900\n",
      "Epoch 181/200\n",
      "8/8 [==============================] - 0s 18ms/step - loss: 0.4854 - accuracy: 0.9110 - val_loss: 1.6431 - val_accuracy: 0.6700\n",
      "Epoch 182/200\n",
      "8/8 [==============================] - 0s 19ms/step - loss: 0.2322 - accuracy: 0.9288 - val_loss: 1.5521 - val_accuracy: 0.6533\n",
      "Epoch 183/200\n",
      "8/8 [==============================] - 0s 19ms/step - loss: 0.3548 - accuracy: 0.9055 - val_loss: 1.5241 - val_accuracy: 0.6533\n",
      "Epoch 184/200\n",
      "8/8 [==============================] - 0s 22ms/step - loss: 0.3396 - accuracy: 0.8932 - val_loss: 1.3938 - val_accuracy: 0.6500\n",
      "Epoch 185/200\n",
      "8/8 [==============================] - 0s 20ms/step - loss: 0.2512 - accuracy: 0.9244 - val_loss: 1.3371 - val_accuracy: 0.6733\n",
      "Epoch 186/200\n",
      "8/8 [==============================] - 0s 19ms/step - loss: 0.2773 - accuracy: 0.9121 - val_loss: 1.4072 - val_accuracy: 0.6333\n",
      "Epoch 187/200\n",
      "8/8 [==============================] - 0s 19ms/step - loss: 0.2710 - accuracy: 0.9021 - val_loss: 1.2997 - val_accuracy: 0.6867\n",
      "Epoch 188/200\n",
      "8/8 [==============================] - 0s 18ms/step - loss: 0.2023 - accuracy: 0.9466 - val_loss: 1.3310 - val_accuracy: 0.6800\n",
      "Epoch 189/200\n",
      "8/8 [==============================] - 0s 20ms/step - loss: 0.2177 - accuracy: 0.9310 - val_loss: 1.3650 - val_accuracy: 0.6833\n",
      "Epoch 190/200\n",
      "8/8 [==============================] - 0s 22ms/step - loss: 0.2128 - accuracy: 0.9310 - val_loss: 1.4940 - val_accuracy: 0.6367\n",
      "Epoch 191/200\n",
      "8/8 [==============================] - 0s 18ms/step - loss: 0.1926 - accuracy: 0.9399 - val_loss: 1.3721 - val_accuracy: 0.6600\n",
      "Epoch 192/200\n",
      "8/8 [==============================] - 0s 19ms/step - loss: 0.1412 - accuracy: 0.9600 - val_loss: 1.2987 - val_accuracy: 0.6867\n",
      "Epoch 193/200\n",
      "8/8 [==============================] - 0s 21ms/step - loss: 0.1305 - accuracy: 0.9655 - val_loss: 1.3056 - val_accuracy: 0.6800\n",
      "Epoch 194/200\n",
      "8/8 [==============================] - 0s 21ms/step - loss: 0.1095 - accuracy: 0.9755 - val_loss: 1.3653 - val_accuracy: 0.6733\n",
      "Epoch 195/200\n",
      "8/8 [==============================] - 0s 20ms/step - loss: 0.1099 - accuracy: 0.9744 - val_loss: 1.4240 - val_accuracy: 0.6900\n",
      "Epoch 196/200\n",
      "8/8 [==============================] - 0s 19ms/step - loss: 0.1241 - accuracy: 0.9655 - val_loss: 1.4445 - val_accuracy: 0.6967\n",
      "Epoch 197/200\n",
      "8/8 [==============================] - 0s 21ms/step - loss: 0.1293 - accuracy: 0.9600 - val_loss: 1.4497 - val_accuracy: 0.6733\n",
      "Epoch 198/200\n",
      "8/8 [==============================] - 0s 24ms/step - loss: 0.1191 - accuracy: 0.9700 - val_loss: 1.4797 - val_accuracy: 0.6867\n",
      "Epoch 199/200\n",
      "8/8 [==============================] - 0s 26ms/step - loss: 0.1306 - accuracy: 0.9600 - val_loss: 1.4690 - val_accuracy: 0.6933\n",
      "Epoch 200/200\n",
      "8/8 [==============================] - 0s 26ms/step - loss: 0.0824 - accuracy: 0.9789 - val_loss: 1.4760 - val_accuracy: 0.6833\n",
      "10/10 [==============================] - 0s 3ms/step - loss: 1.5345 - accuracy: 0.6633\n"
     ]
    }
   ],
   "source": [
    "model = models.Sequential([\n",
    "layers.Dense(512, activation='relu', input_shape=(X_train.shape[1],)),\n",
    "layers.Dropout(0.2),\n",
    "layers.Dense(256, activation='relu'),\n",
    "layers.Dropout(0.2),\n",
    "layers.Dense(128, activation='relu'),\n",
    "layers.Dropout(0.2),\n",
    "layers.Dense(64, activation='relu'),\n",
    "layers.Dropout(0.2),\n",
    "layers.Dense(15, activation='softmax'),\n",
    "])\n",
    "\n",
    "model.compile(optimizer='adam',\n",
    "              loss='sparse_categorical_crossentropy',\n",
    "              metrics=['accuracy'])\n",
    "\n",
    "trains = model.fit(partial_x_train,\n",
    "          partial_y_train,\n",
    "          epochs=200,\n",
    "          batch_size=128,\n",
    "          validation_data=(x_val, y_val),\n",
    "          shuffle = True,\n",
    "         )\n",
    "results = model.evaluate(X_test, y_test)"
   ]
  },
  {
   "cell_type": "code",
   "execution_count": 51,
   "metadata": {
    "colab": {
     "base_uri": "https://localhost:8080/"
    },
    "id": "Mvi9it1SI4aR",
    "outputId": "70a54dd2-ad17-4627-cdf8-ab06de3ec89f"
   },
   "outputs": [
    {
     "data": {
      "text/plain": [
       "[1.5344949960708618, 0.6633333563804626]"
      ]
     },
     "execution_count": 51,
     "metadata": {},
     "output_type": "execute_result"
    }
   ],
   "source": [
    "#training data loss, accuracy\n",
    "results"
   ]
  },
  {
   "cell_type": "code",
   "execution_count": 52,
   "metadata": {
    "colab": {
     "base_uri": "https://localhost:8080/",
     "height": 927
    },
    "id": "Utgt1bXfJVRN",
    "outputId": "8d9ca987-1e50-4202-809f-4a5a27b9cf45"
   },
   "outputs": [
    {
     "data": {
      "image/png": "[encoded data removed]",
      "text/plain": [
       "<Figure size 432x288 with 1 Axes>"
      ]
     },
     "metadata": {
      "needs_background": "light"
     },
     "output_type": "display_data"
    },
    {
     "data": {
      "image/png": "[encoded data removed]",
      "text/plain": [
       "<Figure size 432x288 with 1 Axes>"
      ]
     },
     "metadata": {
      "needs_background": "light"
     },
     "output_type": "display_data"
    }
   ],
   "source": [
    "plt.figure(0)\n",
    "plt.plot(trains.history['accuracy'],'r')\n",
    "plt.plot(trains.history['val_accuracy'],'g')\n",
    "plt.xlabel(\"Num of Epochs\")\n",
    "plt.ylabel(\"Accuracy\")\n",
    "plt.title(\"Training Accuracy vs Validation Accuracy\")\n",
    "plt.legend(['train','validation'])\n",
    " \n",
    "plt.figure(1)\n",
    "plt.plot(trains.history['loss'],'r')\n",
    "plt.plot(trains.history['val_loss'],'g')\n",
    "plt.xlabel(\"Num of Epochs\")\n",
    "plt.ylabel(\"Loss\")\n",
    "plt.title(\"Training Loss vs Validation Loss\")\n",
    "plt.legend(['train','validation'])\n",
    " \n",
    "plt.show()"
   ]
  },
  {
   "cell_type": "markdown",
   "metadata": {
    "id": "r3hb8s1l4rBA"
   },
   "source": [
    "## Predictions on Test Data"
   ]
  },
  {
   "cell_type": "code",
   "execution_count": 53,
   "metadata": {
    "colab": {
     "base_uri": "https://localhost:8080/"
    },
    "id": "gudBAhIXJIi2",
    "outputId": "b04f0cf8-d6b5-4190-e563-95f4ab68c7de"
   },
   "outputs": [
    {
     "name": "stdout",
     "output_type": "stream",
     "text": [
      "10/10 [==============================] - 0s 6ms/step\n"
     ]
    }
   ],
   "source": [
    "predictions = model.predict(X_test)"
   ]
  },
  {
   "cell_type": "code",
   "execution_count": 54,
   "metadata": {
    "colab": {
     "base_uri": "https://localhost:8080/"
    },
    "id": "Xb7bVPSwJQF0",
    "outputId": "81e831ac-e8b2-4373-c794-aee65bc72bb6"
   },
   "outputs": [
    {
     "data": {
      "text/plain": [
       "(15,)"
      ]
     },
     "execution_count": 54,
     "metadata": {},
     "output_type": "execute_result"
    }
   ],
   "source": [
    "predictions[0].shape"
   ]
  },
  {
   "cell_type": "code",
   "execution_count": 55,
   "metadata": {
    "colab": {
     "base_uri": "https://localhost:8080/"
    },
    "id": "llusRQV0JRy9",
    "outputId": "cf2e0d96-46dd-4967-978c-11df5aafa8da"
   },
   "outputs": [
    {
     "data": {
      "text/plain": [
       "1.0"
      ]
     },
     "execution_count": 55,
     "metadata": {},
     "output_type": "execute_result"
    }
   ],
   "source": [
    "np.sum(predictions[0])"
   ]
  },
  {
   "cell_type": "code",
   "execution_count": 56,
   "metadata": {
    "colab": {
     "base_uri": "https://localhost:8080/",
     "height": 423
    },
    "id": "ax3nJv7SwYgM",
    "outputId": "b2e8a715-1f9e-4032-e8a6-8ae4f8603d8b"
   },
   "outputs": [
    {
     "data": {
      "text/html": [
       "<div>\n",
       "<style scoped>\n",
       "    .dataframe tbody tr th:only-of-type {\n",
       "        vertical-align: middle;\n",
       "    }\n",
       "\n",
       "    .dataframe tbody tr th {\n",
       "        vertical-align: top;\n",
       "    }\n",
       "\n",
       "    .dataframe thead th {\n",
       "        text-align: right;\n",
       "    }\n",
       "</style>\n",
       "<table border=\"1\" class=\"dataframe\">\n",
       "  <thead>\n",
       "    <tr style=\"text-align: right;\">\n",
       "      <th></th>\n",
       "      <th>predictions</th>\n",
       "      <th>actual labels</th>\n",
       "    </tr>\n",
       "  </thead>\n",
       "  <tbody>\n",
       "    <tr>\n",
       "      <th>0</th>\n",
       "      <td>11</td>\n",
       "      <td>11</td>\n",
       "    </tr>\n",
       "    <tr>\n",
       "      <th>1</th>\n",
       "      <td>13</td>\n",
       "      <td>13</td>\n",
       "    </tr>\n",
       "    <tr>\n",
       "      <th>2</th>\n",
       "      <td>4</td>\n",
       "      <td>4</td>\n",
       "    </tr>\n",
       "    <tr>\n",
       "      <th>3</th>\n",
       "      <td>8</td>\n",
       "      <td>4</td>\n",
       "    </tr>\n",
       "    <tr>\n",
       "      <th>4</th>\n",
       "      <td>4</td>\n",
       "      <td>4</td>\n",
       "    </tr>\n",
       "    <tr>\n",
       "      <th>...</th>\n",
       "      <td>...</td>\n",
       "      <td>...</td>\n",
       "    </tr>\n",
       "    <tr>\n",
       "      <th>295</th>\n",
       "      <td>9</td>\n",
       "      <td>9</td>\n",
       "    </tr>\n",
       "    <tr>\n",
       "      <th>296</th>\n",
       "      <td>7</td>\n",
       "      <td>7</td>\n",
       "    </tr>\n",
       "    <tr>\n",
       "      <th>297</th>\n",
       "      <td>2</td>\n",
       "      <td>13</td>\n",
       "    </tr>\n",
       "    <tr>\n",
       "      <th>298</th>\n",
       "      <td>11</td>\n",
       "      <td>11</td>\n",
       "    </tr>\n",
       "    <tr>\n",
       "      <th>299</th>\n",
       "      <td>8</td>\n",
       "      <td>8</td>\n",
       "    </tr>\n",
       "  </tbody>\n",
       "</table>\n",
       "<p>300 rows × 2 columns</p>\n",
       "</div>"
      ],
      "text/plain": [
       "     predictions  actual labels\n",
       "0             11             11\n",
       "1             13             13\n",
       "2              4              4\n",
       "3              8              4\n",
       "4              4              4\n",
       "..           ...            ...\n",
       "295            9              9\n",
       "296            7              7\n",
       "297            2             13\n",
       "298           11             11\n",
       "299            8              8\n",
       "\n",
       "[300 rows x 2 columns]"
      ]
     },
     "execution_count": 56,
     "metadata": {},
     "output_type": "execute_result"
    }
   ],
   "source": [
    "df = pd.DataFrame()\n",
    "df[\"predictions\"] = np.argmax(predictions,axis=1)\n",
    "df[\"actual labels\"] = y_test\n",
    "\n",
    "df"
   ]
  },
  {
   "cell_type": "code",
   "execution_count": 74,
   "metadata": {
    "id": "7CogLvgFwYgN"
   },
   "outputs": [],
   "source": [
    "pick1 = {\n",
    "    'norma':scaler,\n",
    "    'model':model,\n",
    "    'lgn':lookup_genre_name\n",
    "}\n",
    "pickle.dump(pick1, open('model1.p', 'wb'))"
   ]
  },
  {
   "cell_type": "code",
   "execution_count": null,
   "metadata": {
    "colab": {
     "base_uri": "https://localhost:8080/"
    },
    "id": "gfYr5Cuo35r2",
    "outputId": "bead13f7-86f2-4894-b568-2521a1503db8"
   },
   "outputs": [
    {
     "name": "stdout",
     "output_type": "stream",
     "text": [
      "Keras model archive loading:\n",
      "File Name                                             Modified             Size\n",
      "metadata.json                                  2023-03-23 19:23:28           64\n",
      "variables.h5                                   2023-03-23 19:23:30      2285416\n",
      "config.json                                    2023-03-23 19:23:28         2700\n",
      "Keras weights file (<HDF5 file \"variables.h5\" (mode r)>) loading:\n",
      "...layers\n",
      "......dense\n",
      ".........vars\n",
      "............0\n",
      "............1\n",
      "......dense_1\n",
      ".........vars\n",
      "............0\n",
      "............1\n",
      "......dense_2\n",
      ".........vars\n",
      "............0\n",
      "............1\n",
      "......dense_3\n",
      ".........vars\n",
      "............0\n",
      "............1\n",
      "......dense_4\n",
      ".........vars\n",
      "............0\n",
      "............1\n",
      "...metrics\n",
      "......mean\n",
      ".........vars\n",
      "............0\n",
      "............1\n",
      "......mean_metric_wrapper\n",
      ".........vars\n",
      "............0\n",
      "............1\n",
      "...optimizer\n",
      "......vars\n",
      ".........0\n",
      ".........1\n",
      ".........10\n",
      ".........11\n",
      ".........12\n",
      ".........13\n",
      ".........14\n",
      ".........15\n",
      ".........16\n",
      ".........17\n",
      ".........18\n",
      ".........19\n",
      ".........2\n",
      ".........20\n",
      ".........3\n",
      ".........4\n",
      ".........5\n",
      ".........6\n",
      ".........7\n",
      ".........8\n",
      ".........9\n",
      "...vars\n",
      "{'norma': StandardScaler(), 'svmp': <keras.engine.sequential.Sequential object at 0x7f6076e17eb0>, 'lgn': {0: 'blues', 1: 'bollypop', 2: 'carnatic', 3: 'classical', 4: 'country', 5: 'disco', 6: 'ghazal', 7: 'hiphop', 8: 'jazz', 9: 'metal', 10: 'pop', 11: 'reggae', 12: 'rock', 13: 'semiclassical', 14: 'sufi'}}\n"
     ]
    }
   ],
   "source": [
    "pickled_model = pickle.load(open('model1.p', 'rb'))\n",
    "print(pickled_model)"
   ]
  }
 ],
 "metadata": {
  "accelerator": "TPU",
  "colab": {
   "provenance": []
  },
  "gpuClass": "standard",
  "kernelspec": {
   "display_name": "Python 3 (ipykernel)",
   "language": "python",
   "name": "python3"
  },
  "language_info": {
   "codemirror_mode": {
    "name": "ipython",
    "version": 3
   },
   "file_extension": ".py",
   "mimetype": "text/x-python",
   "name": "python",
   "nbconvert_exporter": "python",
   "pygments_lexer": "ipython3",
   "version": "3.8.2"
  }
 },
 "nbformat": 4,
 "nbformat_minor": 1
}
